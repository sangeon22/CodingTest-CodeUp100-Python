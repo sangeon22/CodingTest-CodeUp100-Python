{
  "nbformat": 4,
  "nbformat_minor": 0,
  "metadata": {
    "colab": {
      "name": "6028 [기초-출력변환] 10진 정수 입력받아 16진수로 출력하기2",
      "provenance": [],
      "authorship_tag": "ABX9TyOUz/EJhP/lvWLnX3x78Tji",
      "include_colab_link": true
    },
    "kernelspec": {
      "name": "python3",
      "display_name": "Python 3"
    },
    "language_info": {
      "name": "python"
    }
  },
  "cells": [
    {
      "cell_type": "markdown",
      "metadata": {
        "id": "view-in-github",
        "colab_type": "text"
      },
      "source": [
        "<a href=\"https://colab.research.google.com/github/sangeon22/CodingTest-CodeUp100-Python/blob/main/6028_%5B%EA%B8%B0%EC%B4%88_%EC%B6%9C%EB%A0%A5%EB%B3%80%ED%99%98%5D_10%EC%A7%84_%EC%A0%95%EC%88%98_%EC%9E%85%EB%A0%A5%EB%B0%9B%EC%95%84_16%EC%A7%84%EC%88%98%EB%A1%9C_%EC%B6%9C%EB%A0%A5%ED%95%98%EA%B8%B02.ipynb\" target=\"_parent\"><img src=\"https://colab.research.google.com/assets/colab-badge.svg\" alt=\"Open In Colab\"/></a>"
      ]
    },
    {
      "cell_type": "code",
      "execution_count": 2,
      "metadata": {
        "id": "8csY6hrXNjGz"
      },
      "outputs": [],
      "source": [
        "# 10진수를 입력받아 16진수(hexadecimal)로 출력해보자."
      ]
    },
    {
      "cell_type": "code",
      "source": [
        "a = int(input())\n",
        "print('%X' %a)"
      ],
      "metadata": {
        "colab": {
          "base_uri": "https://localhost:8080/"
        },
        "id": "l3zOqwNLNrAS",
        "outputId": "0bcb4a22-e090-43c7-c569-f81e24ff603b"
      },
      "execution_count": 3,
      "outputs": [
        {
          "output_type": "stream",
          "name": "stdout",
          "text": [
            "44\n",
            "2C\n"
          ]
        }
      ]
    }
  ]
}