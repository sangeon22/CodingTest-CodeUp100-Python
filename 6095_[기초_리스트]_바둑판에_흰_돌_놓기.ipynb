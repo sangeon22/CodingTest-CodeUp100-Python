{
  "nbformat": 4,
  "nbformat_minor": 0,
  "metadata": {
    "colab": {
      "name": "6095 [기초-리스트] 바둑판에 흰 돌 놓기",
      "provenance": [],
      "authorship_tag": "ABX9TyPTc+r5qZb7MtXhslx0z5XM",
      "include_colab_link": true
    },
    "kernelspec": {
      "name": "python3",
      "display_name": "Python 3"
    },
    "language_info": {
      "name": "python"
    }
  },
  "cells": [
    {
      "cell_type": "markdown",
      "metadata": {
        "id": "view-in-github",
        "colab_type": "text"
      },
      "source": [
        "<a href=\"https://colab.research.google.com/github/sangeon22/CodingTest-CodeUp100-Python/blob/main/6095_%5B%EA%B8%B0%EC%B4%88_%EB%A6%AC%EC%8A%A4%ED%8A%B8%5D_%EB%B0%94%EB%91%91%ED%8C%90%EC%97%90_%ED%9D%B0_%EB%8F%8C_%EB%86%93%EA%B8%B0.ipynb\" target=\"_parent\"><img src=\"https://colab.research.google.com/assets/colab-badge.svg\" alt=\"Open In Colab\"/></a>"
      ]
    },
    {
      "cell_type": "code",
      "execution_count": 1,
      "metadata": {
        "colab": {
          "base_uri": "https://localhost:8080/",
          "height": 127
        },
        "id": "uWGNE_uBYz1b",
        "outputId": "8832912d-29e1-499f-ca0b-177f34d72e90"
      },
      "outputs": [
        {
          "output_type": "execute_result",
          "data": {
            "text/plain": [
              "'\\n기숙사 생활을 하는 학교에서 어떤 금요일(전원 귀가일)에는 모두 집으로 귀가를 한다.\\n\\n오랜만에 집에 간 영일이는 아버지와 함께 두던 매우 큰 오목에 대해서 생각해 보다가\\n\"바둑판에 돌을 올린 것을 프로그래밍 할 수 있을까?\"하고 생각하였다.\\n\\n바둑판(19 * 19)에 n개의 흰 돌을 놓는다고 할 때,\\nn개의 흰 돌이 놓인 위치를 출력하는 프로그램을 작성해보자.\\n\\n예시\\nd=[]                        #대괄호 [ ] 를 이용해 아무것도 없는 빈 리스트 만들기\\nfor i in range(20) :\\n  d.append([])         #리스트 안에 다른 리스트 추가해 넣기\\n  for j in range(20) : \\n    d[i].append(0)    #리스트 안에 들어있는 리스트 안에 0 추가해 넣기\\n\\nn = int(input())\\nfor i in range(n) :\\n  x, y = input().split()\\n  d[int(x)][int(y)] = 1\\n\\nfor i in range(1, 20) :\\n  for j in range(1, 20) : \\n    print(d[i][j], end=\\' \\')    #공백을 두고 한 줄로 출력\\n  print()                          #줄 바꿈\\n\\n참고\\n리스트가 들어있는 리스트를 만들면?\\n가로번호, 세로번호를 사용해 2차원 형태의 데이터처럼 쉽게 기록하고 사용할 수 있다.\\n리스트이름[번호][번호] 형식으로 저장되어있는 값을 읽고 쓸 수 있고, 더 확장한 n차원의 리스트도 만들 수 있다.\\n\\n...\\nd=[]\\nfor i in range(20) : \\n  d.append([])\\n  for j in range(20) :  \\n    d[i].append(0)\\n... \\n\\n위와 같이, 모두 0이 채워진 2차원 리스트를 만드는 코드를 아래와 같은 방법으로 짧게 만들 수도 있다.\\n... [0 for j in range(20)]  #20개의 0이 들어간 [0, 0, 0, ... , 0, 0, 0] 리스트 \\n아래처럼 작성하면 위와 같은 리스트가 20개가 들어간 리스트를 한 번에 만들어 준다.\\n\\nd = [[0 for j in range(20)] for i in range(20)]\\n\\n이러한 리스트 생성 방식을 List Comprehensions 라고 한다.\\n'"
            ],
            "application/vnd.google.colaboratory.intrinsic+json": {
              "type": "string"
            }
          },
          "metadata": {},
          "execution_count": 1
        }
      ],
      "source": [
        "\"\"\"\n",
        "기숙사 생활을 하는 학교에서 어떤 금요일(전원 귀가일)에는 모두 집으로 귀가를 한다.\n",
        "\n",
        "오랜만에 집에 간 영일이는 아버지와 함께 두던 매우 큰 오목에 대해서 생각해 보다가\n",
        "\"바둑판에 돌을 올린 것을 프로그래밍 할 수 있을까?\"하고 생각하였다.\n",
        "\n",
        "바둑판(19 * 19)에 n개의 흰 돌을 놓는다고 할 때,\n",
        "n개의 흰 돌이 놓인 위치를 출력하는 프로그램을 작성해보자.\n",
        "\n",
        "예시\n",
        "d=[]                        #대괄호 [ ] 를 이용해 아무것도 없는 빈 리스트 만들기\n",
        "for i in range(20) :\n",
        "  d.append([])         #리스트 안에 다른 리스트 추가해 넣기\n",
        "  for j in range(20) : \n",
        "    d[i].append(0)    #리스트 안에 들어있는 리스트 안에 0 추가해 넣기\n",
        "\n",
        "n = int(input())\n",
        "for i in range(n) :\n",
        "  x, y = input().split()\n",
        "  d[int(x)][int(y)] = 1\n",
        "\n",
        "for i in range(1, 20) :\n",
        "  for j in range(1, 20) : \n",
        "    print(d[i][j], end=' ')    #공백을 두고 한 줄로 출력\n",
        "  print()                          #줄 바꿈\n",
        "\n",
        "참고\n",
        "리스트가 들어있는 리스트를 만들면?\n",
        "가로번호, 세로번호를 사용해 2차원 형태의 데이터처럼 쉽게 기록하고 사용할 수 있다.\n",
        "리스트이름[번호][번호] 형식으로 저장되어있는 값을 읽고 쓸 수 있고, 더 확장한 n차원의 리스트도 만들 수 있다.\n",
        "\n",
        "...\n",
        "d=[]\n",
        "for i in range(20) : \n",
        "  d.append([])\n",
        "  for j in range(20) :  \n",
        "    d[i].append(0)\n",
        "... \n",
        "\n",
        "위와 같이, 모두 0이 채워진 2차원 리스트를 만드는 코드를 아래와 같은 방법으로 짧게 만들 수도 있다.\n",
        "... [0 for j in range(20)]  #20개의 0이 들어간 [0, 0, 0, ... , 0, 0, 0] 리스트 \n",
        "아래처럼 작성하면 위와 같은 리스트가 20개가 들어간 리스트를 한 번에 만들어 준다.\n",
        "\n",
        "d = [[0 for j in range(20)] for i in range(20)]\n",
        "\n",
        "이러한 리스트 생성 방식을 List Comprehensions 라고 한다.\n",
        "\"\"\""
      ]
    },
    {
      "cell_type": "code",
      "source": [
        "# 빈 바둑판 배열을 담을 리스트\n",
        "d=[]\n",
        "\n",
        "n = int(input())\n",
        "\n",
        "# 19*19 바둑판 배열 생성\n",
        "for i in range(20) :\n",
        "  d.append([])\n",
        "  for j in range(20):\n",
        "    d[i].append(0)\n",
        "\n",
        "# 선택된 x,y 죄표는 1로 대체\n",
        "for i in range(n):\n",
        "  x,y = map(int, input().split())\n",
        "  d[x][y] = 1\n",
        "\n",
        "# 바둑판 배열 출력\n",
        "for i in range(1,20):\n",
        "  for j in range(1,20):\n",
        "    print(d[i][j], end=' ')\n",
        "  print()"
      ],
      "metadata": {
        "colab": {
          "base_uri": "https://localhost:8080/"
        },
        "id": "pR66Qhf8Za0n",
        "outputId": "70c46cfb-03a2-4344-9450-888783a0e1c0"
      },
      "execution_count": 18,
      "outputs": [
        {
          "output_type": "stream",
          "name": "stdout",
          "text": [
            "5\n",
            "1 1\n",
            "2 2\n",
            "3 3\n",
            "4 4\n",
            "5 5\n",
            "1 0 0 0 0 0 0 0 0 0 0 0 0 0 0 0 0 0 0 \n",
            "0 1 0 0 0 0 0 0 0 0 0 0 0 0 0 0 0 0 0 \n",
            "0 0 1 0 0 0 0 0 0 0 0 0 0 0 0 0 0 0 0 \n",
            "0 0 0 1 0 0 0 0 0 0 0 0 0 0 0 0 0 0 0 \n",
            "0 0 0 0 1 0 0 0 0 0 0 0 0 0 0 0 0 0 0 \n",
            "0 0 0 0 0 0 0 0 0 0 0 0 0 0 0 0 0 0 0 \n",
            "0 0 0 0 0 0 0 0 0 0 0 0 0 0 0 0 0 0 0 \n",
            "0 0 0 0 0 0 0 0 0 0 0 0 0 0 0 0 0 0 0 \n",
            "0 0 0 0 0 0 0 0 0 0 0 0 0 0 0 0 0 0 0 \n",
            "0 0 0 0 0 0 0 0 0 0 0 0 0 0 0 0 0 0 0 \n",
            "0 0 0 0 0 0 0 0 0 0 0 0 0 0 0 0 0 0 0 \n",
            "0 0 0 0 0 0 0 0 0 0 0 0 0 0 0 0 0 0 0 \n",
            "0 0 0 0 0 0 0 0 0 0 0 0 0 0 0 0 0 0 0 \n",
            "0 0 0 0 0 0 0 0 0 0 0 0 0 0 0 0 0 0 0 \n",
            "0 0 0 0 0 0 0 0 0 0 0 0 0 0 0 0 0 0 0 \n",
            "0 0 0 0 0 0 0 0 0 0 0 0 0 0 0 0 0 0 0 \n",
            "0 0 0 0 0 0 0 0 0 0 0 0 0 0 0 0 0 0 0 \n",
            "0 0 0 0 0 0 0 0 0 0 0 0 0 0 0 0 0 0 0 \n",
            "0 0 0 0 0 0 0 0 0 0 0 0 0 0 0 0 0 0 0 \n"
          ]
        }
      ]
    },
    {
      "cell_type": "code",
      "source": [
        "#  List Comprehensions 사용하여 바둑판 배열 생성\n",
        "d = [[0 for j in range(20)] for i in range (20)]\n",
        "\n",
        "n = int(input())\n",
        "\n",
        "# 선택된 x,y 죄표는 1로 대체\n",
        "for i in range(n):\n",
        "  x,y = map(int, input().split())\n",
        "  d[x][y] = 1\n",
        "\n",
        "# 바둑판 배열 출력\n",
        "for i in range(1,20):\n",
        "  for j in range(1,20):\n",
        "    print(d[i][j], end=' ')\n",
        "  print()"
      ],
      "metadata": {
        "colab": {
          "base_uri": "https://localhost:8080/"
        },
        "id": "FY7y1pLBd2Hx",
        "outputId": "731cb373-f445-4935-f843-5896515350da"
      },
      "execution_count": 30,
      "outputs": [
        {
          "output_type": "stream",
          "name": "stdout",
          "text": [
            "5\n",
            "1 1\n",
            "2 2\n",
            "3 3\n",
            "4 4\n",
            "5 5\n",
            "1 0 0 0 0 0 0 0 0 0 0 0 0 0 0 0 0 0 0 \n",
            "0 1 0 0 0 0 0 0 0 0 0 0 0 0 0 0 0 0 0 \n",
            "0 0 1 0 0 0 0 0 0 0 0 0 0 0 0 0 0 0 0 \n",
            "0 0 0 1 0 0 0 0 0 0 0 0 0 0 0 0 0 0 0 \n",
            "0 0 0 0 1 0 0 0 0 0 0 0 0 0 0 0 0 0 0 \n",
            "0 0 0 0 0 0 0 0 0 0 0 0 0 0 0 0 0 0 0 \n",
            "0 0 0 0 0 0 0 0 0 0 0 0 0 0 0 0 0 0 0 \n",
            "0 0 0 0 0 0 0 0 0 0 0 0 0 0 0 0 0 0 0 \n",
            "0 0 0 0 0 0 0 0 0 0 0 0 0 0 0 0 0 0 0 \n",
            "0 0 0 0 0 0 0 0 0 0 0 0 0 0 0 0 0 0 0 \n",
            "0 0 0 0 0 0 0 0 0 0 0 0 0 0 0 0 0 0 0 \n",
            "0 0 0 0 0 0 0 0 0 0 0 0 0 0 0 0 0 0 0 \n",
            "0 0 0 0 0 0 0 0 0 0 0 0 0 0 0 0 0 0 0 \n",
            "0 0 0 0 0 0 0 0 0 0 0 0 0 0 0 0 0 0 0 \n",
            "0 0 0 0 0 0 0 0 0 0 0 0 0 0 0 0 0 0 0 \n",
            "0 0 0 0 0 0 0 0 0 0 0 0 0 0 0 0 0 0 0 \n",
            "0 0 0 0 0 0 0 0 0 0 0 0 0 0 0 0 0 0 0 \n",
            "0 0 0 0 0 0 0 0 0 0 0 0 0 0 0 0 0 0 0 \n",
            "0 0 0 0 0 0 0 0 0 0 0 0 0 0 0 0 0 0 0 \n"
          ]
        }
      ]
    }
  ]
}