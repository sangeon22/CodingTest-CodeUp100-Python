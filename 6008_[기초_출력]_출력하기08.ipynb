{
  "nbformat": 4,
  "nbformat_minor": 0,
  "metadata": {
    "colab": {
      "name": "6008 [기초-출력] 출력하기08",
      "provenance": [],
      "authorship_tag": "ABX9TyNacPiqJk71pzvWf/gds+gN",
      "include_colab_link": true
    },
    "kernelspec": {
      "name": "python3",
      "display_name": "Python 3"
    },
    "language_info": {
      "name": "python"
    }
  },
  "cells": [
    {
      "cell_type": "markdown",
      "metadata": {
        "id": "view-in-github",
        "colab_type": "text"
      },
      "source": [
        "<a href=\"https://colab.research.google.com/github/sangeon22/CodingTest-CodeUp100-Python/blob/main/6008_%5B%EA%B8%B0%EC%B4%88_%EC%B6%9C%EB%A0%A5%5D_%EC%B6%9C%EB%A0%A5%ED%95%98%EA%B8%B008.ipynb\" target=\"_parent\"><img src=\"https://colab.research.google.com/assets/colab-badge.svg\" alt=\"Open In Colab\"/></a>"
      ]
    },
    {
      "cell_type": "code",
      "execution_count": 1,
      "metadata": {
        "id": "Yb8AqRWfjE7F"
      },
      "outputs": [],
      "source": [
        "# 출력문 연습의 마지막 문제이다.\n",
        "# (생각과 시도를 많이 해야하는 문제들은 한 두 문제씩 넘겼다가 나중에 풀어보면 된다.)\n",
        "\n",
        "# 이번에는 다음과 같은 python프로그램의 소스코드를 출력해보자.\n",
        "\n",
        "# print(\"Hello\\nWorld\")\n",
        "\n",
        "# 위 코드를 정확히 그대로 출력하시오.(공백문자 주의)"
      ]
    },
    {
      "cell_type": "code",
      "source": [
        "print(\"print(\\\"Hello\\\\nWorld\\\")\")"
      ],
      "metadata": {
        "colab": {
          "base_uri": "https://localhost:8080/"
        },
        "id": "XYEqob_qjODB",
        "outputId": "491b9fe0-7f39-4021-e0af-254c7405ae4d"
      },
      "execution_count": 3,
      "outputs": [
        {
          "output_type": "stream",
          "name": "stdout",
          "text": [
            "print(\"Hello\\nWorld\")\n"
          ]
        }
      ]
    }
  ]
}