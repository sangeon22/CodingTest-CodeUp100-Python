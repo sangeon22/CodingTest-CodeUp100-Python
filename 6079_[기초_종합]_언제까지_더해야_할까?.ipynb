{
  "nbformat": 4,
  "nbformat_minor": 0,
  "metadata": {
    "colab": {
      "name": "6079 [기초-종합] 언제까지 더해야 할까?",
      "provenance": [],
      "authorship_tag": "ABX9TyOUNu9Ai3uwEMQYO0kAcgS6",
      "include_colab_link": true
    },
    "kernelspec": {
      "name": "python3",
      "display_name": "Python 3"
    },
    "language_info": {
      "name": "python"
    }
  },
  "cells": [
    {
      "cell_type": "markdown",
      "metadata": {
        "id": "view-in-github",
        "colab_type": "text"
      },
      "source": [
        "<a href=\"https://colab.research.google.com/github/sangeon22/CodingTest-CodeUp100-Python/blob/main/6079_%5B%EA%B8%B0%EC%B4%88_%EC%A2%85%ED%95%A9%5D_%EC%96%B8%EC%A0%9C%EA%B9%8C%EC%A7%80_%EB%8D%94%ED%95%B4%EC%95%BC_%ED%95%A0%EA%B9%8C%3F.ipynb\" target=\"_parent\"><img src=\"https://colab.research.google.com/assets/colab-badge.svg\" alt=\"Open In Colab\"/></a>"
      ]
    },
    {
      "cell_type": "code",
      "execution_count": 4,
      "metadata": {
        "id": "XIiK9oamMP2i"
      },
      "outputs": [],
      "source": [
        "# 1, 2, 3 ... 을 계속 더해 나갈 때,\n",
        "# 그 합이 입력한 정수(0 ~ 1000)보다 같거나 작을 때까지만\n",
        "# 계속 더하는 프로그램을 작성해보자.\n",
        "\n",
        "# 즉, 1부터 n까지 정수를 계속 더해 나간다고 할 때,\n",
        "# 어디까지 더해야 입력한 수보다 같거나 커지는 지를 알아보고자하는 문제이다.\n"
      ]
    },
    {
      "cell_type": "code",
      "source": [
        "target = int(input())\n",
        "sum = 0\n",
        "i = 0\n",
        "while True:\n",
        "  i += 1\n",
        "  sum += i\n",
        "  if(sum>=target):\n",
        "    print(i)\n",
        "    break"
      ],
      "metadata": {
        "colab": {
          "base_uri": "https://localhost:8080/"
        },
        "id": "5TKspFfIMjYf",
        "outputId": "f6ccdc95-af38-46ab-81fc-54b42e233a72"
      },
      "execution_count": 52,
      "outputs": [
        {
          "output_type": "stream",
          "name": "stdout",
          "text": [
            "55\n",
            "10\n"
          ]
        }
      ]
    }
  ]
}