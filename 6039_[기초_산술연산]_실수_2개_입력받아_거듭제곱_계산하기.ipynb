{
  "nbformat": 4,
  "nbformat_minor": 0,
  "metadata": {
    "colab": {
      "name": "6039 [기초-산술연산] 실수 2개 입력받아 거듭제곱 계산하기",
      "provenance": [],
      "authorship_tag": "ABX9TyPTdKeTbnxBlfC1Va5GLX+k",
      "include_colab_link": true
    },
    "kernelspec": {
      "name": "python3",
      "display_name": "Python 3"
    },
    "language_info": {
      "name": "python"
    }
  },
  "cells": [
    {
      "cell_type": "markdown",
      "metadata": {
        "id": "view-in-github",
        "colab_type": "text"
      },
      "source": [
        "<a href=\"https://colab.research.google.com/github/sangeon22/CodingTest-CodeUp100-Python/blob/main/6039_%5B%EA%B8%B0%EC%B4%88_%EC%82%B0%EC%88%A0%EC%97%B0%EC%82%B0%5D_%EC%8B%A4%EC%88%98_2%EA%B0%9C_%EC%9E%85%EB%A0%A5%EB%B0%9B%EC%95%84_%EA%B1%B0%EB%93%AD%EC%A0%9C%EA%B3%B1_%EA%B3%84%EC%82%B0%ED%95%98%EA%B8%B0.ipynb\" target=\"_parent\"><img src=\"https://colab.research.google.com/assets/colab-badge.svg\" alt=\"Open In Colab\"/></a>"
      ]
    },
    {
      "cell_type": "code",
      "execution_count": 1,
      "metadata": {
        "id": "KhcNFrgzNzkJ"
      },
      "outputs": [],
      "source": [
        "# 실수 2개(f1, f2)를 입력받아\n",
        "# f1을 f2번 거듭제곱한 값을 출력하는 프로그램을 작성해보자."
      ]
    },
    {
      "cell_type": "code",
      "source": [
        "f1, f2 = map(float, input().split())\n",
        "print(f1**f2)"
      ],
      "metadata": {
        "colab": {
          "base_uri": "https://localhost:8080/"
        },
        "id": "epO5PExJN3bf",
        "outputId": "858da7e7-8270-4462-c9ce-beea7eae2f41"
      },
      "execution_count": 5,
      "outputs": [
        {
          "output_type": "stream",
          "name": "stdout",
          "text": [
            "4.0 2.0\n",
            "16.0\n"
          ]
        }
      ]
    }
  ]
}