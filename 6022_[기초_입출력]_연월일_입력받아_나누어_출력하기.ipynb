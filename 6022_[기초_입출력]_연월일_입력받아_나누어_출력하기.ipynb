{
  "nbformat": 4,
  "nbformat_minor": 0,
  "metadata": {
    "colab": {
      "name": "6022 [기초-입출력] 연월일 입력받아 나누어 출력하기",
      "provenance": [],
      "authorship_tag": "ABX9TyOmHP2bBKagCCK4NObwD1bv",
      "include_colab_link": true
    },
    "kernelspec": {
      "name": "python3",
      "display_name": "Python 3"
    },
    "language_info": {
      "name": "python"
    }
  },
  "cells": [
    {
      "cell_type": "markdown",
      "metadata": {
        "id": "view-in-github",
        "colab_type": "text"
      },
      "source": [
        "<a href=\"https://colab.research.google.com/github/sangeon22/CodingTest-CodeUp100-Python/blob/main/6022_%5B%EA%B8%B0%EC%B4%88_%EC%9E%85%EC%B6%9C%EB%A0%A5%5D_%EC%97%B0%EC%9B%94%EC%9D%BC_%EC%9E%85%EB%A0%A5%EB%B0%9B%EC%95%84_%EB%82%98%EB%88%84%EC%96%B4_%EC%B6%9C%EB%A0%A5%ED%95%98%EA%B8%B0.ipynb\" target=\"_parent\"><img src=\"https://colab.research.google.com/assets/colab-badge.svg\" alt=\"Open In Colab\"/></a>"
      ]
    },
    {
      "cell_type": "code",
      "execution_count": 1,
      "metadata": {
        "id": "NSZnyufcCNSt"
      },
      "outputs": [],
      "source": [
        "# 6자리의 연월일(YYMMDD)을 입력받아 나누어 출력해보자."
      ]
    },
    {
      "cell_type": "code",
      "source": [
        "a = input()\n",
        "print(a[0:2], a[2:4], a[4:6], sep =' ')"
      ],
      "metadata": {
        "colab": {
          "base_uri": "https://localhost:8080/"
        },
        "id": "SOx1S50cCPN-",
        "outputId": "24ba1cfa-b422-438e-ffef-597c06f78da6"
      },
      "execution_count": 13,
      "outputs": [
        {
          "output_type": "stream",
          "name": "stdout",
          "text": [
            "970318\n",
            "97 03 18\n"
          ]
        }
      ]
    },
    {
      "cell_type": "code",
      "source": [
        ""
      ],
      "metadata": {
        "id": "cla7-A6WDPcT"
      },
      "execution_count": null,
      "outputs": []
    }
  ]
}