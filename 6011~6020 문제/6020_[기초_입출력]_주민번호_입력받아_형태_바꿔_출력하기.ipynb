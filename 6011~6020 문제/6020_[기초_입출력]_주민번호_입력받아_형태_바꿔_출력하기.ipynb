{
  "nbformat": 4,
  "nbformat_minor": 0,
  "metadata": {
    "colab": {
      "name": "6020 [기초-입출력] 주민번호 입력받아 형태 바꿔 출력하기",
      "provenance": [],
      "authorship_tag": "ABX9TyMmng97xg99KiJqOJL4skvX",
      "include_colab_link": true
    },
    "kernelspec": {
      "name": "python3",
      "display_name": "Python 3"
    },
    "language_info": {
      "name": "python"
    }
  },
  "cells": [
    {
      "cell_type": "markdown",
      "metadata": {
        "id": "view-in-github",
        "colab_type": "text"
      },
      "source": [
        "<a href=\"https://colab.research.google.com/github/sangeon22/CodingTest-CodeUp100-Python/blob/main/6020_%5B%EA%B8%B0%EC%B4%88_%EC%9E%85%EC%B6%9C%EB%A0%A5%5D_%EC%A3%BC%EB%AF%BC%EB%B2%88%ED%98%B8_%EC%9E%85%EB%A0%A5%EB%B0%9B%EC%95%84_%ED%98%95%ED%83%9C_%EB%B0%94%EA%BF%94_%EC%B6%9C%EB%A0%A5%ED%95%98%EA%B8%B0.ipynb\" target=\"_parent\"><img src=\"https://colab.research.google.com/assets/colab-badge.svg\" alt=\"Open In Colab\"/></a>"
      ]
    },
    {
      "cell_type": "code",
      "execution_count": 1,
      "metadata": {
        "id": "QTYKKLIDAChN"
      },
      "outputs": [],
      "source": [
        "# 주민번호는 다음과 같이 구성된다.\n",
        "# XXXXXX-XXXXXXX\n",
        "\n",
        "# 왼쪽 6자리는 생년월일(YYMMDD)이고, 오른쪽 7자리는 성별,출생지역,확인코드로 구성되어있다.\n",
        "# 주민번호를 입력받아 형태를 바꿔 출력해보자."
      ]
    },
    {
      "cell_type": "code",
      "source": [
        "a,b = input().split('-')\n",
        "print(a,b,sep='')"
      ],
      "metadata": {
        "colab": {
          "base_uri": "https://localhost:8080/"
        },
        "id": "ebvwt6iUAHQb",
        "outputId": "7679a3ed-bdfc-4eef-e1b0-108e18699b5d"
      },
      "execution_count": 3,
      "outputs": [
        {
          "output_type": "stream",
          "name": "stdout",
          "text": [
            "000907-1121112\n",
            "0009071121112\n"
          ]
        }
      ]
    }
  ]
}