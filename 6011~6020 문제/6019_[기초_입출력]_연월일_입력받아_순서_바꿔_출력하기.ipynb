{
  "nbformat": 4,
  "nbformat_minor": 0,
  "metadata": {
    "colab": {
      "name": "6019 [기초-입출력] 연월일 입력받아 순서 바꿔 출력하기",
      "provenance": [],
      "authorship_tag": "ABX9TyMYPvUXbg4sAxa5+tcjf8om",
      "include_colab_link": true
    },
    "kernelspec": {
      "name": "python3",
      "display_name": "Python 3"
    },
    "language_info": {
      "name": "python"
    }
  },
  "cells": [
    {
      "cell_type": "markdown",
      "metadata": {
        "id": "view-in-github",
        "colab_type": "text"
      },
      "source": [
        "<a href=\"https://colab.research.google.com/github/sangeon22/CodingTest-CodeUp100-Python/blob/main/6019_%5B%EA%B8%B0%EC%B4%88_%EC%9E%85%EC%B6%9C%EB%A0%A5%5D_%EC%97%B0%EC%9B%94%EC%9D%BC_%EC%9E%85%EB%A0%A5%EB%B0%9B%EC%95%84_%EC%88%9C%EC%84%9C_%EB%B0%94%EA%BF%94_%EC%B6%9C%EB%A0%A5%ED%95%98%EA%B8%B0.ipynb\" target=\"_parent\"><img src=\"https://colab.research.google.com/assets/colab-badge.svg\" alt=\"Open In Colab\"/></a>"
      ]
    },
    {
      "cell_type": "code",
      "execution_count": 1,
      "metadata": {
        "id": "jwYu_DWo_O9P"
      },
      "outputs": [],
      "source": [
        "# \"연도.월.일\"을 입력받아 \"일-월-연도\" 순서로 바꿔 출력해보자."
      ]
    },
    {
      "cell_type": "code",
      "source": [
        "a,b,c= input().split('.')\n",
        "print(c,b,a, sep='-')"
      ],
      "metadata": {
        "colab": {
          "base_uri": "https://localhost:8080/"
        },
        "id": "yfVoeJXI_SYi",
        "outputId": "0be406ee-5ddf-4c3d-f0af-9143ef4d5c8d"
      },
      "execution_count": 5,
      "outputs": [
        {
          "output_type": "stream",
          "name": "stdout",
          "text": [
            "1997.03.18\n",
            "18-03-1997\n"
          ]
        }
      ]
    }
  ]
}