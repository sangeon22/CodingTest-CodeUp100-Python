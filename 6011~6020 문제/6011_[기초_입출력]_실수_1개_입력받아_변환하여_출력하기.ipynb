{
  "nbformat": 4,
  "nbformat_minor": 0,
  "metadata": {
    "colab": {
      "name": "6011 [기초-입출력] 실수 1개 입력받아 변환하여 출력하기",
      "provenance": [],
      "authorship_tag": "ABX9TyPZH7BG3/cgaR182P8qPtkF",
      "include_colab_link": true
    },
    "kernelspec": {
      "name": "python3",
      "display_name": "Python 3"
    },
    "language_info": {
      "name": "python"
    }
  },
  "cells": [
    {
      "cell_type": "markdown",
      "metadata": {
        "id": "view-in-github",
        "colab_type": "text"
      },
      "source": [
        "<a href=\"https://colab.research.google.com/github/sangeon22/CodingTest-CodeUp100-Python/blob/main/6011_%5B%EA%B8%B0%EC%B4%88_%EC%9E%85%EC%B6%9C%EB%A0%A5%5D_%EC%8B%A4%EC%88%98_1%EA%B0%9C_%EC%9E%85%EB%A0%A5%EB%B0%9B%EC%95%84_%EB%B3%80%ED%99%98%ED%95%98%EC%97%AC_%EC%B6%9C%EB%A0%A5%ED%95%98%EA%B8%B0.ipynb\" target=\"_parent\"><img src=\"https://colab.research.google.com/assets/colab-badge.svg\" alt=\"Open In Colab\"/></a>"
      ]
    },
    {
      "cell_type": "code",
      "execution_count": 1,
      "metadata": {
        "id": "WzyTT67htCt6"
      },
      "outputs": [],
      "source": [
        "# 숫자(0~9)와 소수점(.)을 사용해 표현한 수를 실수(real number)라고 한다.\n",
        "\n",
        "# 변수에 실수값을 저장한 후\n",
        "# 변수에 저장되어 있는 값을 그대로 출력해보자.\n"
      ]
    },
    {
      "cell_type": "code",
      "source": [
        "a = input()\n",
        "a = float(a)\n",
        "print(a)"
      ],
      "metadata": {
        "colab": {
          "base_uri": "https://localhost:8080/"
        },
        "id": "LrGqsMAKtOq-",
        "outputId": "90f9cc0f-e1d1-4dd5-e84c-c453e6fd1065"
      },
      "execution_count": 4,
      "outputs": [
        {
          "output_type": "stream",
          "name": "stdout",
          "text": [
            "3.14\n",
            "3.14\n"
          ]
        }
      ]
    }
  ]
}