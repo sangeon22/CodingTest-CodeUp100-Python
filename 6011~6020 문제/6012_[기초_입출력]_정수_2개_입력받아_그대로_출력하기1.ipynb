{
  "nbformat": 4,
  "nbformat_minor": 0,
  "metadata": {
    "colab": {
      "name": "6012 [기초-입출력] 정수 2개 입력받아 그대로 출력하기1",
      "provenance": [],
      "authorship_tag": "ABX9TyOC2+odnV8FYFgFrOl1nebg",
      "include_colab_link": true
    },
    "kernelspec": {
      "name": "python3",
      "display_name": "Python 3"
    },
    "language_info": {
      "name": "python"
    }
  },
  "cells": [
    {
      "cell_type": "markdown",
      "metadata": {
        "id": "view-in-github",
        "colab_type": "text"
      },
      "source": [
        "<a href=\"https://colab.research.google.com/github/sangeon22/CodingTest-CodeUp100-Python/blob/main/6012_%5B%EA%B8%B0%EC%B4%88_%EC%9E%85%EC%B6%9C%EB%A0%A5%5D_%EC%A0%95%EC%88%98_2%EA%B0%9C_%EC%9E%85%EB%A0%A5%EB%B0%9B%EC%95%84_%EA%B7%B8%EB%8C%80%EB%A1%9C_%EC%B6%9C%EB%A0%A5%ED%95%98%EA%B8%B01.ipynb\" target=\"_parent\"><img src=\"https://colab.research.google.com/assets/colab-badge.svg\" alt=\"Open In Colab\"/></a>"
      ]
    },
    {
      "cell_type": "code",
      "execution_count": 1,
      "metadata": {
        "id": "6zGxBoGNtgDu"
      },
      "outputs": [],
      "source": [
        "# 줄을 바꿔 정수(integer) 2개를 입력받아 줄을 바꿔 출력해보자."
      ]
    },
    {
      "cell_type": "code",
      "source": [
        "a = input()\n",
        "a = int(a)\n",
        "b = input()\n",
        "b = int(b)\n",
        "\n",
        "print(a)\n",
        "print(b)"
      ],
      "metadata": {
        "colab": {
          "base_uri": "https://localhost:8080/"
        },
        "id": "6OfbD1T_tn1_",
        "outputId": "2812f3e0-4fef-40f8-d705-da1aec1a28ac"
      },
      "execution_count": 7,
      "outputs": [
        {
          "output_type": "stream",
          "name": "stdout",
          "text": [
            "5\n",
            "6\n",
            "5\n",
            "6\n"
          ]
        }
      ]
    }
  ]
}