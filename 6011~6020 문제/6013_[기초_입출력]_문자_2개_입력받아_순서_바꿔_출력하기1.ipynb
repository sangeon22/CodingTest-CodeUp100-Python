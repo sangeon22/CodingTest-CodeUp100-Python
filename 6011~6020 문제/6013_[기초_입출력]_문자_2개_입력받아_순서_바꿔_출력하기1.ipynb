{
  "nbformat": 4,
  "nbformat_minor": 0,
  "metadata": {
    "colab": {
      "name": "6013 [기초-입출력] 문자 2개 입력받아 순서 바꿔 출력하기1",
      "provenance": [],
      "authorship_tag": "ABX9TyOfA/+WTpwQnwIr8yltqZEW",
      "include_colab_link": true
    },
    "kernelspec": {
      "name": "python3",
      "display_name": "Python 3"
    },
    "language_info": {
      "name": "python"
    }
  },
  "cells": [
    {
      "cell_type": "markdown",
      "metadata": {
        "id": "view-in-github",
        "colab_type": "text"
      },
      "source": [
        "<a href=\"https://colab.research.google.com/github/sangeon22/CodingTest-CodeUp100-Python/blob/main/6013_%5B%EA%B8%B0%EC%B4%88_%EC%9E%85%EC%B6%9C%EB%A0%A5%5D_%EB%AC%B8%EC%9E%90_2%EA%B0%9C_%EC%9E%85%EB%A0%A5%EB%B0%9B%EC%95%84_%EC%88%9C%EC%84%9C_%EB%B0%94%EA%BF%94_%EC%B6%9C%EB%A0%A5%ED%95%98%EA%B8%B01.ipynb\" target=\"_parent\"><img src=\"https://colab.research.google.com/assets/colab-badge.svg\" alt=\"Open In Colab\"/></a>"
      ]
    },
    {
      "cell_type": "code",
      "execution_count": 1,
      "metadata": {
        "id": "ZZIb4jdXunAL"
      },
      "outputs": [],
      "source": [
        "# 줄을 바꿔 문자(character) 2개를 입력받고, 순서를 바꿔 한 줄씩 출력해보자."
      ]
    },
    {
      "cell_type": "code",
      "source": [
        "a = input()\n",
        "b = input()\n",
        "\n",
        "print(b)\n",
        "print(a)"
      ],
      "metadata": {
        "colab": {
          "base_uri": "https://localhost:8080/"
        },
        "id": "AlFkGSHiuxLU",
        "outputId": "818c5f52-cca6-47de-cf32-6f0345f66902"
      },
      "execution_count": 2,
      "outputs": [
        {
          "output_type": "stream",
          "name": "stdout",
          "text": [
            "d\n",
            "a\n",
            "a\n",
            "d\n"
          ]
        }
      ]
    },
    {
      "cell_type": "code",
      "source": [
        "d"
      ],
      "metadata": {
        "id": "cZkQRCaavEVm"
      },
      "execution_count": null,
      "outputs": []
    }
  ]
}