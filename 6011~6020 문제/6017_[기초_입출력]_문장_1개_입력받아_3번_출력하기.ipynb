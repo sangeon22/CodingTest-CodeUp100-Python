{
  "nbformat": 4,
  "nbformat_minor": 0,
  "metadata": {
    "colab": {
      "name": "6017 [기초-입출력] 문장 1개 입력받아 3번 출력하기",
      "provenance": [],
      "authorship_tag": "ABX9TyNHkvSc6mz1X85Ogk2ogHKj",
      "include_colab_link": true
    },
    "kernelspec": {
      "name": "python3",
      "display_name": "Python 3"
    },
    "language_info": {
      "name": "python"
    }
  },
  "cells": [
    {
      "cell_type": "markdown",
      "metadata": {
        "id": "view-in-github",
        "colab_type": "text"
      },
      "source": [
        "<a href=\"https://colab.research.google.com/github/sangeon22/CodingTest-CodeUp100-Python/blob/main/6017_%5B%EA%B8%B0%EC%B4%88_%EC%9E%85%EC%B6%9C%EB%A0%A5%5D_%EB%AC%B8%EC%9E%A5_1%EA%B0%9C_%EC%9E%85%EB%A0%A5%EB%B0%9B%EC%95%84_3%EB%B2%88_%EC%B6%9C%EB%A0%A5%ED%95%98%EA%B8%B0.ipynb\" target=\"_parent\"><img src=\"https://colab.research.google.com/assets/colab-badge.svg\" alt=\"Open In Colab\"/></a>"
      ]
    },
    {
      "cell_type": "code",
      "execution_count": 1,
      "metadata": {
        "id": "KasucCdzx2L6"
      },
      "outputs": [],
      "source": [
        "# 정수(integer), 실수, 문자(character), 문자열(string) 등 1개만 입력받아 한 줄로 3번 출력해보자."
      ]
    },
    {
      "cell_type": "code",
      "source": [
        "a = input()\n",
        "print(a, a, a)"
      ],
      "metadata": {
        "colab": {
          "base_uri": "https://localhost:8080/"
        },
        "id": "5JVKrit6x3_h",
        "outputId": "d38e6c9f-2e4e-4306-ea9c-901afaf35bd9"
      },
      "execution_count": 3,
      "outputs": [
        {
          "output_type": "stream",
          "name": "stdout",
          "text": [
            "abc\n",
            "abc abc abc\n"
          ]
        }
      ]
    }
  ]
}