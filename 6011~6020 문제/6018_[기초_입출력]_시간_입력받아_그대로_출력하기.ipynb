{
  "nbformat": 4,
  "nbformat_minor": 0,
  "metadata": {
    "colab": {
      "name": "6018 [기초-입출력] 시간 입력받아 그대로 출력하기",
      "provenance": [],
      "authorship_tag": "ABX9TyO6j/RUxOi9AwHrM6/2P44V",
      "include_colab_link": true
    },
    "kernelspec": {
      "name": "python3",
      "display_name": "Python 3"
    },
    "language_info": {
      "name": "python"
    }
  },
  "cells": [
    {
      "cell_type": "markdown",
      "metadata": {
        "id": "view-in-github",
        "colab_type": "text"
      },
      "source": [
        "<a href=\"https://colab.research.google.com/github/sangeon22/CodingTest-CodeUp100-Python/blob/main/6018_%5B%EA%B8%B0%EC%B4%88_%EC%9E%85%EC%B6%9C%EB%A0%A5%5D_%EC%8B%9C%EA%B0%84_%EC%9E%85%EB%A0%A5%EB%B0%9B%EC%95%84_%EA%B7%B8%EB%8C%80%EB%A1%9C_%EC%B6%9C%EB%A0%A5%ED%95%98%EA%B8%B0.ipynb\" target=\"_parent\"><img src=\"https://colab.research.google.com/assets/colab-badge.svg\" alt=\"Open In Colab\"/></a>"
      ]
    },
    {
      "cell_type": "code",
      "execution_count": 4,
      "metadata": {
        "id": "KasucCdzx2L6"
      },
      "outputs": [],
      "source": [
        "# 24시간 시:분 형식으로 시간이 입력될 때, 그대로 출력하는 연습을 해보자."
      ]
    },
    {
      "cell_type": "code",
      "source": [
        "a,b = input().split(':')\n",
        "print(a,b,sep=':')"
      ],
      "metadata": {
        "colab": {
          "base_uri": "https://localhost:8080/"
        },
        "id": "5JVKrit6x3_h",
        "outputId": "e241a172-1241-42a5-fbbd-6987a1925551"
      },
      "execution_count": 5,
      "outputs": [
        {
          "output_type": "stream",
          "name": "stdout",
          "text": [
            "3:45\n",
            "3:45\n"
          ]
        }
      ]
    }
  ]
}