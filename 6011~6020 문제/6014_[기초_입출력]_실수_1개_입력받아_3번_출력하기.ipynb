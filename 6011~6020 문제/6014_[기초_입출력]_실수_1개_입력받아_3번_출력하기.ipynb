{
  "nbformat": 4,
  "nbformat_minor": 0,
  "metadata": {
    "colab": {
      "name": "6014 [기초-입출력] 실수 1개 입력받아 3번 출력하기",
      "provenance": [],
      "authorship_tag": "ABX9TyNqvFoMfbYKAApD5lCcRZaA",
      "include_colab_link": true
    },
    "kernelspec": {
      "name": "python3",
      "display_name": "Python 3"
    },
    "language_info": {
      "name": "python"
    }
  },
  "cells": [
    {
      "cell_type": "markdown",
      "metadata": {
        "id": "view-in-github",
        "colab_type": "text"
      },
      "source": [
        "<a href=\"https://colab.research.google.com/github/sangeon22/CodingTest-CodeUp100-Python/blob/main/6014_%5B%EA%B8%B0%EC%B4%88_%EC%9E%85%EC%B6%9C%EB%A0%A5%5D_%EC%8B%A4%EC%88%98_1%EA%B0%9C_%EC%9E%85%EB%A0%A5%EB%B0%9B%EC%95%84_3%EB%B2%88_%EC%B6%9C%EB%A0%A5%ED%95%98%EA%B8%B0.ipynb\" target=\"_parent\"><img src=\"https://colab.research.google.com/assets/colab-badge.svg\" alt=\"Open In Colab\"/></a>"
      ]
    },
    {
      "cell_type": "code",
      "execution_count": 1,
      "metadata": {
        "id": "UXEo_mi2vNsh"
      },
      "outputs": [],
      "source": [
        "# 실수(real number) 1개를 입력받아 줄을 바꿔 3번 출력해보자."
      ]
    },
    {
      "cell_type": "code",
      "source": [
        "a = float(input())\n",
        "\n",
        "print(a)\n",
        "print(a)\n",
        "print(a)\n"
      ],
      "metadata": {
        "colab": {
          "base_uri": "https://localhost:8080/"
        },
        "id": "vIlBaD9WvQg-",
        "outputId": "8b98aa0b-e755-46fa-9a78-878eaff3442b"
      },
      "execution_count": 2,
      "outputs": [
        {
          "output_type": "stream",
          "name": "stdout",
          "text": [
            "4.548\n",
            "4.548\n",
            "4.548\n",
            "4.548\n"
          ]
        }
      ]
    },
    {
      "cell_type": "code",
      "source": [
        ""
      ],
      "metadata": {
        "id": "6XGSikTxvYJr"
      },
      "execution_count": null,
      "outputs": []
    }
  ]
}