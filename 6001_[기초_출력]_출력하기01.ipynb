{
  "nbformat": 4,
  "nbformat_minor": 0,
  "metadata": {
    "colab": {
      "name": "6001 [기초-출력] 출력하기01",
      "provenance": [],
      "authorship_tag": "ABX9TyPxH+PgSyBCytFpjxrb/4ek",
      "include_colab_link": true
    },
    "kernelspec": {
      "name": "python3",
      "display_name": "Python 3"
    },
    "language_info": {
      "name": "python"
    }
  },
  "cells": [
    {
      "cell_type": "markdown",
      "metadata": {
        "id": "view-in-github",
        "colab_type": "text"
      },
      "source": [
        "<a href=\"https://colab.research.google.com/github/sangeon22/CodingTest-CodeUp100-Python/blob/main/6001_%5B%EA%B8%B0%EC%B4%88_%EC%B6%9C%EB%A0%A5%5D_%EC%B6%9C%EB%A0%A5%ED%95%98%EA%B8%B001.ipynb\" target=\"_parent\"><img src=\"https://colab.research.google.com/assets/colab-badge.svg\" alt=\"Open In Colab\"/></a>"
      ]
    },
    {
      "cell_type": "code",
      "execution_count": 5,
      "metadata": {
        "id": "N0wQ1ikXfE_S"
      },
      "outputs": [],
      "source": [
        "# python 언어에서 가장 기본적인 명령이 출력문이다.\n",
        "# print( )를 이용해 다음 단어를 출력하시오.\n",
        "\n",
        "# Hello\n"
      ]
    },
    {
      "cell_type": "code",
      "source": [
        "print(\"Hello\")"
      ],
      "metadata": {
        "colab": {
          "base_uri": "https://localhost:8080/"
        },
        "id": "QBszPd7YfhBJ",
        "outputId": "fc651f0f-c56a-4e36-debf-f7816727418a"
      },
      "execution_count": 7,
      "outputs": [
        {
          "output_type": "stream",
          "name": "stdout",
          "text": [
            "Hello\n"
          ]
        }
      ]
    },
    {
      "cell_type": "code",
      "source": [
        ""
      ],
      "metadata": {
        "id": "3KpgujmIgGAg"
      },
      "execution_count": 7,
      "outputs": []
    }
  ]
}