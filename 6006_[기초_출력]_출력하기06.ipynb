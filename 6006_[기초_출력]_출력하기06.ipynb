{
  "nbformat": 4,
  "nbformat_minor": 0,
  "metadata": {
    "colab": {
      "name": "6006 [기초-출력] 출력하기06",
      "provenance": [],
      "authorship_tag": "ABX9TyMmrYDWGWR1jE+nikYoYdjg",
      "include_colab_link": true
    },
    "kernelspec": {
      "name": "python3",
      "display_name": "Python 3"
    },
    "language_info": {
      "name": "python"
    }
  },
  "cells": [
    {
      "cell_type": "markdown",
      "metadata": {
        "id": "view-in-github",
        "colab_type": "text"
      },
      "source": [
        "<a href=\"https://colab.research.google.com/github/sangeon22/CodingTest-CodeUp100-Python/blob/main/6006_%5B%EA%B8%B0%EC%B4%88_%EC%B6%9C%EB%A0%A5%5D_%EC%B6%9C%EB%A0%A5%ED%95%98%EA%B8%B006.ipynb\" target=\"_parent\"><img src=\"https://colab.research.google.com/assets/colab-badge.svg\" alt=\"Open In Colab\"/></a>"
      ]
    },
    {
      "cell_type": "code",
      "execution_count": null,
      "metadata": {
        "id": "Y8pl643JiLge"
      },
      "outputs": [],
      "source": [
        "# 이번에는 특수문자 출력에 도전하자!!\n",
        "\n",
        "# 다음 문장을 출력하시오.\n",
        "\n",
        "# \"!@#$%^&*()'\n",
        "# (단, 큰따옴표와 작은따옴표도 함께 출력한다.)"
      ]
    },
    {
      "cell_type": "code",
      "source": [
        "print(\"\\\"!@#$%^&*()\\'\")"
      ],
      "metadata": {
        "colab": {
          "base_uri": "https://localhost:8080/"
        },
        "id": "rLfHaWYhiSab",
        "outputId": "1285ddaa-1e50-4098-a839-4bddb4d57474"
      },
      "execution_count": 1,
      "outputs": [
        {
          "output_type": "stream",
          "name": "stdout",
          "text": [
            "\"!@#$%^&*()'\n"
          ]
        }
      ]
    }
  ]
}