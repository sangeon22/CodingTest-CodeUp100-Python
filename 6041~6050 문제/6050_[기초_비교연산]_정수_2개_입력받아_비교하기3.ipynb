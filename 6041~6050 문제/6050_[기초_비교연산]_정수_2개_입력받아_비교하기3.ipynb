{
  "nbformat": 4,
  "nbformat_minor": 0,
  "metadata": {
    "colab": {
      "name": "6050 [기초-비교연산] 정수 2개 입력받아 비교하기3",
      "provenance": [],
      "authorship_tag": "ABX9TyMUo9u0FC53nVI73t1e9kky",
      "include_colab_link": true
    },
    "kernelspec": {
      "name": "python3",
      "display_name": "Python 3"
    },
    "language_info": {
      "name": "python"
    }
  },
  "cells": [
    {
      "cell_type": "markdown",
      "metadata": {
        "id": "view-in-github",
        "colab_type": "text"
      },
      "source": [
        "<a href=\"https://colab.research.google.com/github/sangeon22/CodingTest-CodeUp100-Python/blob/main/6050_%5B%EA%B8%B0%EC%B4%88_%EB%B9%84%EA%B5%90%EC%97%B0%EC%82%B0%5D_%EC%A0%95%EC%88%98_2%EA%B0%9C_%EC%9E%85%EB%A0%A5%EB%B0%9B%EC%95%84_%EB%B9%84%EA%B5%90%ED%95%98%EA%B8%B03.ipynb\" target=\"_parent\"><img src=\"https://colab.research.google.com/assets/colab-badge.svg\" alt=\"Open In Colab\"/></a>"
      ]
    },
    {
      "cell_type": "code",
      "execution_count": 14,
      "metadata": {
        "id": "53LfUy6UZxI9"
      },
      "outputs": [],
      "source": [
        "# 두 정수(a, b)를 입력받아\n",
        "# b의 값이 a의 값 보다 크거나 같으면 True 를, 같지 않으면 False 를 출력하는 프로그램을 작성해보자."
      ]
    },
    {
      "cell_type": "code",
      "source": [
        "a, b = map(int,input().split())\n",
        "print(a<=b)"
      ],
      "metadata": {
        "colab": {
          "base_uri": "https://localhost:8080/"
        },
        "id": "hNmoz7UgZ12W",
        "outputId": "58db50f4-8bc6-4070-c9e1-b1a0f7440f7d"
      },
      "execution_count": 27,
      "outputs": [
        {
          "output_type": "stream",
          "name": "stdout",
          "text": [
            "0 -1\n",
            "False\n"
          ]
        }
      ]
    },
    {
      "cell_type": "code",
      "source": [
        "a, b = map(int,input().split())\n",
        "print(a<=b)"
      ],
      "metadata": {
        "colab": {
          "base_uri": "https://localhost:8080/"
        },
        "id": "rLQUD4TFfIOZ",
        "outputId": "6accbbe7-063d-4035-fd07-a4bb2d03240b"
      },
      "execution_count": 28,
      "outputs": [
        {
          "output_type": "stream",
          "name": "stdout",
          "text": [
            "-1 0\n",
            "True\n"
          ]
        }
      ]
    }
  ]
}