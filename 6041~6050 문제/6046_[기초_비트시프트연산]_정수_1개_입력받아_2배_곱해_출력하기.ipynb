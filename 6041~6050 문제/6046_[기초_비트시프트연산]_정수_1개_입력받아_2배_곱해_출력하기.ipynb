{
  "nbformat": 4,
  "nbformat_minor": 0,
  "metadata": {
    "colab": {
      "name": "6046 [기초-비트시프트연산] 정수 1개 입력받아 2배 곱해 출력하기",
      "provenance": [],
      "authorship_tag": "ABX9TyO0BvltnRZ5JwIZRZGliL9z",
      "include_colab_link": true
    },
    "kernelspec": {
      "name": "python3",
      "display_name": "Python 3"
    },
    "language_info": {
      "name": "python"
    }
  },
  "cells": [
    {
      "cell_type": "markdown",
      "metadata": {
        "id": "view-in-github",
        "colab_type": "text"
      },
      "source": [
        "<a href=\"https://colab.research.google.com/github/sangeon22/CodingTest-CodeUp100-Python/blob/main/6046_%5B%EA%B8%B0%EC%B4%88_%EB%B9%84%ED%8A%B8%EC%8B%9C%ED%94%84%ED%8A%B8%EC%97%B0%EC%82%B0%5D_%EC%A0%95%EC%88%98_1%EA%B0%9C_%EC%9E%85%EB%A0%A5%EB%B0%9B%EC%95%84_2%EB%B0%B0_%EA%B3%B1%ED%95%B4_%EC%B6%9C%EB%A0%A5%ED%95%98%EA%B8%B0.ipynb\" target=\"_parent\"><img src=\"https://colab.research.google.com/assets/colab-badge.svg\" alt=\"Open In Colab\"/></a>"
      ]
    },
    {
      "cell_type": "code",
      "execution_count": 8,
      "metadata": {
        "id": "53LfUy6UZxI9"
      },
      "outputs": [],
      "source": [
        "# 정수 1개를 입력받아 2배 곱해 출력해보자."
      ]
    },
    {
      "cell_type": "code",
      "source": [
        "a = int(input())\n",
        "print(a<<1)"
      ],
      "metadata": {
        "colab": {
          "base_uri": "https://localhost:8080/"
        },
        "id": "hNmoz7UgZ12W",
        "outputId": "197cb758-6e7e-4da5-c158-3acf99b4321e"
      },
      "execution_count": 12,
      "outputs": [
        {
          "output_type": "stream",
          "name": "stdout",
          "text": [
            "1024\n",
            "2048\n"
          ]
        }
      ]
    }
  ]
}