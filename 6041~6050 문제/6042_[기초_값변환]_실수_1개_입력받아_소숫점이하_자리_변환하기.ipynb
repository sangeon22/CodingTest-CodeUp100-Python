{
  "nbformat": 4,
  "nbformat_minor": 0,
  "metadata": {
    "colab": {
      "name": "6042 [기초-값변환] 실수 1개 입력받아 소숫점이하 자리 변환하기",
      "provenance": [],
      "authorship_tag": "ABX9TyOqcqQE5zjvKYI4seejeuV7",
      "include_colab_link": true
    },
    "kernelspec": {
      "name": "python3",
      "display_name": "Python 3"
    },
    "language_info": {
      "name": "python"
    }
  },
  "cells": [
    {
      "cell_type": "markdown",
      "metadata": {
        "id": "view-in-github",
        "colab_type": "text"
      },
      "source": [
        "<a href=\"https://colab.research.google.com/github/sangeon22/CodingTest-CodeUp100-Python/blob/main/6042_%5B%EA%B8%B0%EC%B4%88_%EA%B0%92%EB%B3%80%ED%99%98%5D_%EC%8B%A4%EC%88%98_1%EA%B0%9C_%EC%9E%85%EB%A0%A5%EB%B0%9B%EC%95%84_%EC%86%8C%EC%88%AB%EC%A0%90%EC%9D%B4%ED%95%98_%EC%9E%90%EB%A6%AC_%EB%B3%80%ED%99%98%ED%95%98%EA%B8%B0.ipynb\" target=\"_parent\"><img src=\"https://colab.research.google.com/assets/colab-badge.svg\" alt=\"Open In Colab\"/></a>"
      ]
    },
    {
      "cell_type": "code",
      "execution_count": 1,
      "metadata": {
        "id": "53LfUy6UZxI9"
      },
      "outputs": [],
      "source": [
        "# 실수 1개를 입력받아\n",
        "# 소숫점 이하 두 번째 자리까지의 정확도로 반올림한 값을 출력해보자."
      ]
    },
    {
      "cell_type": "code",
      "source": [
        "a = float(input())\n",
        "print(format(a,\".2f\"))"
      ],
      "metadata": {
        "colab": {
          "base_uri": "https://localhost:8080/"
        },
        "id": "hNmoz7UgZ12W",
        "outputId": "bb8c9df0-64ee-4919-bcad-267d7631f7cb"
      },
      "execution_count": 5,
      "outputs": [
        {
          "output_type": "stream",
          "name": "stdout",
          "text": [
            "3.141592\n",
            "3.14\n"
          ]
        }
      ]
    }
  ]
}