{
  "nbformat": 4,
  "nbformat_minor": 0,
  "metadata": {
    "colab": {
      "name": "6041 [기초-산술연산] 정수 2개 입력받아 나눈 나머지 계산하기",
      "provenance": [],
      "authorship_tag": "ABX9TyPAP8Q24ObIjEBW816DW+Rd",
      "include_colab_link": true
    },
    "kernelspec": {
      "name": "python3",
      "display_name": "Python 3"
    },
    "language_info": {
      "name": "python"
    }
  },
  "cells": [
    {
      "cell_type": "markdown",
      "metadata": {
        "id": "view-in-github",
        "colab_type": "text"
      },
      "source": [
        "<a href=\"https://colab.research.google.com/github/sangeon22/CodingTest-CodeUp100-Python/blob/main/6041_%5B%EA%B8%B0%EC%B4%88_%EC%82%B0%EC%88%A0%EC%97%B0%EC%82%B0%5D_%EC%A0%95%EC%88%98_2%EA%B0%9C_%EC%9E%85%EB%A0%A5%EB%B0%9B%EC%95%84_%EB%82%98%EB%88%88_%EB%82%98%EB%A8%B8%EC%A7%80_%EA%B3%84%EC%82%B0%ED%95%98%EA%B8%B0.ipynb\" target=\"_parent\"><img src=\"https://colab.research.google.com/assets/colab-badge.svg\" alt=\"Open In Colab\"/></a>"
      ]
    },
    {
      "cell_type": "code",
      "execution_count": 1,
      "metadata": {
        "id": "53LfUy6UZxI9"
      },
      "outputs": [],
      "source": [
        "# 정수 2개(a, b) 를 입력받아 a를 b로 나눈 나머지를 출력해보자."
      ]
    },
    {
      "cell_type": "code",
      "source": [
        "a, b = map(int, input().split())\n",
        "print(a%b)"
      ],
      "metadata": {
        "colab": {
          "base_uri": "https://localhost:8080/"
        },
        "id": "hNmoz7UgZ12W",
        "outputId": "6485fb88-b9b5-470b-ce9b-4bdd46b02eba"
      },
      "execution_count": 3,
      "outputs": [
        {
          "output_type": "stream",
          "name": "stdout",
          "text": [
            "4 3\n",
            "1\n"
          ]
        }
      ]
    }
  ]
}