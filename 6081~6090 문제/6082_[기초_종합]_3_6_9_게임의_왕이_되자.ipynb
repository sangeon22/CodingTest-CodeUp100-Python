{
  "nbformat": 4,
  "nbformat_minor": 0,
  "metadata": {
    "colab": {
      "name": "6082 [기초-종합] 3 6 9 게임의 왕이 되자",
      "provenance": [],
      "authorship_tag": "ABX9TyMDKgzUPHlg+7ttxvn8WRXz",
      "include_colab_link": true
    },
    "kernelspec": {
      "name": "python3",
      "display_name": "Python 3"
    },
    "language_info": {
      "name": "python"
    }
  },
  "cells": [
    {
      "cell_type": "markdown",
      "metadata": {
        "id": "view-in-github",
        "colab_type": "text"
      },
      "source": [
        "<a href=\"https://colab.research.google.com/github/sangeon22/CodingTest-CodeUp100-Python/blob/main/6082_%5B%EA%B8%B0%EC%B4%88_%EC%A2%85%ED%95%A9%5D_3_6_9_%EA%B2%8C%EC%9E%84%EC%9D%98_%EC%99%95%EC%9D%B4_%EB%90%98%EC%9E%90.ipynb\" target=\"_parent\"><img src=\"https://colab.research.google.com/assets/colab-badge.svg\" alt=\"Open In Colab\"/></a>"
      ]
    },
    {
      "cell_type": "code",
      "execution_count": 1,
      "metadata": {
        "id": "y6AKh8O1v3A6"
      },
      "outputs": [],
      "source": [
        "# 친구들과 함께 3 6 9 게임을 하던 영일이는 잦은 실수 때문에 계속해서 벌칙을 받게 되었다.\n",
        "# 3 6 9 게임의 왕이 되기 위한 369 마스터 프로그램을 작성해 보자.\n",
        "\n",
        "# ** 3 6 9 게임은?\n",
        "# 여러 사람이 순서를 정한 후, 순서대로 수를 부르는 게임이다.\n",
        "# 만약 3, 6, 9 가 들어간 수를 자신이 불러야 하는 상황이라면, 수를 부르는 대신 \"박수(X)\" 를 쳐야 한다.\n",
        "# 33과 같이 3,6,9가 두 번 들어간 수 일때, \"짝짝\"과 같이 박수를 두 번 치는 형태도 있다. "
      ]
    },
    {
      "cell_type": "code",
      "source": [
        "n = int(input())\n",
        "for i in range(1,n+1):\n",
        "  if i%10 == 3 or i%10 == 6 or i%10 == 9:\n",
        "    print(\"X\", end=\" \")\n",
        "  else:\n",
        "    print(i, end=\" \")"
      ],
      "metadata": {
        "colab": {
          "base_uri": "https://localhost:8080/"
        },
        "id": "AGD9dnPawa1A",
        "outputId": "75c28adc-6555-4677-a30b-168f8cf35ca8"
      },
      "execution_count": 17,
      "outputs": [
        {
          "output_type": "stream",
          "name": "stdout",
          "text": [
            "30\n",
            "1 2 X 4 5 X 7 8 X 10 11 12 X 14 15 X 17 18 X 20 21 22 X 24 25 X 27 28 X 30 "
          ]
        }
      ]
    },
    {
      "cell_type": "code",
      "source": [
        ""
      ],
      "metadata": {
        "id": "Kpjcxw3N0qWN"
      },
      "execution_count": null,
      "outputs": []
    }
  ]
}