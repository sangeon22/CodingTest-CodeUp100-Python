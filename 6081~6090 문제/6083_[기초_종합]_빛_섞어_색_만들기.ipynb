{
  "nbformat": 4,
  "nbformat_minor": 0,
  "metadata": {
    "colab": {
      "name": "6083 [기초-종합] 빛 섞어 색 만들기",
      "provenance": [],
      "authorship_tag": "ABX9TyM8ngZ3k6BQqxMuW7hTbllK",
      "include_colab_link": true
    },
    "kernelspec": {
      "name": "python3",
      "display_name": "Python 3"
    },
    "language_info": {
      "name": "python"
    }
  },
  "cells": [
    {
      "cell_type": "markdown",
      "metadata": {
        "id": "view-in-github",
        "colab_type": "text"
      },
      "source": [
        "<a href=\"https://colab.research.google.com/github/sangeon22/CodingTest-CodeUp100-Python/blob/main/6083_%5B%EA%B8%B0%EC%B4%88_%EC%A2%85%ED%95%A9%5D_%EB%B9%9B_%EC%84%9E%EC%96%B4_%EC%83%89_%EB%A7%8C%EB%93%A4%EA%B8%B0.ipynb\" target=\"_parent\"><img src=\"https://colab.research.google.com/assets/colab-badge.svg\" alt=\"Open In Colab\"/></a>"
      ]
    },
    {
      "cell_type": "code",
      "execution_count": 20,
      "metadata": {
        "id": "y6AKh8O1v3A6"
      },
      "outputs": [],
      "source": [
        "# 빨강(red), 초록(green), 파랑(blue) 빛을 섞어 여러 가지 다른 색 빛을 만들어 내려고 한다.\n",
        "\n",
        "# 빨강(r), 초록(g), 파랑(b) 각 빛의 가짓수가 주어질 때,\n",
        "# 주어진 rgb 빛들을 섞어 만들 수 있는 모든 경우의 조합(r g b)과 만들 수 있는 색의 가짓 수를 계산해보자."
      ]
    },
    {
      "cell_type": "code",
      "source": [
        "r,g,b = map(int, input().split())\n",
        "count = 0\n",
        "for i in range(0,r):\n",
        "  for j in range(0,g):\n",
        "    for k in range(0,b):\n",
        "      print(i,j,k)\n",
        "      count += 1\n",
        "print(count)"
      ],
      "metadata": {
        "colab": {
          "base_uri": "https://localhost:8080/"
        },
        "id": "AGD9dnPawa1A",
        "outputId": "96df9fb4-d15f-4176-a1df-45c2ef7dce97"
      },
      "execution_count": 26,
      "outputs": [
        {
          "output_type": "stream",
          "name": "stdout",
          "text": [
            "2 2 2\n",
            "0 0 0\n",
            "0 0 1\n",
            "0 1 0\n",
            "0 1 1\n",
            "1 0 0\n",
            "1 0 1\n",
            "1 1 0\n",
            "1 1 1\n",
            "8\n"
          ]
        }
      ]
    },
    {
      "cell_type": "code",
      "source": [
        ""
      ],
      "metadata": {
        "id": "Kpjcxw3N0qWN"
      },
      "execution_count": null,
      "outputs": []
    }
  ]
}