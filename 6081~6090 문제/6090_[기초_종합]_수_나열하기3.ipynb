{
  "nbformat": 4,
  "nbformat_minor": 0,
  "metadata": {
    "colab": {
      "name": "6090 [기초-종합] 수 나열하기3",
      "provenance": [],
      "authorship_tag": "ABX9TyMvMyR1l4OhSabPqXi/wfuz",
      "include_colab_link": true
    },
    "kernelspec": {
      "name": "python3",
      "display_name": "Python 3"
    },
    "language_info": {
      "name": "python"
    }
  },
  "cells": [
    {
      "cell_type": "markdown",
      "metadata": {
        "id": "view-in-github",
        "colab_type": "text"
      },
      "source": [
        "<a href=\"https://colab.research.google.com/github/sangeon22/CodingTest-CodeUp100-Python/blob/main/6090_%5B%EA%B8%B0%EC%B4%88_%EC%A2%85%ED%95%A9%5D_%EC%88%98_%EB%82%98%EC%97%B4%ED%95%98%EA%B8%B03.ipynb\" target=\"_parent\"><img src=\"https://colab.research.google.com/assets/colab-badge.svg\" alt=\"Open In Colab\"/></a>"
      ]
    },
    {
      "cell_type": "code",
      "execution_count": 36,
      "metadata": {
        "colab": {
          "base_uri": "https://localhost:8080/",
          "height": 72
        },
        "id": "1LTj7-GprcTM",
        "outputId": "c9025335-a4b2-487f-b34c-984e55785f7e"
      },
      "outputs": [
        {
          "output_type": "execute_result",
          "data": {
            "text/plain": [
              "'\\n어떤 규칙에 따라 수를 순서대로 나열한 것을 수열(sequences)이라고 한다.\\n\\n예를 들어\\n2 6 18 54 162 486 ... 은\\n2부터 시작해 이전에 만든 수에 3을 곱해 다음 수를 만든 수열이다.\\n\\n이러한 것을 수학에서는 앞뒤 수들의 비율이 같다고 하여\\n등비(비율이 같다의 한문 말) 수열이라고 한다. (등비수열 : geometric progression/sequence)\\n\\n등비 수열을 알게된 영일이는 갑자기 궁금해졌다.\\n\"그럼.... 13번째 나오는 수는 뭘까?\"\\n영일이는 프로그램을 만들어 더 큰 수도 자동으로 계산하고 싶어졌다.\\n\\n시작 값(a), 등비(r), 몇 번째인지를 나타내는 정수(n)가 입력될 때\\nn번째 수를 출력하는 프로그램을 만들어보자.\\n'"
            ],
            "application/vnd.google.colaboratory.intrinsic+json": {
              "type": "string"
            }
          },
          "metadata": {},
          "execution_count": 36
        }
      ],
      "source": [
        "\"\"\"\n",
        "어떤 규칙에 따라 수를 순서대로 나열한 것을 수열(sequences)이라고 한다.\n",
        "\n",
        "예를 들어\n",
        "1 -1 3 -5 11 -21 43 ... 은\n",
        "1부터 시작해 이전에 만든 수에 -2를 곱한 다음 1을 더해 다음 수를 만든 수열이다.\n",
        "\n",
        "이런 이상한 수열을 알게 된 영일이는 또 궁금해졌다.\n",
        "\"그럼.... 13번째 나오는 수는 뭘까?\"\n",
        "\n",
        "영일이는 물론 수학을 아주 잘하지만 이런 문제는 본 적이 거의 없었다...\n",
        "그래서 프로그램을 만들어 더 큰 수도 자동으로 계산하고 싶어졌다.\n",
        "\n",
        "시작 값(a), 곱할 값(m), 더할 값(d), 몇 번째인지를 나타내는 정수(n)가 입력될 때,\n",
        "n번째 수를 출력하는 프로그램을 만들어보자.\n",
        "\"\"\""
      ]
    },
    {
      "cell_type": "code",
      "source": [
        "a, m , d, n= map(int, input().split())\n",
        "for i in range(1,n):\n",
        "  a = a*m+d\n",
        "print(a)"
      ],
      "metadata": {
        "colab": {
          "base_uri": "https://localhost:8080/"
        },
        "id": "TSkcnuUasBso",
        "outputId": "b7351acb-99d3-485c-9705-bb5010756d22"
      },
      "execution_count": 49,
      "outputs": [
        {
          "output_type": "stream",
          "name": "stdout",
          "text": [
            "1 -2 1 8\n",
            "-85\n"
          ]
        }
      ]
    }
  ]
}