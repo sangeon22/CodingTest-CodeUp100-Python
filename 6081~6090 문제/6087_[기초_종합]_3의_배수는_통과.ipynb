{
  "nbformat": 4,
  "nbformat_minor": 0,
  "metadata": {
    "colab": {
      "name": "6087 [기초-종합] 3의 배수는 통과",
      "provenance": [],
      "authorship_tag": "ABX9TyOwKvn1hOkXOl2w/URkQzge",
      "include_colab_link": true
    },
    "kernelspec": {
      "name": "python3",
      "display_name": "Python 3"
    },
    "language_info": {
      "name": "python"
    }
  },
  "cells": [
    {
      "cell_type": "markdown",
      "metadata": {
        "id": "view-in-github",
        "colab_type": "text"
      },
      "source": [
        "<a href=\"https://colab.research.google.com/github/sangeon22/CodingTest-CodeUp100-Python/blob/main/6087_%5B%EA%B8%B0%EC%B4%88_%EC%A2%85%ED%95%A9%5D_3%EC%9D%98_%EB%B0%B0%EC%88%98%EB%8A%94_%ED%86%B5%EA%B3%BC.ipynb\" target=\"_parent\"><img src=\"https://colab.research.google.com/assets/colab-badge.svg\" alt=\"Open In Colab\"/></a>"
      ]
    },
    {
      "cell_type": "code",
      "execution_count": 5,
      "metadata": {
        "colab": {
          "base_uri": "https://localhost:8080/",
          "height": 35
        },
        "id": "1LTj7-GprcTM",
        "outputId": "b9a60d21-2ae0-413b-e335-67d8b347aea3"
      },
      "outputs": [
        {
          "output_type": "execute_result",
          "data": {
            "text/plain": [
              "'\\n1부터 입력한 정수까지 1씩 증가시켜 출력하는 프로그램을 작성하되,\\n3의 배수인 경우는 출력하지 않도록 만들어보자.\\n\\n예를 들면,\\n1 2 4 5 7 8 10 11 13 14 ...\\n와 같이 출력하는 것이다.\\n'"
            ],
            "application/vnd.google.colaboratory.intrinsic+json": {
              "type": "string"
            }
          },
          "metadata": {},
          "execution_count": 5
        }
      ],
      "source": [
        "\"\"\"\n",
        "1부터 입력한 정수까지 1씩 증가시켜 출력하는 프로그램을 작성하되,\n",
        "3의 배수인 경우는 출력하지 않도록 만들어보자.\n",
        "\n",
        "예를 들면,\n",
        "1 2 4 5 7 8 10 11 13 14 ...\n",
        "와 같이 출력하는 것이다.\n",
        "\"\"\""
      ]
    },
    {
      "cell_type": "code",
      "source": [
        "n = int(input())\n",
        "\n",
        "for i in range(1,n+1):\n",
        "  if(i%3==0):\n",
        "    continue\n",
        "  print(i, end=\" \")"
      ],
      "metadata": {
        "colab": {
          "base_uri": "https://localhost:8080/"
        },
        "id": "TSkcnuUasBso",
        "outputId": "91001c71-f532-4c84-8e32-b6b10da57288"
      },
      "execution_count": 6,
      "outputs": [
        {
          "output_type": "stream",
          "name": "stdout",
          "text": [
            "10\n",
            "1 2 4 5 7 8 10 "
          ]
        }
      ]
    }
  ]
}