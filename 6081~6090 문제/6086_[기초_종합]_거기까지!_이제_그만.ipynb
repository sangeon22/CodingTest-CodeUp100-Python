{
  "nbformat": 4,
  "nbformat_minor": 0,
  "metadata": {
    "colab": {
      "name": "6086 [기초-종합] 거기까지! 이제 그만",
      "provenance": [],
      "authorship_tag": "ABX9TyNvYiUa2Qmwbwu4wDwBI8ja",
      "include_colab_link": true
    },
    "kernelspec": {
      "name": "python3",
      "display_name": "Python 3"
    },
    "language_info": {
      "name": "python"
    }
  },
  "cells": [
    {
      "cell_type": "markdown",
      "metadata": {
        "id": "view-in-github",
        "colab_type": "text"
      },
      "source": [
        "<a href=\"https://colab.research.google.com/github/sangeon22/CodingTest-CodeUp100-Python/blob/main/6086_%5B%EA%B8%B0%EC%B4%88_%EC%A2%85%ED%95%A9%5D_%EA%B1%B0%EA%B8%B0%EA%B9%8C%EC%A7%80!_%EC%9D%B4%EC%A0%9C_%EA%B7%B8%EB%A7%8C.ipynb\" target=\"_parent\"><img src=\"https://colab.research.google.com/assets/colab-badge.svg\" alt=\"Open In Colab\"/></a>"
      ]
    },
    {
      "cell_type": "code",
      "execution_count": 1,
      "metadata": {
        "colab": {
          "base_uri": "https://localhost:8080/",
          "height": 54
        },
        "id": "1LTj7-GprcTM",
        "outputId": "577caa32-dad8-4696-e80a-5f39b39157b3"
      },
      "outputs": [
        {
          "output_type": "execute_result",
          "data": {
            "text/plain": [
              "'\\n1, 2, 3 ... 을 순서대로 계속 더해 합을 만드는데,\\n그 합이 입력한 정수보다 작을 동안만 계속 더하는 프로그램을 작성해보자.\\n\\n즉, 1부터 n까지 정수를 하나씩 더해 합을 만드는데,\\n어디까지 더해야 입력한 수보다 같거나 커지는지 알아보고자 하는 문제이다.\\n\\n하지만, 이번에는 그 때 까지의 합을 출력해야 한다.\\n\\n예를 들어, 57을 입력하면\\n1+2+3+...+8+9+10=55에서 그 다음 수인 11을 더해 66이 될 때,\\n그 값 66이 출력되어야 한다.\\n'"
            ],
            "application/vnd.google.colaboratory.intrinsic+json": {
              "type": "string"
            }
          },
          "metadata": {},
          "execution_count": 1
        }
      ],
      "source": [
        "\"\"\"\n",
        "1, 2, 3 ... 을 순서대로 계속 더해 합을 만드는데,\n",
        "그 합이 입력한 정수보다 작을 동안만 계속 더하는 프로그램을 작성해보자.\n",
        "\n",
        "즉, 1부터 n까지 정수를 하나씩 더해 합을 만드는데,\n",
        "어디까지 더해야 입력한 수보다 같거나 커지는지 알아보고자 하는 문제이다.\n",
        "\n",
        "하지만, 이번에는 그 때 까지의 합을 출력해야 한다.\n",
        "\n",
        "예를 들어, 57을 입력하면\n",
        "1+2+3+...+8+9+10=55에서 그 다음 수인 11을 더해 66이 될 때,\n",
        "그 값 66이 출력되어야 한다.\n",
        "\"\"\""
      ]
    },
    {
      "cell_type": "code",
      "source": [
        "n = int(input())\n",
        "sum = 0\n",
        "i = 1\n",
        "while True:\n",
        "  sum += i\n",
        "  i += 1\n",
        "  if sum>=n:\n",
        "    break\n",
        "print(sum)"
      ],
      "metadata": {
        "colab": {
          "base_uri": "https://localhost:8080/"
        },
        "id": "TSkcnuUasBso",
        "outputId": "32877e17-4d2a-4c85-f415-85f88daa3d08"
      },
      "execution_count": 4,
      "outputs": [
        {
          "output_type": "stream",
          "name": "stdout",
          "text": [
            "57\n",
            "66\n"
          ]
        }
      ]
    }
  ]
}