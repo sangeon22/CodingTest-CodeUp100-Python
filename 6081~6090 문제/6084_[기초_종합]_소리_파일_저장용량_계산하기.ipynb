{
  "nbformat": 4,
  "nbformat_minor": 0,
  "metadata": {
    "colab": {
      "name": "6084 [기초-종합] 소리 파일 저장용량 계산하기",
      "provenance": [],
      "authorship_tag": "ABX9TyMH/GxYX1u5dRhJ0WCOtb7Z",
      "include_colab_link": true
    },
    "kernelspec": {
      "name": "python3",
      "display_name": "Python 3"
    },
    "language_info": {
      "name": "python"
    }
  },
  "cells": [
    {
      "cell_type": "markdown",
      "metadata": {
        "id": "view-in-github",
        "colab_type": "text"
      },
      "source": [
        "<a href=\"https://colab.research.google.com/github/sangeon22/CodingTest-CodeUp100-Python/blob/main/6084_%5B%EA%B8%B0%EC%B4%88_%EC%A2%85%ED%95%A9%5D_%EC%86%8C%EB%A6%AC_%ED%8C%8C%EC%9D%BC_%EC%A0%80%EC%9E%A5%EC%9A%A9%EB%9F%89_%EA%B3%84%EC%82%B0%ED%95%98%EA%B8%B0.ipynb\" target=\"_parent\"><img src=\"https://colab.research.google.com/assets/colab-badge.svg\" alt=\"Open In Colab\"/></a>"
      ]
    },
    {
      "cell_type": "code",
      "execution_count": 29,
      "metadata": {
        "colab": {
          "base_uri": "https://localhost:8080/",
          "height": 127
        },
        "id": "y6AKh8O1v3A6",
        "outputId": "4fe5c51f-c720-4c56-9e78-7fe2ea238f90"
      },
      "outputs": [
        {
          "output_type": "execute_result",
          "data": {
            "text/plain": [
              "'\\n소리가 컴퓨터에 저장될 때에는 디지털 데이터화 되어 저장된다.\\n\\n마이크를 통해 1초에 적게는 수십 번, 많게는 수만 번 소리의 강약을 체크하고,\\n한 번씩 체크할 때 마다 그 값을 정수값으로 바꾸어 저장하는 방식으로 소리를 파일로 저장할 수 있다.\\n\\n값을 저장할 때에는 비트를 사용하는 정도에 따라 세세한 녹음 정도를 결정할 수 있고,\\n좌우(스테레오) 채널로 저장하면 2배… 5.1채널이면 6배의 저장공간이 필요하고,\\n녹음 시간이 길면 그 만큼 더 많은 저장공간이 필요하다.\\n\\n1초 동안 마이크로 소리강약을 체크하는 횟수를 h\\n(헤르쯔, Hz 는 1초에 몇 번? 체크하는가를 의미한다.)\\n\\n한 번 체크한 값을 저장할 때 사용하는 비트수를 b\\n(2비트를 사용하면 0 또는 1 두 가지, 16비트를 사용하면 65536가지..)\\n\\n좌우 등 소리를 저장할 트랙 개수인 채널 개수를 c\\n(모노는 1개, 스테레오는 2개의 트랙으로 저장함을 의미한다.)\\n\\n녹음할 시간(초) s가 주어질 때,\\n\\n필요한 저장 용량을 계산하는 프로그램을 작성해보자.\\n\\n실제로, 일반적인 CD 음질(44.1KHz, 16bit, 스테레오)로 1초 동안 저장하려면\\n44100 * 16 * 2 * 1 bit의 저장공간이 필요한데,\\n44100*16*2*1/8/1024/1024 로 계산하면 약 0.168 MB 정도가 필요하다.\\n\\n이렇게 녹음하는 방식을 PCM(Pulse Code Modulation) 방법이라고 하는데,\\n압축하지 않은 순수한(raw) 소리 데이터 파일은 대표적으로 *.wav 가 있다.\\n\\n**\\n      8 bit(비트)           = 1byte(바이트)       # 8bit=1Byte\\n1024 Byte(210 byte) = 1KB(킬로 바이트)  # 1024Byte=1KB\\n1024 KB(210 KB)      = 1MB(메가 바이트)\\n1024 MB(210 MB)     = 1GB(기가 바이트)\\n1024 GB(210 GB)      = 1TB(테라 바이트)\\n'"
            ],
            "application/vnd.google.colaboratory.intrinsic+json": {
              "type": "string"
            }
          },
          "metadata": {},
          "execution_count": 29
        }
      ],
      "source": [
        "\"\"\"\n",
        "소리가 컴퓨터에 저장될 때에는 디지털 데이터화 되어 저장된다.\n",
        "\n",
        "마이크를 통해 1초에 적게는 수십 번, 많게는 수만 번 소리의 강약을 체크하고,\n",
        "한 번씩 체크할 때 마다 그 값을 정수값으로 바꾸어 저장하는 방식으로 소리를 파일로 저장할 수 있다.\n",
        "\n",
        "값을 저장할 때에는 비트를 사용하는 정도에 따라 세세한 녹음 정도를 결정할 수 있고,\n",
        "좌우(스테레오) 채널로 저장하면 2배… 5.1채널이면 6배의 저장공간이 필요하고,\n",
        "녹음 시간이 길면 그 만큼 더 많은 저장공간이 필요하다.\n",
        "\n",
        "1초 동안 마이크로 소리강약을 체크하는 횟수를 h\n",
        "(헤르쯔, Hz 는 1초에 몇 번? 체크하는가를 의미한다.)\n",
        "\n",
        "한 번 체크한 값을 저장할 때 사용하는 비트수를 b\n",
        "(2비트를 사용하면 0 또는 1 두 가지, 16비트를 사용하면 65536가지..)\n",
        "\n",
        "좌우 등 소리를 저장할 트랙 개수인 채널 개수를 c\n",
        "(모노는 1개, 스테레오는 2개의 트랙으로 저장함을 의미한다.)\n",
        "\n",
        "녹음할 시간(초) s가 주어질 때,\n",
        "\n",
        "필요한 저장 용량을 계산하는 프로그램을 작성해보자.\n",
        "\n",
        "실제로, 일반적인 CD 음질(44.1KHz, 16bit, 스테레오)로 1초 동안 저장하려면\n",
        "44100 * 16 * 2 * 1 bit의 저장공간이 필요한데,\n",
        "44100*16*2*1/8/1024/1024 로 계산하면 약 0.168 MB 정도가 필요하다.\n",
        "\n",
        "이렇게 녹음하는 방식을 PCM(Pulse Code Modulation) 방법이라고 하는데,\n",
        "압축하지 않은 순수한(raw) 소리 데이터 파일은 대표적으로 *.wav 가 있다.\n",
        "\n",
        "**\n",
        "      8 bit(비트)           = 1byte(바이트)       # 8bit=1Byte\n",
        "1024 Byte(210 byte) = 1KB(킬로 바이트)  # 1024Byte=1KB\n",
        "1024 KB(210 KB)      = 1MB(메가 바이트)\n",
        "1024 MB(210 MB)     = 1GB(기가 바이트)\n",
        "1024 GB(210 GB)      = 1TB(테라 바이트)\n",
        "\"\"\""
      ]
    },
    {
      "cell_type": "code",
      "source": [
        "h,b,c,s = map(int, input().split())\n",
        "print(round(h*b*c*s/8/1024/1024,1), \"MB\")"
      ],
      "metadata": {
        "colab": {
          "base_uri": "https://localhost:8080/"
        },
        "id": "AGD9dnPawa1A",
        "outputId": "1fab217d-09da-4bfb-977b-6f337e41a07f"
      },
      "execution_count": 32,
      "outputs": [
        {
          "output_type": "stream",
          "name": "stdout",
          "text": [
            "44100 16 2 10\n",
            "1.7 MB\n"
          ]
        }
      ]
    },
    {
      "cell_type": "code",
      "source": [
        ""
      ],
      "metadata": {
        "id": "Kpjcxw3N0qWN"
      },
      "execution_count": null,
      "outputs": []
    }
  ]
}