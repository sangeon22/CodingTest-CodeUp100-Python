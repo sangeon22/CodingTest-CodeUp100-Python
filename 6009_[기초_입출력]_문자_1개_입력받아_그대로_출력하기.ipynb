{
  "nbformat": 4,
  "nbformat_minor": 0,
  "metadata": {
    "colab": {
      "name": "6009 [기초-입출력] 문자 1개 입력받아 그대로 출력하기",
      "provenance": [],
      "authorship_tag": "ABX9TyPpmUSI/jh/LIIgV5RFxJsp",
      "include_colab_link": true
    },
    "kernelspec": {
      "name": "python3",
      "display_name": "Python 3"
    },
    "language_info": {
      "name": "python"
    }
  },
  "cells": [
    {
      "cell_type": "markdown",
      "metadata": {
        "id": "view-in-github",
        "colab_type": "text"
      },
      "source": [
        "<a href=\"https://colab.research.google.com/github/sangeon22/CodingTest-CodeUp100-Python/blob/main/6009_%5B%EA%B8%B0%EC%B4%88_%EC%9E%85%EC%B6%9C%EB%A0%A5%5D_%EB%AC%B8%EC%9E%90_1%EA%B0%9C_%EC%9E%85%EB%A0%A5%EB%B0%9B%EC%95%84_%EA%B7%B8%EB%8C%80%EB%A1%9C_%EC%B6%9C%EB%A0%A5%ED%95%98%EA%B8%B0.ipynb\" target=\"_parent\"><img src=\"https://colab.research.google.com/assets/colab-badge.svg\" alt=\"Open In Colab\"/></a>"
      ]
    },
    {
      "cell_type": "code",
      "execution_count": 1,
      "metadata": {
        "id": "t41UdgrMjwPt"
      },
      "outputs": [],
      "source": [
        "# 문자(character)는\n",
        "# 0~9, a~z, A~Z, !, @, #, {, [, <, ... 과 같이 \n",
        "# 길이가 1인 기호라고 할 수 있다.\n",
        "\n",
        "# 변수에 문자 1개를 저장한 후\n",
        "# 변수에 저장되어 있는 문자를 그대로 출력해보자."
      ]
    },
    {
      "cell_type": "code",
      "source": [
        "a = input()\n",
        "print(a)"
      ],
      "metadata": {
        "colab": {
          "base_uri": "https://localhost:8080/"
        },
        "id": "TKLjpuPuj4Ip",
        "outputId": "936d01ed-bef7-4d9f-fe62-1b8ecf8d7d27"
      },
      "execution_count": 4,
      "outputs": [
        {
          "output_type": "stream",
          "name": "stdout",
          "text": [
            "a\n",
            "a\n"
          ]
        }
      ]
    }
  ]
}