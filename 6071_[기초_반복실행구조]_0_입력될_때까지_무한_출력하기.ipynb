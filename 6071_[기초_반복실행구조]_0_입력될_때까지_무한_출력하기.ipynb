{
  "nbformat": 4,
  "nbformat_minor": 0,
  "metadata": {
    "colab": {
      "name": "6071 [기초-반복실행구조] 0 입력될 때까지 무한 출력하기",
      "provenance": [],
      "authorship_tag": "ABX9TyMzUuXDM6MGu9EA1uCcnSAT",
      "include_colab_link": true
    },
    "kernelspec": {
      "name": "python3",
      "display_name": "Python 3"
    },
    "language_info": {
      "name": "python"
    }
  },
  "cells": [
    {
      "cell_type": "markdown",
      "metadata": {
        "id": "view-in-github",
        "colab_type": "text"
      },
      "source": [
        "<a href=\"https://colab.research.google.com/github/sangeon22/CodingTest-CodeUp100-Python/blob/main/6071_%5B%EA%B8%B0%EC%B4%88_%EB%B0%98%EB%B3%B5%EC%8B%A4%ED%96%89%EA%B5%AC%EC%A1%B0%5D_0_%EC%9E%85%EB%A0%A5%EB%90%A0_%EB%95%8C%EA%B9%8C%EC%A7%80_%EB%AC%B4%ED%95%9C_%EC%B6%9C%EB%A0%A5%ED%95%98%EA%B8%B0.ipynb\" target=\"_parent\"><img src=\"https://colab.research.google.com/assets/colab-badge.svg\" alt=\"Open In Colab\"/></a>"
      ]
    },
    {
      "cell_type": "code",
      "execution_count": 4,
      "metadata": {
        "id": "XIiK9oamMP2i"
      },
      "outputs": [],
      "source": [
        "# 임의의 정수가 줄을 바꿔 계속 입력된다.\n",
        "# -2147483648 ~ +2147483647, 단 개수는 알 수 없다.\n",
        "\n",
        "# 0이 아니면 입력된 정수를 출력하고, 0이 입력되면 출력을 중단해보자.\n"
      ]
    },
    {
      "cell_type": "code",
      "source": [
        "while True:\n",
        "  a = int(input())\n",
        "  if a == 0:\n",
        "    break\n",
        "  else:\n",
        "    print(a)"
      ],
      "metadata": {
        "colab": {
          "base_uri": "https://localhost:8080/"
        },
        "id": "5TKspFfIMjYf",
        "outputId": "57f4bf3a-f9bb-4d7e-f8bf-93ec82882ebe"
      },
      "execution_count": 5,
      "outputs": [
        {
          "name": "stdout",
          "output_type": "stream",
          "text": [
            "7\n",
            "7\n",
            "4\n",
            "4\n",
            "2\n",
            "2\n",
            "3\n",
            "3\n",
            "0\n"
          ]
        }
      ]
    }
  ]
}