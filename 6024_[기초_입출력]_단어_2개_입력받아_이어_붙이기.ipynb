{
  "nbformat": 4,
  "nbformat_minor": 0,
  "metadata": {
    "colab": {
      "name": "6024 [기초-입출력] 단어 2개 입력받아 이어 붙이기",
      "provenance": [],
      "authorship_tag": "ABX9TyN2JGLxMpaEWkylpGjzIOZI",
      "include_colab_link": true
    },
    "kernelspec": {
      "name": "python3",
      "display_name": "Python 3"
    },
    "language_info": {
      "name": "python"
    }
  },
  "cells": [
    {
      "cell_type": "markdown",
      "metadata": {
        "id": "view-in-github",
        "colab_type": "text"
      },
      "source": [
        "<a href=\"https://colab.research.google.com/github/sangeon22/CodingTest-CodeUp100-Python/blob/main/6024_%5B%EA%B8%B0%EC%B4%88_%EC%9E%85%EC%B6%9C%EB%A0%A5%5D_%EB%8B%A8%EC%96%B4_2%EA%B0%9C_%EC%9E%85%EB%A0%A5%EB%B0%9B%EC%95%84_%EC%9D%B4%EC%96%B4_%EB%B6%99%EC%9D%B4%EA%B8%B0.ipynb\" target=\"_parent\"><img src=\"https://colab.research.google.com/assets/colab-badge.svg\" alt=\"Open In Colab\"/></a>"
      ]
    },
    {
      "cell_type": "code",
      "execution_count": 1,
      "metadata": {
        "id": "xA6cr_aEE9Pj"
      },
      "outputs": [],
      "source": [
        "# 알파벳 문자와 숫자로 이루어진 단어 2개를 입력받아\n",
        "# 순서대로 붙여 출력하는 프로그램을 작성해보자."
      ]
    },
    {
      "cell_type": "code",
      "source": [
        "a,b = input().split()\n",
        "print(a,b,sep='')"
      ],
      "metadata": {
        "colab": {
          "base_uri": "https://localhost:8080/"
        },
        "id": "VdVz9iAMFYC7",
        "outputId": "77d09142-b7ac-4e38-c4d3-906ee7fc62c2"
      },
      "execution_count": 5,
      "outputs": [
        {
          "output_type": "stream",
          "name": "stdout",
          "text": [
            "hello world\n",
            "helloworld\n"
          ]
        }
      ]
    },
    {
      "cell_type": "code",
      "source": [
        ""
      ],
      "metadata": {
        "id": "05RQbKmEGBRj"
      },
      "execution_count": null,
      "outputs": []
    }
  ]
}