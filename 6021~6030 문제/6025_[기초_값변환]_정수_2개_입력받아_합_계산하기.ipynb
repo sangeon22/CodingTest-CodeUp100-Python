{
  "nbformat": 4,
  "nbformat_minor": 0,
  "metadata": {
    "colab": {
      "name": "6025 [기초-값변환] 정수 2개 입력받아 합 계산하기",
      "provenance": [],
      "authorship_tag": "ABX9TyPhnay+NrOWnUZ5TPdZHGHK",
      "include_colab_link": true
    },
    "kernelspec": {
      "name": "python3",
      "display_name": "Python 3"
    },
    "language_info": {
      "name": "python"
    }
  },
  "cells": [
    {
      "cell_type": "markdown",
      "metadata": {
        "id": "view-in-github",
        "colab_type": "text"
      },
      "source": [
        "<a href=\"https://colab.research.google.com/github/sangeon22/CodingTest-CodeUp100-Python/blob/main/6025_%5B%EA%B8%B0%EC%B4%88_%EA%B0%92%EB%B3%80%ED%99%98%5D_%EC%A0%95%EC%88%98_2%EA%B0%9C_%EC%9E%85%EB%A0%A5%EB%B0%9B%EC%95%84_%ED%95%A9_%EA%B3%84%EC%82%B0%ED%95%98%EA%B8%B0.ipynb\" target=\"_parent\"><img src=\"https://colab.research.google.com/assets/colab-badge.svg\" alt=\"Open In Colab\"/></a>"
      ]
    },
    {
      "cell_type": "code",
      "execution_count": 1,
      "metadata": {
        "id": "9mAxwKp7JbM3"
      },
      "outputs": [],
      "source": [
        "# 정수 2개를 입력받아\n",
        "# 합을 출력하는 프로그램을 작성해보자.\n"
      ]
    },
    {
      "cell_type": "code",
      "source": [
        "a,b = input().split()\n",
        "c = int(a) + int(b)\n",
        "print(c)"
      ],
      "metadata": {
        "colab": {
          "base_uri": "https://localhost:8080/"
        },
        "id": "Hzmqw8OELcHO",
        "outputId": "7f1985d2-c013-4c25-cd9e-a437e314a9a9"
      },
      "execution_count": 7,
      "outputs": [
        {
          "output_type": "stream",
          "name": "stdout",
          "text": [
            "4 5\n",
            "9\n"
          ]
        }
      ]
    },
    {
      "cell_type": "code",
      "source": [
        ""
      ],
      "metadata": {
        "id": "Y36wStbdL7E3"
      },
      "execution_count": null,
      "outputs": []
    }
  ]
}