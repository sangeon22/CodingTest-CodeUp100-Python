{
  "nbformat": 4,
  "nbformat_minor": 0,
  "metadata": {
    "colab": {
      "name": "6021 [기초-입출력] 단어 1개 입력받아 나누어 출력하기",
      "provenance": [],
      "authorship_tag": "ABX9TyMY5y/OkHW9NFteTJC922rm",
      "include_colab_link": true
    },
    "kernelspec": {
      "name": "python3",
      "display_name": "Python 3"
    },
    "language_info": {
      "name": "python"
    }
  },
  "cells": [
    {
      "cell_type": "markdown",
      "metadata": {
        "id": "view-in-github",
        "colab_type": "text"
      },
      "source": [
        "<a href=\"https://colab.research.google.com/github/sangeon22/CodingTest-CodeUp100-Python/blob/main/6021_%5B%EA%B8%B0%EC%B4%88_%EC%9E%85%EC%B6%9C%EB%A0%A5%5D_%EB%8B%A8%EC%96%B4_1%EA%B0%9C_%EC%9E%85%EB%A0%A5%EB%B0%9B%EC%95%84_%EB%82%98%EB%88%84%EC%96%B4_%EC%B6%9C%EB%A0%A5%ED%95%98%EA%B8%B0.ipynb\" target=\"_parent\"><img src=\"https://colab.research.google.com/assets/colab-badge.svg\" alt=\"Open In Colab\"/></a>"
      ]
    },
    {
      "cell_type": "code",
      "execution_count": 1,
      "metadata": {
        "id": "n3-qsnNZBc2z"
      },
      "outputs": [],
      "source": [
        "# 알파벳과 숫자로 이루어진 단어 1개가 입력된다.\n",
        "# 입력받은 단어의 각 문자를 한 줄에 한 문자씩 분리해 출력한다.\n"
      ]
    },
    {
      "cell_type": "code",
      "source": [
        "a = input()\n",
        "for i in a:\n",
        "  print(i)"
      ],
      "metadata": {
        "colab": {
          "base_uri": "https://localhost:8080/"
        },
        "id": "qx6yN_OBBgmD",
        "outputId": "523f1312-8c74-41dd-fd3a-348ce860e190"
      },
      "execution_count": 2,
      "outputs": [
        {
          "output_type": "stream",
          "name": "stdout",
          "text": [
            "hello\n",
            "h\n",
            "e\n",
            "l\n",
            "l\n",
            "o\n"
          ]
        }
      ]
    },
    {
      "cell_type": "code",
      "source": [
        ""
      ],
      "metadata": {
        "id": "dlWdKJXEB9si"
      },
      "execution_count": null,
      "outputs": []
    }
  ]
}