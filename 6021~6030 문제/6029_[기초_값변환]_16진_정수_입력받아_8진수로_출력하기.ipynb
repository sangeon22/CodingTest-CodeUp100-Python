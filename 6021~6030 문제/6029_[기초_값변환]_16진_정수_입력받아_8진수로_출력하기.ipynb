{
  "nbformat": 4,
  "nbformat_minor": 0,
  "metadata": {
    "colab": {
      "name": "6029 [기초-값변환] 16진 정수 입력받아 8진수로 출력하기",
      "provenance": [],
      "authorship_tag": "ABX9TyNcyk+1Os0CZoEB7nQk3e7J",
      "include_colab_link": true
    },
    "kernelspec": {
      "name": "python3",
      "display_name": "Python 3"
    },
    "language_info": {
      "name": "python"
    }
  },
  "cells": [
    {
      "cell_type": "markdown",
      "metadata": {
        "id": "view-in-github",
        "colab_type": "text"
      },
      "source": [
        "<a href=\"https://colab.research.google.com/github/sangeon22/CodingTest-CodeUp100-Python/blob/main/6029_%5B%EA%B8%B0%EC%B4%88_%EA%B0%92%EB%B3%80%ED%99%98%5D_16%EC%A7%84_%EC%A0%95%EC%88%98_%EC%9E%85%EB%A0%A5%EB%B0%9B%EC%95%84_8%EC%A7%84%EC%88%98%EB%A1%9C_%EC%B6%9C%EB%A0%A5%ED%95%98%EA%B8%B0.ipynb\" target=\"_parent\"><img src=\"https://colab.research.google.com/assets/colab-badge.svg\" alt=\"Open In Colab\"/></a>"
      ]
    },
    {
      "cell_type": "code",
      "execution_count": 1,
      "metadata": {
        "id": "GpfFWgKIONAI"
      },
      "outputs": [],
      "source": [
        "# 16진수를 입력받아 8진수(octal)로 출력해보자."
      ]
    },
    {
      "cell_type": "code",
      "source": [
        "a = input()\n",
        "b = int(a, 16)\n",
        "print('%o' %b)"
      ],
      "metadata": {
        "colab": {
          "base_uri": "https://localhost:8080/"
        },
        "id": "1ZLCwEmYOPrp",
        "outputId": "fcd93574-73d1-4bdd-e9f8-b836c43938bf"
      },
      "execution_count": 8,
      "outputs": [
        {
          "output_type": "stream",
          "name": "stdout",
          "text": [
            "ff\n",
            "377\n"
          ]
        }
      ]
    }
  ]
}