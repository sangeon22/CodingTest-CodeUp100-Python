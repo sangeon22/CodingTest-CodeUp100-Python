{
  "nbformat": 4,
  "nbformat_minor": 0,
  "metadata": {
    "colab": {
      "name": "6023 [기초-입출력] 시분초 입력받아 분만 출력하기",
      "provenance": [],
      "authorship_tag": "ABX9TyOX4YqrjPF/epIt2MPXdEuq",
      "include_colab_link": true
    },
    "kernelspec": {
      "name": "python3",
      "display_name": "Python 3"
    },
    "language_info": {
      "name": "python"
    }
  },
  "cells": [
    {
      "cell_type": "markdown",
      "metadata": {
        "id": "view-in-github",
        "colab_type": "text"
      },
      "source": [
        "<a href=\"https://colab.research.google.com/github/sangeon22/CodingTest-CodeUp100-Python/blob/main/6023_%5B%EA%B8%B0%EC%B4%88_%EC%9E%85%EC%B6%9C%EB%A0%A5%5D_%EC%8B%9C%EB%B6%84%EC%B4%88_%EC%9E%85%EB%A0%A5%EB%B0%9B%EC%95%84_%EB%B6%84%EB%A7%8C_%EC%B6%9C%EB%A0%A5%ED%95%98%EA%B8%B0.ipynb\" target=\"_parent\"><img src=\"https://colab.research.google.com/assets/colab-badge.svg\" alt=\"Open In Colab\"/></a>"
      ]
    },
    {
      "cell_type": "code",
      "execution_count": 1,
      "metadata": {
        "id": "PVaAOFeHEStM"
      },
      "outputs": [],
      "source": [
        "# 시:분:초 형식으로 시간이 입력될 때 분만 출력해보자.\n",
        "\n",
        "# 어떻게 분만 출력해야 할지 주의 깊게 생각해야한다."
      ]
    },
    {
      "cell_type": "code",
      "source": [
        "a = input().split(':')\n",
        "print(a[1])"
      ],
      "metadata": {
        "colab": {
          "base_uri": "https://localhost:8080/"
        },
        "id": "B9rfubLMEXK5",
        "outputId": "717a635a-40aa-4dc4-deab-63c790a793b4"
      },
      "execution_count": 3,
      "outputs": [
        {
          "output_type": "stream",
          "name": "stdout",
          "text": [
            "18:48:54\n",
            "48\n"
          ]
        }
      ]
    },
    {
      "cell_type": "code",
      "source": [
        "1"
      ],
      "metadata": {
        "id": "a8y_t5Z4Ezhv"
      },
      "execution_count": null,
      "outputs": []
    }
  ]
}