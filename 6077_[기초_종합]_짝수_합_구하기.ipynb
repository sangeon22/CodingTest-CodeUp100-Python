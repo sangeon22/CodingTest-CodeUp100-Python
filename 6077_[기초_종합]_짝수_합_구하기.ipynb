{
  "nbformat": 4,
  "nbformat_minor": 0,
  "metadata": {
    "colab": {
      "name": "6077 [기초-종합] 짝수 합 구하기",
      "provenance": [],
      "authorship_tag": "ABX9TyNzpCs1jllMrEmZ4EMZwtPL",
      "include_colab_link": true
    },
    "kernelspec": {
      "name": "python3",
      "display_name": "Python 3"
    },
    "language_info": {
      "name": "python"
    }
  },
  "cells": [
    {
      "cell_type": "markdown",
      "metadata": {
        "id": "view-in-github",
        "colab_type": "text"
      },
      "source": [
        "<a href=\"https://colab.research.google.com/github/sangeon22/CodingTest-CodeUp100-Python/blob/main/6077_%5B%EA%B8%B0%EC%B4%88_%EC%A2%85%ED%95%A9%5D_%EC%A7%9D%EC%88%98_%ED%95%A9_%EA%B5%AC%ED%95%98%EA%B8%B0.ipynb\" target=\"_parent\"><img src=\"https://colab.research.google.com/assets/colab-badge.svg\" alt=\"Open In Colab\"/></a>"
      ]
    },
    {
      "cell_type": "code",
      "execution_count": 4,
      "metadata": {
        "id": "XIiK9oamMP2i"
      },
      "outputs": [],
      "source": [
        "# 정수(1 ~ 100) 1개를 입력받아 1부터 그 수까지 짝수의 합을 구해보자.\n",
        "\n",
        "# 예시\n",
        "#다음 코드는 홀 수만 더해 출력한다.\n",
        "# n = int(input())\n",
        "# s = 0\n",
        "# for i in range(1, n+1) :\n",
        "#   if i%2==1 :\n",
        "#     s += i\n",
        "# print(s)"
      ]
    },
    {
      "cell_type": "code",
      "source": [
        "target = int(input())\n",
        "sum = 0\n",
        "\n",
        "for i in range(target+1):\n",
        "  if(i%2==0):\n",
        "    sum += i\n",
        "print(sum)"
      ],
      "metadata": {
        "colab": {
          "base_uri": "https://localhost:8080/"
        },
        "id": "5TKspFfIMjYf",
        "outputId": "c0e1bd34-9f9b-4072-d147-f6d25002a840"
      },
      "execution_count": 27,
      "outputs": [
        {
          "output_type": "stream",
          "name": "stdout",
          "text": [
            "5\n",
            "6\n"
          ]
        }
      ]
    }
  ]
}