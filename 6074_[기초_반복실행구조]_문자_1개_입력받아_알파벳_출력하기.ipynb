{
  "nbformat": 4,
  "nbformat_minor": 0,
  "metadata": {
    "colab": {
      "name": "6074 [기초-반복실행구조] 문자 1개 입력받아 알파벳 출력하기",
      "provenance": [],
      "authorship_tag": "ABX9TyNtU0GBLwHyWi5u0sr2nCL2",
      "include_colab_link": true
    },
    "kernelspec": {
      "name": "python3",
      "display_name": "Python 3"
    },
    "language_info": {
      "name": "python"
    }
  },
  "cells": [
    {
      "cell_type": "markdown",
      "metadata": {
        "id": "view-in-github",
        "colab_type": "text"
      },
      "source": [
        "<a href=\"https://colab.research.google.com/github/sangeon22/CodingTest-CodeUp100-Python/blob/main/6074_%5B%EA%B8%B0%EC%B4%88_%EB%B0%98%EB%B3%B5%EC%8B%A4%ED%96%89%EA%B5%AC%EC%A1%B0%5D_%EB%AC%B8%EC%9E%90_1%EA%B0%9C_%EC%9E%85%EB%A0%A5%EB%B0%9B%EC%95%84_%EC%95%8C%ED%8C%8C%EB%B2%B3_%EC%B6%9C%EB%A0%A5%ED%95%98%EA%B8%B0.ipynb\" target=\"_parent\"><img src=\"https://colab.research.google.com/assets/colab-badge.svg\" alt=\"Open In Colab\"/></a>"
      ]
    },
    {
      "cell_type": "code",
      "execution_count": 4,
      "metadata": {
        "id": "XIiK9oamMP2i"
      },
      "outputs": [],
      "source": [
        "# 영문 소문자(a ~ z) 1개가 입력되었을 때,\n",
        "# a부터 그 문자까지의 알파벳을 순서대로 출력해보자.\n",
        "\n",
        "# 예시\n",
        "# c = ord(input())\n",
        "# t = ord('a')\n",
        "# while t<=c :\n",
        "#   print(chr(t), end=' ')\n",
        "#   t += 1"
      ]
    },
    {
      "cell_type": "code",
      "source": [
        "target = ord(input())\n",
        "a = ord('a')\n",
        "z = ord('z')\n",
        "\n",
        "while a <= target <= z:\n",
        "  print(chr(a), end=' ')\n",
        "  a += 1"
      ],
      "metadata": {
        "colab": {
          "base_uri": "https://localhost:8080/"
        },
        "id": "5TKspFfIMjYf",
        "outputId": "0720445d-2e8a-40e1-ef19-709badf8f5b9"
      },
      "execution_count": 19,
      "outputs": [
        {
          "output_type": "stream",
          "name": "stdout",
          "text": [
            "f\n",
            "a b c d e f "
          ]
        }
      ]
    }
  ]
}