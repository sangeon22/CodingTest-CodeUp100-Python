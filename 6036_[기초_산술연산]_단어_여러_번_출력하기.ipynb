{
  "nbformat": 4,
  "nbformat_minor": 0,
  "metadata": {
    "colab": {
      "name": "6036 [기초-산술연산] 단어 여러 번 출력하기",
      "provenance": [],
      "authorship_tag": "ABX9TyPawRtKO+Dz9RNP4kAc1uL9",
      "include_colab_link": true
    },
    "kernelspec": {
      "name": "python3",
      "display_name": "Python 3"
    },
    "language_info": {
      "name": "python"
    }
  },
  "cells": [
    {
      "cell_type": "markdown",
      "metadata": {
        "id": "view-in-github",
        "colab_type": "text"
      },
      "source": [
        "<a href=\"https://colab.research.google.com/github/sangeon22/CodingTest-CodeUp100-Python/blob/main/6036_%5B%EA%B8%B0%EC%B4%88_%EC%82%B0%EC%88%A0%EC%97%B0%EC%82%B0%5D_%EB%8B%A8%EC%96%B4_%EC%97%AC%EB%9F%AC_%EB%B2%88_%EC%B6%9C%EB%A0%A5%ED%95%98%EA%B8%B0.ipynb\" target=\"_parent\"><img src=\"https://colab.research.google.com/assets/colab-badge.svg\" alt=\"Open In Colab\"/></a>"
      ]
    },
    {
      "cell_type": "code",
      "execution_count": null,
      "metadata": {
        "id": "wN1oe3HnMKW3"
      },
      "outputs": [],
      "source": [
        "# 단어와 반복 횟수를 입력받아 여러 번 출력해보자."
      ]
    },
    {
      "cell_type": "code",
      "source": [
        "word, count = input().split()\n",
        "count = int(count)\n",
        "print(word*count)"
      ],
      "metadata": {
        "colab": {
          "base_uri": "https://localhost:8080/"
        },
        "id": "wpt7VxPVMN9A",
        "outputId": "649c25ab-7d51-46dd-daed-19e95d0c6a4d"
      },
      "execution_count": 1,
      "outputs": [
        {
          "output_type": "stream",
          "name": "stdout",
          "text": [
            "love 3\n",
            "lovelovelove\n"
          ]
        }
      ]
    }
  ]
}