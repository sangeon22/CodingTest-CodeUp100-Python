{
  "nbformat": 4,
  "nbformat_minor": 0,
  "metadata": {
    "colab": {
      "name": "6061 [기초-비트단위논리연산] 비트단위로 OR 하여 출력하기",
      "provenance": [],
      "authorship_tag": "ABX9TyPwYaKPP1lJFyWiYRWWf8py",
      "include_colab_link": true
    },
    "kernelspec": {
      "name": "python3",
      "display_name": "Python 3"
    },
    "language_info": {
      "name": "python"
    }
  },
  "cells": [
    {
      "cell_type": "markdown",
      "metadata": {
        "id": "view-in-github",
        "colab_type": "text"
      },
      "source": [
        "<a href=\"https://colab.research.google.com/github/sangeon22/CodingTest-CodeUp100-Python/blob/main/6061_%5B%EA%B8%B0%EC%B4%88_%EB%B9%84%ED%8A%B8%EB%8B%A8%EC%9C%84%EB%85%BC%EB%A6%AC%EC%97%B0%EC%82%B0%5D_%EB%B9%84%ED%8A%B8%EB%8B%A8%EC%9C%84%EB%A1%9C_OR_%ED%95%98%EC%97%AC_%EC%B6%9C%EB%A0%A5%ED%95%98%EA%B8%B0.ipynb\" target=\"_parent\"><img src=\"https://colab.research.google.com/assets/colab-badge.svg\" alt=\"Open In Colab\"/></a>"
      ]
    },
    {
      "cell_type": "code",
      "execution_count": 1,
      "metadata": {
        "id": "AvMSZ4qY8QyW"
      },
      "outputs": [],
      "source": [
        "# 입력된 정수 두 개를 비트단위로 or 연산한 후 그 결과를 정수로 출력해보자.\n",
        "# 비트단위(bitwise) 연산자 |(or, vertical bar, 버티컬바)를 사용하면 된다."
      ]
    },
    {
      "cell_type": "code",
      "source": [
        "a, b = map(int, input().split())\n",
        "c = a | b\n",
        "print(c)"
      ],
      "metadata": {
        "id": "jI_IKUw38U0a",
        "outputId": "221726e8-e41b-40a6-f00e-e558524650d1",
        "colab": {
          "base_uri": "https://localhost:8080/"
        }
      },
      "execution_count": 2,
      "outputs": [
        {
          "output_type": "stream",
          "name": "stdout",
          "text": [
            "3 5\n",
            "7\n"
          ]
        }
      ]
    }
  ]
}