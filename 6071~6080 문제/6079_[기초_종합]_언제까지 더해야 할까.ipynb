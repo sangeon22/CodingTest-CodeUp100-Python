{
 "nbformat": 4,
 "nbformat_minor": 0,
 "metadata": {
  "colab": {
   "name": "6078 [기초-종합] 원하는 문자가 입력될 때까지 반복 출력하기",
   "provenance": [],
   "authorship_tag": "ABX9TyM+VFZuxWsQrQkjS9QoYIpk",
   "include_colab_link": true
  },
  "kernelspec": {
   "name": "python3",
   "display_name": "Python 3"
  },
  "language_info": {
   "name": "python"
  }
 },
 "cells": [
  {
   "cell_type": "markdown",
   "metadata": {
    "id": "view-in-github",
    "colab_type": "text"
   },
   "source": [
    "<a href=\"https://colab.research.google.com/github/sangeon22/CodingTest-CodeUp100-Python/blob/main/6078_%5B%EA%B8%B0%EC%B4%88_%EC%A2%85%ED%95%A9%5D_%EC%9B%90%ED%95%98%EB%8A%94_%EB%AC%B8%EC%9E%90%EA%B0%80_%EC%9E%85%EB%A0%A5%EB%90%A0_%EB%95%8C%EA%B9%8C%EC%A7%80_%EB%B0%98%EB%B3%B5_%EC%B6%9C%EB%A0%A5%ED%95%98%EA%B8%B0.ipynb\" target=\"_parent\"><img src=\"https://colab.research.google.com/assets/colab-badge.svg\" alt=\"Open In Colab\"/></a>"
   ]
  },
  {
   "cell_type": "code",
   "execution_count": 4,
   "metadata": {
    "id": "XIiK9oamMP2i"
   },
   "outputs": [],
   "source": [
    "# 1, 2, 3 ... 을 계속 더해 나갈 때,\n",
    "# 그 합이 입력한 정수(0 ~ 1000)보다 같거나 작을 때까지만\n",
    "# 계속 더하는 프로그램을 작성해보자.\n",
    "\n",
    "# 즉, 1부터 n까지 정수를 계속 더해 나간다고 할 때,\n",
    "# 어디까지 더해야 입력한 수보다 같거나 커지는 지를 알아보고자하는 문제이다.\n",
    "\n"
   ]
  },
  {
   "cell_type": "code",
   "source": [
    "target = int(input())\n",
    "sum = 0\n",
    "i = 0\n",
    "while True:\n",
    "  i += 1\n",
    "  sum += i\n",
    "  if(sum>=target):\n",
    "    print(i)\n",
    "    break"
   ],
   "metadata": {
    "colab": {
     "base_uri": "https://localhost:8080/"
    },
    "id": "5TKspFfIMjYf",
    "outputId": "d7c74743-0ea9-4205-b224-c10627e8ad6a",
    "pycharm": {
     "name": "#%%\n"
    }
   },
   "execution_count": 3,
   "outputs": [
    {
     "name": "stdout",
     "output_type": "stream",
     "text": [
      "10\n"
     ]
    }
   ]
  }
 ]
}