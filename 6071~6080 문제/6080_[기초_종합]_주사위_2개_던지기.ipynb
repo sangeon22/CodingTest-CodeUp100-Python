{
  "nbformat": 4,
  "nbformat_minor": 0,
  "metadata": {
    "colab": {
      "name": "6080 [기초-종합] 주사위 2개 던지기",
      "provenance": [],
      "authorship_tag": "ABX9TyNkRUSC4GklHbOXxkdi1Lxr",
      "include_colab_link": true
    },
    "kernelspec": {
      "name": "python3",
      "display_name": "Python 3"
    },
    "language_info": {
      "name": "python"
    }
  },
  "cells": [
    {
      "cell_type": "markdown",
      "metadata": {
        "id": "view-in-github",
        "colab_type": "text"
      },
      "source": [
        "<a href=\"https://colab.research.google.com/github/sangeon22/CodingTest-CodeUp100-Python/blob/main/6080_%5B%EA%B8%B0%EC%B4%88_%EC%A2%85%ED%95%A9%5D_%EC%A3%BC%EC%82%AC%EC%9C%84_2%EA%B0%9C_%EB%8D%98%EC%A7%80%EA%B8%B0.ipynb\" target=\"_parent\"><img src=\"https://colab.research.google.com/assets/colab-badge.svg\" alt=\"Open In Colab\"/></a>"
      ]
    },
    {
      "cell_type": "code",
      "execution_count": 4,
      "metadata": {
        "id": "XIiK9oamMP2i"
      },
      "outputs": [],
      "source": [
        "# 1부터 n까지, 1부터 m까지 숫자가 적힌 서로 다른 주사위 2개를 던졌을 때,\n",
        "# 나올 수 있는 모든 경우를 출력해보자."
      ]
    },
    {
      "cell_type": "code",
      "source": [
        "n,m = map(int, input().split())\n",
        "for i in range(1, n+1):\n",
        "  for j in range(1, m+1):\n",
        "    print(i,j)"
      ],
      "metadata": {
        "colab": {
          "base_uri": "https://localhost:8080/"
        },
        "id": "5TKspFfIMjYf",
        "outputId": "510293ef-2c68-48fa-d577-27f73b391d05"
      },
      "execution_count": 54,
      "outputs": [
        {
          "output_type": "stream",
          "name": "stdout",
          "text": [
            "2 3\n",
            "1 1\n",
            "1 2\n",
            "1 3\n",
            "2 1\n",
            "2 2\n",
            "2 3\n"
          ]
        }
      ]
    }
  ]
}