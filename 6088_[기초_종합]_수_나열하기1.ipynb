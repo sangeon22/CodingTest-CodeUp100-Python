{
  "nbformat": 4,
  "nbformat_minor": 0,
  "metadata": {
    "colab": {
      "name": "6088 [기초-종합] 수 나열하기1",
      "provenance": [],
      "authorship_tag": "ABX9TyOcYCBrwE86b9dDjyr50TSp",
      "include_colab_link": true
    },
    "kernelspec": {
      "name": "python3",
      "display_name": "Python 3"
    },
    "language_info": {
      "name": "python"
    }
  },
  "cells": [
    {
      "cell_type": "markdown",
      "metadata": {
        "id": "view-in-github",
        "colab_type": "text"
      },
      "source": [
        "<a href=\"https://colab.research.google.com/github/sangeon22/CodingTest-CodeUp100-Python/blob/main/6088_%5B%EA%B8%B0%EC%B4%88_%EC%A2%85%ED%95%A9%5D_%EC%88%98_%EB%82%98%EC%97%B4%ED%95%98%EA%B8%B01.ipynb\" target=\"_parent\"><img src=\"https://colab.research.google.com/assets/colab-badge.svg\" alt=\"Open In Colab\"/></a>"
      ]
    },
    {
      "cell_type": "code",
      "execution_count": 7,
      "metadata": {
        "colab": {
          "base_uri": "https://localhost:8080/",
          "height": 72
        },
        "id": "1LTj7-GprcTM",
        "outputId": "9c188a5f-9564-4e3b-e475-df12234753a5"
      },
      "outputs": [
        {
          "output_type": "execute_result",
          "data": {
            "text/plain": [
              "'\\n어떤 규칙에 따라 수를 순서대로 나열한 것을 수열(sequences)이라고 한다.\\n\\n예를 들어\\n1 4 7 10 13 16 19 22 25 ... 은\\n1부터 시작해 이전에 만든 수에 3을 더해 다음 수를 만든 수열이다.\\n이러한 것을 수학에서는 앞뒤 수들의 차이가 같다고 하여\\n\\n등차(차이가 같다의 한문 말) 수열이라고 한다. (등차수열 : arithmetic progression/sequence)\\n수열을 알게 된 영일이는 갑자기 궁금해졌다.\\n\\n\"그럼.... 123번째 나오는 수는 뭘까?\"\\n\\n영일이는 프로그램을 만들어 더 큰 수도 자동으로 계산하고 싶어졌다.\\n\\n시작 값(a), 등차(d), 몇 번째인지를 나타내는 정수(n)가 입력될 때\\nn번째 수를 출력하는 프로그램을 만들어보자.\\n'"
            ],
            "application/vnd.google.colaboratory.intrinsic+json": {
              "type": "string"
            }
          },
          "metadata": {},
          "execution_count": 7
        }
      ],
      "source": [
        "\"\"\"\n",
        "어떤 규칙에 따라 수를 순서대로 나열한 것을 수열(sequences)이라고 한다.\n",
        "\n",
        "예를 들어\n",
        "1 4 7 10 13 16 19 22 25 ... 은\n",
        "1부터 시작해 이전에 만든 수에 3을 더해 다음 수를 만든 수열이다.\n",
        "이러한 것을 수학에서는 앞뒤 수들의 차이가 같다고 하여\n",
        "\n",
        "등차(차이가 같다의 한문 말) 수열이라고 한다. (등차수열 : arithmetic progression/sequence)\n",
        "수열을 알게 된 영일이는 갑자기 궁금해졌다.\n",
        "\n",
        "\"그럼.... 123번째 나오는 수는 뭘까?\"\n",
        "\n",
        "영일이는 프로그램을 만들어 더 큰 수도 자동으로 계산하고 싶어졌다.\n",
        "\n",
        "시작 값(a), 등차(d), 몇 번째인지를 나타내는 정수(n)가 입력될 때\n",
        "n번째 수를 출력하는 프로그램을 만들어보자.\n",
        "\"\"\""
      ]
    },
    {
      "cell_type": "code",
      "source": [
        "a, d , n = map(int, input().split())\n",
        "print(a+(n-1)*d)"
      ],
      "metadata": {
        "colab": {
          "base_uri": "https://localhost:8080/"
        },
        "id": "TSkcnuUasBso",
        "outputId": "48dc2e66-80b3-4328-f891-8d42fa5fa8c8"
      },
      "execution_count": 11,
      "outputs": [
        {
          "output_type": "stream",
          "name": "stdout",
          "text": [
            "1 3 5\n",
            "13\n"
          ]
        }
      ]
    },
    {
      "cell_type": "code",
      "source": [
        "a, d , n = map(int, input().split())\n",
        "for i in range(1,n):\n",
        "  a = a+d\n",
        "print(a)\n"
      ],
      "metadata": {
        "colab": {
          "base_uri": "https://localhost:8080/"
        },
        "id": "I_xFyHO_vu93",
        "outputId": "0886286e-0abc-405f-bd43-2aa23df738ef"
      },
      "execution_count": 35,
      "outputs": [
        {
          "output_type": "stream",
          "name": "stdout",
          "text": [
            "2 10 100\n",
            "a=12 , i=1\n",
            "a=22 , i=2\n",
            "a=32 , i=3\n",
            "a=42 , i=4\n",
            "a=52 , i=5\n",
            "a=62 , i=6\n",
            "a=72 , i=7\n",
            "a=82 , i=8\n",
            "a=92 , i=9\n",
            "a=102 , i=10\n",
            "a=112 , i=11\n",
            "a=122 , i=12\n",
            "a=132 , i=13\n",
            "a=142 , i=14\n",
            "a=152 , i=15\n",
            "a=162 , i=16\n",
            "a=172 , i=17\n",
            "a=182 , i=18\n",
            "a=192 , i=19\n",
            "a=202 , i=20\n",
            "a=212 , i=21\n",
            "a=222 , i=22\n",
            "a=232 , i=23\n",
            "a=242 , i=24\n",
            "a=252 , i=25\n",
            "a=262 , i=26\n",
            "a=272 , i=27\n",
            "a=282 , i=28\n",
            "a=292 , i=29\n",
            "a=302 , i=30\n",
            "a=312 , i=31\n",
            "a=322 , i=32\n",
            "a=332 , i=33\n",
            "a=342 , i=34\n",
            "a=352 , i=35\n",
            "a=362 , i=36\n",
            "a=372 , i=37\n",
            "a=382 , i=38\n",
            "a=392 , i=39\n",
            "a=402 , i=40\n",
            "a=412 , i=41\n",
            "a=422 , i=42\n",
            "a=432 , i=43\n",
            "a=442 , i=44\n",
            "a=452 , i=45\n",
            "a=462 , i=46\n",
            "a=472 , i=47\n",
            "a=482 , i=48\n",
            "a=492 , i=49\n",
            "a=502 , i=50\n",
            "a=512 , i=51\n",
            "a=522 , i=52\n",
            "a=532 , i=53\n",
            "a=542 , i=54\n",
            "a=552 , i=55\n",
            "a=562 , i=56\n",
            "a=572 , i=57\n",
            "a=582 , i=58\n",
            "a=592 , i=59\n",
            "a=602 , i=60\n",
            "a=612 , i=61\n",
            "a=622 , i=62\n",
            "a=632 , i=63\n",
            "a=642 , i=64\n",
            "a=652 , i=65\n",
            "a=662 , i=66\n",
            "a=672 , i=67\n",
            "a=682 , i=68\n",
            "a=692 , i=69\n",
            "a=702 , i=70\n",
            "a=712 , i=71\n",
            "a=722 , i=72\n",
            "a=732 , i=73\n",
            "a=742 , i=74\n",
            "a=752 , i=75\n",
            "a=762 , i=76\n",
            "a=772 , i=77\n",
            "a=782 , i=78\n",
            "a=792 , i=79\n",
            "a=802 , i=80\n",
            "a=812 , i=81\n",
            "a=822 , i=82\n",
            "a=832 , i=83\n",
            "a=842 , i=84\n",
            "a=852 , i=85\n",
            "a=862 , i=86\n",
            "a=872 , i=87\n",
            "a=882 , i=88\n",
            "a=892 , i=89\n",
            "a=902 , i=90\n",
            "a=912 , i=91\n",
            "a=922 , i=92\n",
            "a=932 , i=93\n",
            "a=942 , i=94\n",
            "a=952 , i=95\n",
            "a=962 , i=96\n",
            "a=972 , i=97\n",
            "a=982 , i=98\n",
            "a=992 , i=99\n",
            "992\n"
          ]
        }
      ]
    }
  ]
}