{
  "nbformat": 4,
  "nbformat_minor": 0,
  "metadata": {
    "colab": {
      "name": "6051 [기초-비교연산] 정수 2개 입력받아 비교하기4",
      "provenance": [],
      "authorship_tag": "ABX9TyMWMyehQk2rMMMrfKPuW8rM",
      "include_colab_link": true
    },
    "kernelspec": {
      "name": "python3",
      "display_name": "Python 3"
    },
    "language_info": {
      "name": "python"
    }
  },
  "cells": [
    {
      "cell_type": "markdown",
      "metadata": {
        "id": "view-in-github",
        "colab_type": "text"
      },
      "source": [
        "<a href=\"https://colab.research.google.com/github/sangeon22/CodingTest-CodeUp100-Python/blob/main/6051_%5B%EA%B8%B0%EC%B4%88_%EB%B9%84%EA%B5%90%EC%97%B0%EC%82%B0%5D_%EC%A0%95%EC%88%98_2%EA%B0%9C_%EC%9E%85%EB%A0%A5%EB%B0%9B%EC%95%84_%EB%B9%84%EA%B5%90%ED%95%98%EA%B8%B04.ipynb\" target=\"_parent\"><img src=\"https://colab.research.google.com/assets/colab-badge.svg\" alt=\"Open In Colab\"/></a>"
      ]
    },
    {
      "cell_type": "code",
      "execution_count": 1,
      "metadata": {
        "id": "vCbpM89HZyzQ"
      },
      "outputs": [],
      "source": [
        "# 두 정수(a, b)를 입력받아\n",
        "# a의 값이 b의 값과 서로 다르면 True 를, 같으면 False 를 출력하는 프로그램을 작성해보자."
      ]
    },
    {
      "cell_type": "code",
      "source": [
        "a, b = map(int, input().split())\n",
        "print(a!=b)"
      ],
      "metadata": {
        "colab": {
          "base_uri": "https://localhost:8080/"
        },
        "id": "yZp8eoaIbqYU",
        "outputId": "766ca362-ee64-44d0-f0b7-261c0d88db0a"
      },
      "execution_count": 5,
      "outputs": [
        {
          "output_type": "stream",
          "name": "stdout",
          "text": [
            "4 5\n",
            "True\n"
          ]
        }
      ]
    }
  ]
}