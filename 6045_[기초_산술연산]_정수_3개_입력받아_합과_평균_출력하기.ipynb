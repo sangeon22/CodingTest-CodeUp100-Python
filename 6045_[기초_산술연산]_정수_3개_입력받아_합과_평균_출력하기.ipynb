{
  "nbformat": 4,
  "nbformat_minor": 0,
  "metadata": {
    "colab": {
      "name": "6045 [기초-산술연산] 정수 3개 입력받아 합과 평균 출력하기",
      "provenance": [],
      "authorship_tag": "ABX9TyP8Y80PJ98uW9flY+Dpcq2h",
      "include_colab_link": true
    },
    "kernelspec": {
      "name": "python3",
      "display_name": "Python 3"
    },
    "language_info": {
      "name": "python"
    }
  },
  "cells": [
    {
      "cell_type": "markdown",
      "metadata": {
        "id": "view-in-github",
        "colab_type": "text"
      },
      "source": [
        "<a href=\"https://colab.research.google.com/github/sangeon22/CodingTest-CodeUp100-Python/blob/main/6045_%5B%EA%B8%B0%EC%B4%88_%EC%82%B0%EC%88%A0%EC%97%B0%EC%82%B0%5D_%EC%A0%95%EC%88%98_3%EA%B0%9C_%EC%9E%85%EB%A0%A5%EB%B0%9B%EC%95%84_%ED%95%A9%EA%B3%BC_%ED%8F%89%EA%B7%A0_%EC%B6%9C%EB%A0%A5%ED%95%98%EA%B8%B0.ipynb\" target=\"_parent\"><img src=\"https://colab.research.google.com/assets/colab-badge.svg\" alt=\"Open In Colab\"/></a>"
      ]
    },
    {
      "cell_type": "code",
      "execution_count": 8,
      "metadata": {
        "id": "53LfUy6UZxI9"
      },
      "outputs": [],
      "source": [
        "# 정수 3개를 입력받아 합과 평균을 출력해보자."
      ]
    },
    {
      "cell_type": "code",
      "source": [
        "a, b, c= map(int, input().split())\n",
        "sum = a+b+c\n",
        "avg = format(sum/3, \".2f\")\n",
        "print(sum, avg)"
      ],
      "metadata": {
        "colab": {
          "base_uri": "https://localhost:8080/"
        },
        "id": "hNmoz7UgZ12W",
        "outputId": "b840afd4-e61b-44be-a9a0-ef46a64c5e73"
      },
      "execution_count": 10,
      "outputs": [
        {
          "output_type": "stream",
          "name": "stdout",
          "text": [
            "1 2 3\n",
            "6 2.00\n"
          ]
        }
      ]
    }
  ]
}