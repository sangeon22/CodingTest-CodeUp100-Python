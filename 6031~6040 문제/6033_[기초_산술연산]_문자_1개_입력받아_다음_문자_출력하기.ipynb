{
  "nbformat": 4,
  "nbformat_minor": 0,
  "metadata": {
    "colab": {
      "name": "6033 [기초-산술연산] 문자 1개 입력받아 다음 문자 출력하기",
      "provenance": [],
      "authorship_tag": "ABX9TyMVfEI9ncqU1Sx/zEmCQdLR",
      "include_colab_link": true
    },
    "kernelspec": {
      "name": "python3",
      "display_name": "Python 3"
    },
    "language_info": {
      "name": "python"
    }
  },
  "cells": [
    {
      "cell_type": "markdown",
      "metadata": {
        "id": "view-in-github",
        "colab_type": "text"
      },
      "source": [
        "<a href=\"https://colab.research.google.com/github/sangeon22/CodingTest-CodeUp100-Python/blob/main/6033_%5B%EA%B8%B0%EC%B4%88_%EC%82%B0%EC%88%A0%EC%97%B0%EC%82%B0%5D_%EB%AC%B8%EC%9E%90_1%EA%B0%9C_%EC%9E%85%EB%A0%A5%EB%B0%9B%EC%95%84_%EB%8B%A4%EC%9D%8C_%EB%AC%B8%EC%9E%90_%EC%B6%9C%EB%A0%A5%ED%95%98%EA%B8%B0.ipynb\" target=\"_parent\"><img src=\"https://colab.research.google.com/assets/colab-badge.svg\" alt=\"Open In Colab\"/></a>"
      ]
    },
    {
      "cell_type": "code",
      "execution_count": 1,
      "metadata": {
        "id": "joXSglx1J6PQ"
      },
      "outputs": [],
      "source": [
        "# 문자 1개를 입력받아 그 다음 문자를 출력해보자.\n",
        "# 영문자 'A'의 다음 문자는 'B'이고, 숫자 '0'의 다음 문자는 '1'이다.\n"
      ]
    },
    {
      "cell_type": "code",
      "source": [
        "a = ord(input())\n",
        "b = chr(a+1)\n",
        "print(b)"
      ],
      "metadata": {
        "colab": {
          "base_uri": "https://localhost:8080/"
        },
        "id": "nVI2ekGlJ8jF",
        "outputId": "7395e975-f92d-4ff5-dd65-e414a21de0e9"
      },
      "execution_count": 7,
      "outputs": [
        {
          "output_type": "stream",
          "name": "stdout",
          "text": [
            "A\n",
            "B\n"
          ]
        }
      ]
    }
  ]
}