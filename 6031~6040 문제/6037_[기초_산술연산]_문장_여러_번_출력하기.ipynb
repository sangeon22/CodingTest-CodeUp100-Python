{
  "nbformat": 4,
  "nbformat_minor": 0,
  "metadata": {
    "colab": {
      "name": "6037 [기초-산술연산] 문장 여러 번 출력하기",
      "provenance": [],
      "authorship_tag": "ABX9TyMyTQNuDiRdmBRjwA7gMPKn",
      "include_colab_link": true
    },
    "kernelspec": {
      "name": "python3",
      "display_name": "Python 3"
    },
    "language_info": {
      "name": "python"
    }
  },
  "cells": [
    {
      "cell_type": "markdown",
      "metadata": {
        "id": "view-in-github",
        "colab_type": "text"
      },
      "source": [
        "<a href=\"https://colab.research.google.com/github/sangeon22/CodingTest-CodeUp100-Python/blob/main/6037_%5B%EA%B8%B0%EC%B4%88_%EC%82%B0%EC%88%A0%EC%97%B0%EC%82%B0%5D_%EB%AC%B8%EC%9E%A5_%EC%97%AC%EB%9F%AC_%EB%B2%88_%EC%B6%9C%EB%A0%A5%ED%95%98%EA%B8%B0.ipynb\" target=\"_parent\"><img src=\"https://colab.research.google.com/assets/colab-badge.svg\" alt=\"Open In Colab\"/></a>"
      ]
    },
    {
      "cell_type": "code",
      "execution_count": 1,
      "metadata": {
        "id": "w4G8TWuLM05v"
      },
      "outputs": [],
      "source": [
        "# 반복 횟수와 문장을 입력받아 여러 번 출력해보자."
      ]
    },
    {
      "cell_type": "code",
      "source": [
        "count = int(input())\n",
        "sentence = input()\n",
        "print(count*sentence)"
      ],
      "metadata": {
        "colab": {
          "base_uri": "https://localhost:8080/"
        },
        "id": "K4is_07_M2_X",
        "outputId": "9c6d5b53-9b91-4f56-8dc9-9074f9d622ce"
      },
      "execution_count": 4,
      "outputs": [
        {
          "output_type": "stream",
          "name": "stdout",
          "text": [
            "3\n",
            "I love CS\n",
            "I love CSI love CSI love CS\n"
          ]
        }
      ]
    }
  ]
}