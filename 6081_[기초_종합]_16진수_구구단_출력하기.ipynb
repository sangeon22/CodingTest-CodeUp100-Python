{
  "nbformat": 4,
  "nbformat_minor": 0,
  "metadata": {
    "colab": {
      "name": "6081 [기초-종합] 16진수 구구단 출력하기",
      "provenance": [],
      "authorship_tag": "ABX9TyNR/B1gTld3pSuLrN6l0ltl",
      "include_colab_link": true
    },
    "kernelspec": {
      "name": "python3",
      "display_name": "Python 3"
    },
    "language_info": {
      "name": "python"
    }
  },
  "cells": [
    {
      "cell_type": "markdown",
      "metadata": {
        "id": "view-in-github",
        "colab_type": "text"
      },
      "source": [
        "<a href=\"https://colab.research.google.com/github/sangeon22/CodingTest-CodeUp100-Python/blob/main/6081_%5B%EA%B8%B0%EC%B4%88_%EC%A2%85%ED%95%A9%5D_16%EC%A7%84%EC%88%98_%EA%B5%AC%EA%B5%AC%EB%8B%A8_%EC%B6%9C%EB%A0%A5%ED%95%98%EA%B8%B0.ipynb\" target=\"_parent\"><img src=\"https://colab.research.google.com/assets/colab-badge.svg\" alt=\"Open In Colab\"/></a>"
      ]
    },
    {
      "cell_type": "code",
      "execution_count": 1,
      "metadata": {
        "id": "y6AKh8O1v3A6"
      },
      "outputs": [],
      "source": [
        "# 16진수(0, 1, 2, 3, 4, 5, 6, 7, 8, 9, A, B, C, D, E, F)를 배운\n",
        "# 영일이는 16진수끼리 곱하는 16진수 구구단?에 대해서 궁금해졌다.\n",
        "\n",
        "# A, B, C, D, E, F 중 하나가 입력될 때,\n",
        "# 1부터 F까지 곱한 16진수 구구단의 내용을 출력해보자.\n",
        "# (단, A ~ F 까지만 입력된다.)"
      ]
    },
    {
      "cell_type": "code",
      "source": [
        "a = int(input(), 16)\n",
        "for i in range(1,16):\n",
        "  print(\"%X*%X=%X\" % (a,i,a*i))"
      ],
      "metadata": {
        "colab": {
          "base_uri": "https://localhost:8080/"
        },
        "id": "AGD9dnPawa1A",
        "outputId": "2be0ac34-4a3d-40e4-ff67-665283df8c50"
      },
      "execution_count": 4,
      "outputs": [
        {
          "output_type": "stream",
          "name": "stdout",
          "text": [
            "B\n",
            "B*1=B\n",
            "B*2=16\n",
            "B*3=21\n",
            "B*4=2C\n",
            "B*5=37\n",
            "B*6=42\n",
            "B*7=4D\n",
            "B*8=58\n",
            "B*9=63\n",
            "B*A=6E\n",
            "B*B=79\n",
            "B*C=84\n",
            "B*D=8F\n",
            "B*E=9A\n",
            "B*F=A5\n"
          ]
        }
      ]
    }
  ]
}