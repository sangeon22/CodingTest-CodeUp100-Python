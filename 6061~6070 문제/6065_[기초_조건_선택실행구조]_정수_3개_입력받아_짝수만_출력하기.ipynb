{
  "nbformat": 4,
  "nbformat_minor": 0,
  "metadata": {
    "colab": {
      "name": "6065 [기초-조건/선택실행구조] 정수 3개 입력받아 짝수만 출력하기",
      "provenance": [],
      "authorship_tag": "ABX9TyMyUIUA6QWP5oBZyE/OChGg",
      "include_colab_link": true
    },
    "kernelspec": {
      "name": "python3",
      "display_name": "Python 3"
    },
    "language_info": {
      "name": "python"
    }
  },
  "cells": [
    {
      "cell_type": "markdown",
      "metadata": {
        "id": "view-in-github",
        "colab_type": "text"
      },
      "source": [
        "<a href=\"https://colab.research.google.com/github/sangeon22/CodingTest-CodeUp100-Python/blob/main/6065_%5B%EA%B8%B0%EC%B4%88_%EC%A1%B0%EA%B1%B4_%EC%84%A0%ED%83%9D%EC%8B%A4%ED%96%89%EA%B5%AC%EC%A1%B0%5D_%EC%A0%95%EC%88%98_3%EA%B0%9C_%EC%9E%85%EB%A0%A5%EB%B0%9B%EC%95%84_%EC%A7%9D%EC%88%98%EB%A7%8C_%EC%B6%9C%EB%A0%A5%ED%95%98%EA%B8%B0.ipynb\" target=\"_parent\"><img src=\"https://colab.research.google.com/assets/colab-badge.svg\" alt=\"Open In Colab\"/></a>"
      ]
    },
    {
      "cell_type": "code",
      "execution_count": null,
      "metadata": {
        "id": "ZHJOnWQx5dxx"
      },
      "outputs": [],
      "source": [
        "# 3개의 정수(a, b, c)가 입력되었을 때, 짝수만 출력해보자."
      ]
    },
    {
      "cell_type": "code",
      "source": [
        "a, b, c = map(int, input().split())\n",
        "if a % 2 == 0 :\n",
        "  print(a)\n",
        "\n",
        "if b % 2 == 0 :\n",
        "  print(b)\n",
        "\n",
        "if c % 2 == 0 :\n",
        "  print(c)"
      ],
      "metadata": {
        "colab": {
          "base_uri": "https://localhost:8080/"
        },
        "id": "sqQavlj97Gpr",
        "outputId": "f1054cfd-226a-4004-8f34-4d048ba7534d"
      },
      "execution_count": 13,
      "outputs": [
        {
          "output_type": "stream",
          "name": "stdout",
          "text": [
            "1 2 4\n",
            "2\n",
            "4\n"
          ]
        }
      ]
    }
  ]
}