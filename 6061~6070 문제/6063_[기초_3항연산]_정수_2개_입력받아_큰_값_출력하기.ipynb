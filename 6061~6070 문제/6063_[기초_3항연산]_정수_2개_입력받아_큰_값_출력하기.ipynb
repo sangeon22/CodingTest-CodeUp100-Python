{
  "nbformat": 4,
  "nbformat_minor": 0,
  "metadata": {
    "colab": {
      "name": "6063 [기초-3항연산] 정수 2개 입력받아 큰 값 출력하기",
      "provenance": [],
      "authorship_tag": "ABX9TyNrsqMtjIQyyq/W5RBRGOPi",
      "include_colab_link": true
    },
    "kernelspec": {
      "name": "python3",
      "display_name": "Python 3"
    },
    "language_info": {
      "name": "python"
    }
  },
  "cells": [
    {
      "cell_type": "markdown",
      "metadata": {
        "id": "view-in-github",
        "colab_type": "text"
      },
      "source": [
        "<a href=\"https://colab.research.google.com/github/sangeon22/CodingTest-CodeUp100-Python/blob/main/6063_%5B%EA%B8%B0%EC%B4%88_3%ED%95%AD%EC%97%B0%EC%82%B0%5D_%EC%A0%95%EC%88%98_2%EA%B0%9C_%EC%9E%85%EB%A0%A5%EB%B0%9B%EC%95%84_%ED%81%B0_%EA%B0%92_%EC%B6%9C%EB%A0%A5%ED%95%98%EA%B8%B0.ipynb\" target=\"_parent\"><img src=\"https://colab.research.google.com/assets/colab-badge.svg\" alt=\"Open In Colab\"/></a>"
      ]
    },
    {
      "cell_type": "code",
      "execution_count": null,
      "metadata": {
        "id": "ZHJOnWQx5dxx"
      },
      "outputs": [],
      "source": [
        "# 입력된 두 정수(a, b) 중 큰 값을 출력하는 프로그램을 작성해보자.\n",
        "# 단, 3항 연산을 사용한다."
      ]
    },
    {
      "cell_type": "code",
      "source": [
        "a, b = map(int, input().split())\n",
        "print(a if a>b else b)"
      ],
      "metadata": {
        "colab": {
          "base_uri": "https://localhost:8080/"
        },
        "id": "sqQavlj97Gpr",
        "outputId": "740a6220-794e-424d-f9b1-8fb7beb241be"
      },
      "execution_count": 7,
      "outputs": [
        {
          "output_type": "stream",
          "name": "stdout",
          "text": [
            "123 456\n",
            "456\n"
          ]
        }
      ]
    }
  ]
}