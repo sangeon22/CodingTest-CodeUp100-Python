{
  "nbformat": 4,
  "nbformat_minor": 0,
  "metadata": {
    "colab": {
      "name": "6067 [기초-조건/선택실행구조] 정수 1개 입력받아 분류하기",
      "provenance": [],
      "authorship_tag": "ABX9TyPhf4jawJ0LkH3bSYYC5tTB",
      "include_colab_link": true
    },
    "kernelspec": {
      "name": "python3",
      "display_name": "Python 3"
    },
    "language_info": {
      "name": "python"
    }
  },
  "cells": [
    {
      "cell_type": "markdown",
      "metadata": {
        "id": "view-in-github",
        "colab_type": "text"
      },
      "source": [
        "<a href=\"https://colab.research.google.com/github/sangeon22/CodingTest-CodeUp100-Python/blob/main/6067_%5B%EA%B8%B0%EC%B4%88_%EC%A1%B0%EA%B1%B4_%EC%84%A0%ED%83%9D%EC%8B%A4%ED%96%89%EA%B5%AC%EC%A1%B0%5D_%EC%A0%95%EC%88%98_1%EA%B0%9C_%EC%9E%85%EB%A0%A5%EB%B0%9B%EC%95%84_%EB%B6%84%EB%A5%98%ED%95%98%EA%B8%B0.ipynb\" target=\"_parent\"><img src=\"https://colab.research.google.com/assets/colab-badge.svg\" alt=\"Open In Colab\"/></a>"
      ]
    },
    {
      "cell_type": "code",
      "execution_count": null,
      "metadata": {
        "id": "ZHJOnWQx5dxx"
      },
      "outputs": [],
      "source": [
        "# 0이 아닌 정수 1개가 입력되었을 때, 음(-)/양(+)과 짝(even)/홀(odd)을 구분해 분류해보자.\n",
        "# 음수이면서 짝수이면, A\n",
        "# 음수이면서 홀수이면, B\n",
        "# 양수이면서 짝수이면, C\n",
        "# 양수이면서 홀수이면, D\n",
        "# 를 출력한다."
      ]
    },
    {
      "cell_type": "code",
      "source": [
        "a = int(input())\n",
        "if ((a < 0) and (a % 2 == 0)):\n",
        "  print(\"A\")\n",
        "elif ((a < 0) and (a % 2 != 0)):\n",
        "  print(\"B\")\n",
        "elif ((a > 0) and (a % 2 == 0)):\n",
        "  print(\"C\")\n",
        "elif ((a > 0) and (a % 2 != 0)):\n",
        "  print(\"D\")"
      ],
      "metadata": {
        "colab": {
          "base_uri": "https://localhost:8080/"
        },
        "id": "sqQavlj97Gpr",
        "outputId": "094d406f-b7b2-44d9-dd14-7dec5bc8750d"
      },
      "execution_count": 23,
      "outputs": [
        {
          "output_type": "stream",
          "name": "stdout",
          "text": [
            "23\n",
            "D\n"
          ]
        }
      ]
    }
  ]
}