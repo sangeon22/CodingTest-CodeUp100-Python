{
  "nbformat": 4,
  "nbformat_minor": 0,
  "metadata": {
    "colab": {
      "name": "6068 [기초-조건/선택실행구조] 점수 입력받아 평가 출력하기",
      "provenance": [],
      "authorship_tag": "ABX9TyPdHBGNv063ipPdEn5+Y79R",
      "include_colab_link": true
    },
    "kernelspec": {
      "name": "python3",
      "display_name": "Python 3"
    },
    "language_info": {
      "name": "python"
    }
  },
  "cells": [
    {
      "cell_type": "markdown",
      "metadata": {
        "id": "view-in-github",
        "colab_type": "text"
      },
      "source": [
        "<a href=\"https://colab.research.google.com/github/sangeon22/CodingTest-CodeUp100-Python/blob/main/6068_%5B%EA%B8%B0%EC%B4%88_%EC%A1%B0%EA%B1%B4_%EC%84%A0%ED%83%9D%EC%8B%A4%ED%96%89%EA%B5%AC%EC%A1%B0%5D_%EC%A0%90%EC%88%98_%EC%9E%85%EB%A0%A5%EB%B0%9B%EC%95%84_%ED%8F%89%EA%B0%80_%EC%B6%9C%EB%A0%A5%ED%95%98%EA%B8%B0.ipynb\" target=\"_parent\"><img src=\"https://colab.research.google.com/assets/colab-badge.svg\" alt=\"Open In Colab\"/></a>"
      ]
    },
    {
      "cell_type": "code",
      "execution_count": 24,
      "metadata": {
        "id": "ZHJOnWQx5dxx"
      },
      "outputs": [],
      "source": [
        "# 점수(정수, 0 ~ 100)를 입력받아 평가를 출력해보자.\n",
        "\n",
        "# 평가 기준\n",
        "# 점수 범위 : 평가\n",
        "# 90  ~ 100 : A\n",
        "# 70  ~  89 : B\n",
        "# 40  ~  69 : C\n",
        "#  0  ~  39 : D\n",
        "# 로 평가되어야 한다."
      ]
    },
    {
      "cell_type": "code",
      "source": [
        "a = int(input())\n",
        "if ((a >= 90) and (a <= 100)):\n",
        "  print(\"A\")\n",
        "elif ((a >= 70) and (a <= 89)):\n",
        "  print(\"B\")\n",
        "elif ((a >= 40) and (a <= 69)):\n",
        "  print(\"C\")\n",
        "elif ((a >= 0) and (a <= 39)):\n",
        "  print(\"D\")"
      ],
      "metadata": {
        "colab": {
          "base_uri": "https://localhost:8080/"
        },
        "id": "sqQavlj97Gpr",
        "outputId": "5e8a660c-bd35-458a-fb00-01247a3f5407"
      },
      "execution_count": 25,
      "outputs": [
        {
          "output_type": "stream",
          "name": "stdout",
          "text": [
            "73\n",
            "B\n"
          ]
        }
      ]
    }
  ]
}