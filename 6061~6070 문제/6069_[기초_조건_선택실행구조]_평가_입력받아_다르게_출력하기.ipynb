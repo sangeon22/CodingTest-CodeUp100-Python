{
  "nbformat": 4,
  "nbformat_minor": 0,
  "metadata": {
    "colab": {
      "name": "6069 [기초-조건/선택실행구조] 평가 입력받아 다르게 출력하기",
      "provenance": [],
      "authorship_tag": "ABX9TyMCiPiLQM5olVqcDnsvrko4",
      "include_colab_link": true
    },
    "kernelspec": {
      "name": "python3",
      "display_name": "Python 3"
    },
    "language_info": {
      "name": "python"
    }
  },
  "cells": [
    {
      "cell_type": "markdown",
      "metadata": {
        "id": "view-in-github",
        "colab_type": "text"
      },
      "source": [
        "<a href=\"https://colab.research.google.com/github/sangeon22/CodingTest-CodeUp100-Python/blob/main/6069_%5B%EA%B8%B0%EC%B4%88_%EC%A1%B0%EA%B1%B4_%EC%84%A0%ED%83%9D%EC%8B%A4%ED%96%89%EA%B5%AC%EC%A1%B0%5D_%ED%8F%89%EA%B0%80_%EC%9E%85%EB%A0%A5%EB%B0%9B%EC%95%84_%EB%8B%A4%EB%A5%B4%EA%B2%8C_%EC%B6%9C%EB%A0%A5%ED%95%98%EA%B8%B0.ipynb\" target=\"_parent\"><img src=\"https://colab.research.google.com/assets/colab-badge.svg\" alt=\"Open In Colab\"/></a>"
      ]
    },
    {
      "cell_type": "code",
      "execution_count": 24,
      "metadata": {
        "id": "ZHJOnWQx5dxx"
      },
      "outputs": [],
      "source": [
        "# 평가를 문자(A, B, C, D, ...)로 입력받아 내용을 다르게 출력해보자.\n",
        "\n",
        "# 평가 내용\n",
        "# 평가 : 내용\n",
        "# A : best!!!\n",
        "# B : good!!\n",
        "# C : run!\n",
        "# D : slowly~\n",
        "# 나머지 문자들 : what?"
      ]
    },
    {
      "cell_type": "code",
      "source": [
        "a = input()\n",
        "if (a == \"A\"):\n",
        "  print(\"best!!!\")\n",
        "elif (a == \"B\"):\n",
        "  print(\"good!!\")\n",
        "elif (a == \"C\"):\n",
        "  print(\"run!\")\n",
        "elif (a == \"D\"):\n",
        "  print(\"slowly~\")\n",
        "else:\n",
        "  print(\"what?\")"
      ],
      "metadata": {
        "colab": {
          "base_uri": "https://localhost:8080/"
        },
        "id": "sqQavlj97Gpr",
        "outputId": "121d27a3-0f24-41bc-87f3-42437b9c36d5"
      },
      "execution_count": 32,
      "outputs": [
        {
          "output_type": "stream",
          "name": "stdout",
          "text": [
            "C\n",
            "run!\n"
          ]
        }
      ]
    }
  ]
}