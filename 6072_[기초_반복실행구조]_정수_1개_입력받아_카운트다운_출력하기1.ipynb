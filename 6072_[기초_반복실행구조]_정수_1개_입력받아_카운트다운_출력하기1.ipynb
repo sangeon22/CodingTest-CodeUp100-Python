{
  "nbformat": 4,
  "nbformat_minor": 0,
  "metadata": {
    "colab": {
      "name": "6072 [기초-반복실행구조] 정수 1개 입력받아 카운트다운 출력하기1",
      "provenance": [],
      "authorship_tag": "ABX9TyOYEZ9FbdElVaMFHsRLUuSB",
      "include_colab_link": true
    },
    "kernelspec": {
      "name": "python3",
      "display_name": "Python 3"
    },
    "language_info": {
      "name": "python"
    }
  },
  "cells": [
    {
      "cell_type": "markdown",
      "metadata": {
        "id": "view-in-github",
        "colab_type": "text"
      },
      "source": [
        "<a href=\"https://colab.research.google.com/github/sangeon22/CodingTest-CodeUp100-Python/blob/main/6072_%5B%EA%B8%B0%EC%B4%88_%EB%B0%98%EB%B3%B5%EC%8B%A4%ED%96%89%EA%B5%AC%EC%A1%B0%5D_%EC%A0%95%EC%88%98_1%EA%B0%9C_%EC%9E%85%EB%A0%A5%EB%B0%9B%EC%95%84_%EC%B9%B4%EC%9A%B4%ED%8A%B8%EB%8B%A4%EC%9A%B4_%EC%B6%9C%EB%A0%A5%ED%95%98%EA%B8%B01.ipynb\" target=\"_parent\"><img src=\"https://colab.research.google.com/assets/colab-badge.svg\" alt=\"Open In Colab\"/></a>"
      ]
    },
    {
      "cell_type": "code",
      "execution_count": 1,
      "metadata": {
        "id": "XIiK9oamMP2i"
      },
      "outputs": [],
      "source": [
        "# 정수(1 ~ 100) 1개가 입력되었을 때 카운트다운을 출력해보자.\n",
        "# while 조건식 :\n",
        "#  ...\n",
        "#  ...\n",
        "# 반복 실행구조를 사용해 보자."
      ]
    },
    {
      "cell_type": "code",
      "source": [
        "a = int(input())\n",
        "while 1<= a <=100:\n",
        "  if a != 0:\n",
        "    print(a)\n",
        "    a -= 1\n",
        "  else:\n",
        "    break\n"
      ],
      "metadata": {
        "colab": {
          "base_uri": "https://localhost:8080/"
        },
        "id": "5TKspFfIMjYf",
        "outputId": "ccf19f9f-5521-482d-cf3b-4ef2d8e57b6b"
      },
      "execution_count": 2,
      "outputs": [
        {
          "output_type": "stream",
          "name": "stdout",
          "text": [
            "5\n",
            "5\n",
            "4\n",
            "3\n",
            "2\n",
            "1\n"
          ]
        }
      ]
    }
  ]
}