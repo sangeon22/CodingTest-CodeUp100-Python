{
  "nbformat": 4,
  "nbformat_minor": 0,
  "metadata": {
    "colab": {
      "name": "6070 [기초-조건/선택실행구조] 월 입력받아 계절 출력하기",
      "provenance": [],
      "authorship_tag": "ABX9TyO2VBdJc4+TCTXVLHQjb/2m",
      "include_colab_link": true
    },
    "kernelspec": {
      "name": "python3",
      "display_name": "Python 3"
    },
    "language_info": {
      "name": "python"
    }
  },
  "cells": [
    {
      "cell_type": "markdown",
      "metadata": {
        "id": "view-in-github",
        "colab_type": "text"
      },
      "source": [
        "<a href=\"https://colab.research.google.com/github/sangeon22/CodingTest-CodeUp100-Python/blob/main/6070_%5B%EA%B8%B0%EC%B4%88_%EC%A1%B0%EA%B1%B4_%EC%84%A0%ED%83%9D%EC%8B%A4%ED%96%89%EA%B5%AC%EC%A1%B0%5D_%EC%9B%94_%EC%9E%85%EB%A0%A5%EB%B0%9B%EC%95%84_%EA%B3%84%EC%A0%88_%EC%B6%9C%EB%A0%A5%ED%95%98%EA%B8%B0.ipynb\" target=\"_parent\"><img src=\"https://colab.research.google.com/assets/colab-badge.svg\" alt=\"Open In Colab\"/></a>"
      ]
    },
    {
      "cell_type": "code",
      "execution_count": 33,
      "metadata": {
        "id": "ZHJOnWQx5dxx"
      },
      "outputs": [],
      "source": [
        "# 월이 입력될 때 계절 이름이 출력되도록 해보자.\n",
        "\n",
        "# 월 : 계절 이름\n",
        "#    12, 1, 2 : winter\n",
        "#     3, 4, 5 : spring\n",
        "#     6, 7, 8 : summer\n",
        "#   9, 10, 11 : fall"
      ]
    },
    {
      "cell_type": "code",
      "source": [
        "a = input()\n",
        "if ((a == \"12\") or (a == \"1\") or (a == \"2\")):\n",
        "  print(\"winter\")\n",
        "elif ((a == \"3\") or (a == \"4\") or (a == \"5\")):\n",
        "  print(\"spring\")\n",
        "elif ((a == \"6\") or (a == \"7\") or (a == \"8\")):\n",
        "  print(\"summer\")\n",
        "elif ((a == \"9\") or (a == \"10\") or (a == \"11\")):\n",
        "  print(\"fall\")"
      ],
      "metadata": {
        "colab": {
          "base_uri": "https://localhost:8080/"
        },
        "id": "sqQavlj97Gpr",
        "outputId": "2ed0a6ab-b0c7-4e3c-8b21-b04b2bba4c95"
      },
      "execution_count": 42,
      "outputs": [
        {
          "output_type": "stream",
          "name": "stdout",
          "text": [
            "10\n",
            "fall\n"
          ]
        }
      ]
    }
  ]
}