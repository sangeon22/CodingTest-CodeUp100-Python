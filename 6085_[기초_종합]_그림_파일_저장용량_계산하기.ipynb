{
  "nbformat": 4,
  "nbformat_minor": 0,
  "metadata": {
    "colab": {
      "name": "6085 [기초-종합] 그림 파일 저장용량 계산하기",
      "provenance": [],
      "authorship_tag": "ABX9TyO7UUBavMRKNfelRc7igBy2",
      "include_colab_link": true
    },
    "kernelspec": {
      "name": "python3",
      "display_name": "Python 3"
    },
    "language_info": {
      "name": "python"
    }
  },
  "cells": [
    {
      "cell_type": "markdown",
      "metadata": {
        "id": "view-in-github",
        "colab_type": "text"
      },
      "source": [
        "<a href=\"https://colab.research.google.com/github/sangeon22/CodingTest-CodeUp100-Python/blob/main/6085_%5B%EA%B8%B0%EC%B4%88_%EC%A2%85%ED%95%A9%5D_%EA%B7%B8%EB%A6%BC_%ED%8C%8C%EC%9D%BC_%EC%A0%80%EC%9E%A5%EC%9A%A9%EB%9F%89_%EA%B3%84%EC%82%B0%ED%95%98%EA%B8%B0.ipynb\" target=\"_parent\"><img src=\"https://colab.research.google.com/assets/colab-badge.svg\" alt=\"Open In Colab\"/></a>"
      ]
    },
    {
      "cell_type": "code",
      "execution_count": 33,
      "metadata": {
        "colab": {
          "base_uri": "https://localhost:8080/",
          "height": 127
        },
        "id": "y6AKh8O1v3A6",
        "outputId": "51cfb8f7-b5fb-4252-c571-cd088dc59015"
      },
      "outputs": [
        {
          "output_type": "execute_result",
          "data": {
            "text/plain": [
              "'\\n이미지가 컴퓨터에 저장될 때에도 디지털 데이터화 되어 저장된다.\\n\\n가장 기본적인 방법으로는 그림을 구성하는 한 점(pixel, 픽셀)의 색상을\\n빨강(r), 초록(g), 파랑(b)의 3가지의 빛의 세기 값으로 따로 변환하여 저장하는 것인데,\\n\\n예를 들어 r, g, b 각 색에 대해서 8비트(0~255, 256가지 가능)씩을 사용한다고 하면,\\n\\n한 점의 색상은 3가지 r, g, b의 8비트+8비트+8비트로 총 24비트로 표현해서\\n총 2^24 가지의 서로 다른 빛의 색깔을 사용할 수 있는 것이다.\\n\\n그렇게 저장하는 점을 모아 하나의 큰 이미지를 저장할 수 있게 되는데,\\n1024 * 768 사이즈에 각 점에 대해 24비트로 저장하면 그 이미지를 저장하기 위한\\n저장 용량을 계산할 수 있다.\\n\\n이렇게 이미지의 원래(raw) 데이터를 압축하지 않고 그대로 저장하는 대표적인 이미지 파일이\\n*.bmp 파일이며, 비트로 그림을 구성한다고 하여 비트맵 방식 또는 래스터 방식이라고 한다.\\n\\n이미지의 가로 해상도 w, 세로 해상도 h, 한 픽셀을 저장하기 위한 비트 b 가 주어질 때,\\n압축하지 않고 저장하기 위해 필요한 저장 용량을 계산하는 프로그램을 작성해 보자.\\n\\n예를 들어\\n일반적인 1024 * 768 사이즈(해상도)의 각점에 대해\\n24비트(rgb 각각 8비트씩 3개)로 저장하려면\\n1024 * 768 * 24 bit의 저장공간이 필요한데,\\n1024*768*24/8/1024/1024 로 계산하면 약 2.25 MB 정도가 필요하다.\\n\\n실제 그런지 확인하고 싶다면, 간단한 그림 편집/수정 프로그램을 통해 확인할 수 있다.\\n\\n**\\n      8 bit(비트)           = 1byte(바이트)     #       8bit=1Byte\\n1024 Byte(210 byte) = 1KB(킬로 바이트)  # 1024Byte=1KB\\n1024 KB(210 KB)      = 1MB(메가 바이트)\\n1024 MB(210 MB)     = 1GB(기가 바이트)\\n1024 GB(210 GB)      = 1TB(테라 바이트)\\n'"
            ],
            "application/vnd.google.colaboratory.intrinsic+json": {
              "type": "string"
            }
          },
          "metadata": {},
          "execution_count": 33
        }
      ],
      "source": [
        "\"\"\"\n",
        "이미지가 컴퓨터에 저장될 때에도 디지털 데이터화 되어 저장된다.\n",
        "\n",
        "가장 기본적인 방법으로는 그림을 구성하는 한 점(pixel, 픽셀)의 색상을\n",
        "빨강(r), 초록(g), 파랑(b)의 3가지의 빛의 세기 값으로 따로 변환하여 저장하는 것인데,\n",
        "\n",
        "예를 들어 r, g, b 각 색에 대해서 8비트(0~255, 256가지 가능)씩을 사용한다고 하면,\n",
        "\n",
        "한 점의 색상은 3가지 r, g, b의 8비트+8비트+8비트로 총 24비트로 표현해서\n",
        "총 2^24 가지의 서로 다른 빛의 색깔을 사용할 수 있는 것이다.\n",
        "\n",
        "그렇게 저장하는 점을 모아 하나의 큰 이미지를 저장할 수 있게 되는데,\n",
        "1024 * 768 사이즈에 각 점에 대해 24비트로 저장하면 그 이미지를 저장하기 위한\n",
        "저장 용량을 계산할 수 있다.\n",
        "\n",
        "이렇게 이미지의 원래(raw) 데이터를 압축하지 않고 그대로 저장하는 대표적인 이미지 파일이\n",
        "*.bmp 파일이며, 비트로 그림을 구성한다고 하여 비트맵 방식 또는 래스터 방식이라고 한다.\n",
        "\n",
        "이미지의 가로 해상도 w, 세로 해상도 h, 한 픽셀을 저장하기 위한 비트 b 가 주어질 때,\n",
        "압축하지 않고 저장하기 위해 필요한 저장 용량을 계산하는 프로그램을 작성해 보자.\n",
        "\n",
        "예를 들어\n",
        "일반적인 1024 * 768 사이즈(해상도)의 각점에 대해\n",
        "24비트(rgb 각각 8비트씩 3개)로 저장하려면\n",
        "1024 * 768 * 24 bit의 저장공간이 필요한데,\n",
        "1024*768*24/8/1024/1024 로 계산하면 약 2.25 MB 정도가 필요하다.\n",
        "\n",
        "실제 그런지 확인하고 싶다면, 간단한 그림 편집/수정 프로그램을 통해 확인할 수 있다.\n",
        "\n",
        "**\n",
        "      8 bit(비트)           = 1byte(바이트)     #       8bit=1Byte\n",
        "1024 Byte(210 byte) = 1KB(킬로 바이트)  # 1024Byte=1KB\n",
        "1024 KB(210 KB)      = 1MB(메가 바이트)\n",
        "1024 MB(210 MB)     = 1GB(기가 바이트)\n",
        "1024 GB(210 GB)      = 1TB(테라 바이트)\n",
        "\"\"\""
      ]
    },
    {
      "cell_type": "code",
      "source": [
        "w, h, b = map(int, input().split())\n",
        "temp = w*h*b/8/1024/1024\n",
        "print(\"%.2f\" %temp,\"MB\")"
      ],
      "metadata": {
        "colab": {
          "base_uri": "https://localhost:8080/"
        },
        "id": "AGD9dnPawa1A",
        "outputId": "2f4570ce-b218-4415-f5fd-dd0b4cfbf7ba"
      },
      "execution_count": 38,
      "outputs": [
        {
          "output_type": "stream",
          "name": "stdout",
          "text": [
            "1024 768 24\n",
            "2.25 MB\n"
          ]
        }
      ]
    }
  ]
}