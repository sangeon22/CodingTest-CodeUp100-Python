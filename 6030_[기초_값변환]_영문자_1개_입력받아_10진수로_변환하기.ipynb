{
  "nbformat": 4,
  "nbformat_minor": 0,
  "metadata": {
    "colab": {
      "name": "6030 [기초-값변환] 영문자 1개 입력받아 10진수로 변환하기",
      "provenance": [],
      "authorship_tag": "ABX9TyOVD3YlTkd3SIXLpFIZWYzX",
      "include_colab_link": true
    },
    "kernelspec": {
      "name": "python3",
      "display_name": "Python 3"
    },
    "language_info": {
      "name": "python"
    }
  },
  "cells": [
    {
      "cell_type": "markdown",
      "metadata": {
        "id": "view-in-github",
        "colab_type": "text"
      },
      "source": [
        "<a href=\"https://colab.research.google.com/github/sangeon22/CodingTest-CodeUp100-Python/blob/main/6030_%5B%EA%B8%B0%EC%B4%88_%EA%B0%92%EB%B3%80%ED%99%98%5D_%EC%98%81%EB%AC%B8%EC%9E%90_1%EA%B0%9C_%EC%9E%85%EB%A0%A5%EB%B0%9B%EC%95%84_10%EC%A7%84%EC%88%98%EB%A1%9C_%EB%B3%80%ED%99%98%ED%95%98%EA%B8%B0.ipynb\" target=\"_parent\"><img src=\"https://colab.research.google.com/assets/colab-badge.svg\" alt=\"Open In Colab\"/></a>"
      ]
    },
    {
      "cell_type": "code",
      "execution_count": 1,
      "metadata": {
        "id": "15ZFrLjKPQWu"
      },
      "outputs": [],
      "source": [
        "# 영문자 1개를 입력받아 10진수 유니코드(Unicode) 값으로 출력해보자."
      ]
    },
    {
      "cell_type": "code",
      "source": [
        "a = ord(input())\n",
        "print(a)"
      ],
      "metadata": {
        "colab": {
          "base_uri": "https://localhost:8080/"
        },
        "id": "l0ROssyrPTMv",
        "outputId": "79f1e125-3cab-4546-d190-cec49ad9b53b"
      },
      "execution_count": 2,
      "outputs": [
        {
          "output_type": "stream",
          "name": "stdout",
          "text": [
            "A\n",
            "65\n"
          ]
        }
      ]
    }
  ]
}