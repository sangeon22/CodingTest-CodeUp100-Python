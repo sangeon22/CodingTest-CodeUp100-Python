{
  "nbformat": 4,
  "nbformat_minor": 0,
  "metadata": {
    "colab": {
      "name": "6056 [기초-논리연산] 참/거짓이 서로 다를 때에만 참 출력하기",
      "provenance": [],
      "authorship_tag": "ABX9TyMpzfIU3ekNYq+DlbXH+fJB",
      "include_colab_link": true
    },
    "kernelspec": {
      "name": "python3",
      "display_name": "Python 3"
    },
    "language_info": {
      "name": "python"
    }
  },
  "cells": [
    {
      "cell_type": "markdown",
      "metadata": {
        "id": "view-in-github",
        "colab_type": "text"
      },
      "source": [
        "<a href=\"https://colab.research.google.com/github/sangeon22/CodingTest-CodeUp100-Python/blob/main/6056_%5B%EA%B8%B0%EC%B4%88_%EB%85%BC%EB%A6%AC%EC%97%B0%EC%82%B0%5D_%EC%B0%B8_%EA%B1%B0%EC%A7%93%EC%9D%B4_%EC%84%9C%EB%A1%9C_%EB%8B%A4%EB%A5%BC_%EB%95%8C%EC%97%90%EB%A7%8C_%EC%B0%B8_%EC%B6%9C%EB%A0%A5%ED%95%98%EA%B8%B0.ipynb\" target=\"_parent\"><img src=\"https://colab.research.google.com/assets/colab-badge.svg\" alt=\"Open In Colab\"/></a>"
      ]
    },
    {
      "cell_type": "code",
      "execution_count": 8,
      "metadata": {
        "id": "vCbpM89HZyzQ"
      },
      "outputs": [],
      "source": [
        "# 2개의 정수값이 입력될 때,\n",
        "# 그 불 값(True/False) 이 서로 다를 때에만 True 를 출력하는 프로그램을 작성해보자."
      ]
    },
    {
      "cell_type": "code",
      "source": [
        "a, b = map(int, input().split())\n",
        "print(bool(a) and not(bool(b)) or not(bool(a)) and bool(b))"
      ],
      "metadata": {
        "colab": {
          "base_uri": "https://localhost:8080/"
        },
        "id": "yZp8eoaIbqYU",
        "outputId": "ea5b57d6-5b82-4748-e295-27bb8c625af4"
      },
      "execution_count": 27,
      "outputs": [
        {
          "output_type": "stream",
          "name": "stdout",
          "text": [
            "1 1\n",
            "False\n"
          ]
        }
      ]
    }
  ]
}