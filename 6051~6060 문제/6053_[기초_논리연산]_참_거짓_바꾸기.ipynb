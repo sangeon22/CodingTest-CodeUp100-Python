{
  "nbformat": 4,
  "nbformat_minor": 0,
  "metadata": {
    "colab": {
      "name": "6053 [기초-논리연산] 참 거짓 바꾸기",
      "provenance": [],
      "authorship_tag": "ABX9TyPj0J0i37yF05CKowQF7db3",
      "include_colab_link": true
    },
    "kernelspec": {
      "name": "python3",
      "display_name": "Python 3"
    },
    "language_info": {
      "name": "python"
    }
  },
  "cells": [
    {
      "cell_type": "markdown",
      "metadata": {
        "id": "view-in-github",
        "colab_type": "text"
      },
      "source": [
        "<a href=\"https://colab.research.google.com/github/sangeon22/CodingTest-CodeUp100-Python/blob/main/6053_%5B%EA%B8%B0%EC%B4%88_%EB%85%BC%EB%A6%AC%EC%97%B0%EC%82%B0%5D_%EC%B0%B8_%EA%B1%B0%EC%A7%93_%EB%B0%94%EA%BE%B8%EA%B8%B0.ipynb\" target=\"_parent\"><img src=\"https://colab.research.google.com/assets/colab-badge.svg\" alt=\"Open In Colab\"/></a>"
      ]
    },
    {
      "cell_type": "code",
      "execution_count": 8,
      "metadata": {
        "id": "vCbpM89HZyzQ"
      },
      "outputs": [],
      "source": [
        "# 정수값이 입력될 때,\n",
        "# 그 불 값을 반대로 출력하는 프로그램을 작성해보자."
      ]
    },
    {
      "cell_type": "code",
      "source": [
        "a = bool(int(input()))\n",
        "print(not a)"
      ],
      "metadata": {
        "colab": {
          "base_uri": "https://localhost:8080/"
        },
        "id": "yZp8eoaIbqYU",
        "outputId": "18b690da-5d95-4a06-d5ff-175b636147cb"
      },
      "execution_count": 12,
      "outputs": [
        {
          "output_type": "stream",
          "name": "stdout",
          "text": [
            "1\n",
            "False\n"
          ]
        }
      ]
    }
  ]
}