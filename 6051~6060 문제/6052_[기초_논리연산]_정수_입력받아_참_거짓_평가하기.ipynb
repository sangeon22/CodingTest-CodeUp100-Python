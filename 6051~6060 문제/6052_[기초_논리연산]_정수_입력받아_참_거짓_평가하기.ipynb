{
  "nbformat": 4,
  "nbformat_minor": 0,
  "metadata": {
    "colab": {
      "name": "6052 [기초-논리연산] 정수 입력받아 참 거짓 평가하기",
      "provenance": [],
      "authorship_tag": "ABX9TyNRHyd+aQb3wYYgHUtyz4+o",
      "include_colab_link": true
    },
    "kernelspec": {
      "name": "python3",
      "display_name": "Python 3"
    },
    "language_info": {
      "name": "python"
    }
  },
  "cells": [
    {
      "cell_type": "markdown",
      "metadata": {
        "id": "view-in-github",
        "colab_type": "text"
      },
      "source": [
        "<a href=\"https://colab.research.google.com/github/sangeon22/CodingTest-CodeUp100-Python/blob/main/6052_%5B%EA%B8%B0%EC%B4%88_%EB%85%BC%EB%A6%AC%EC%97%B0%EC%82%B0%5D_%EC%A0%95%EC%88%98_%EC%9E%85%EB%A0%A5%EB%B0%9B%EC%95%84_%EC%B0%B8_%EA%B1%B0%EC%A7%93_%ED%8F%89%EA%B0%80%ED%95%98%EA%B8%B0.ipynb\" target=\"_parent\"><img src=\"https://colab.research.google.com/assets/colab-badge.svg\" alt=\"Open In Colab\"/></a>"
      ]
    },
    {
      "cell_type": "code",
      "execution_count": 1,
      "metadata": {
        "id": "vCbpM89HZyzQ"
      },
      "outputs": [],
      "source": [
        "# 정수가 입력되었을 때, True/False 로 평가해주는 프로그램을 작성해보자."
      ]
    },
    {
      "cell_type": "code",
      "source": [
        "a = int(input())\n",
        "print(bool(a))"
      ],
      "metadata": {
        "colab": {
          "base_uri": "https://localhost:8080/"
        },
        "id": "yZp8eoaIbqYU",
        "outputId": "8493e843-b4ae-41b2-f2b6-18547ae53a79"
      },
      "execution_count": 7,
      "outputs": [
        {
          "output_type": "stream",
          "name": "stdout",
          "text": [
            "6\n",
            "True\n"
          ]
        }
      ]
    }
  ]
}