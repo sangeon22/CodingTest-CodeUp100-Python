{
  "nbformat": 4,
  "nbformat_minor": 0,
  "metadata": {
    "colab": {
      "name": "6094 [기초-리스트] 이상한 출석 번호 부르기3",
      "provenance": [],
      "authorship_tag": "ABX9TyOD4kroV5s0LccViXIQzI8L",
      "include_colab_link": true
    },
    "kernelspec": {
      "name": "python3",
      "display_name": "Python 3"
    },
    "language_info": {
      "name": "python"
    }
  },
  "cells": [
    {
      "cell_type": "markdown",
      "metadata": {
        "id": "view-in-github",
        "colab_type": "text"
      },
      "source": [
        "<a href=\"https://colab.research.google.com/github/sangeon22/CodingTest-CodeUp100-Python/blob/main/6094_%5B%EA%B8%B0%EC%B4%88_%EB%A6%AC%EC%8A%A4%ED%8A%B8%5D_%EC%9D%B4%EC%83%81%ED%95%9C_%EC%B6%9C%EC%84%9D_%EB%B2%88%ED%98%B8_%EB%B6%80%EB%A5%B4%EA%B8%B03.ipynb\" target=\"_parent\"><img src=\"https://colab.research.google.com/assets/colab-badge.svg\" alt=\"Open In Colab\"/></a>"
      ]
    },
    {
      "cell_type": "code",
      "execution_count": 25,
      "metadata": {
        "colab": {
          "base_uri": "https://localhost:8080/",
          "height": 54
        },
        "id": "f6-q7FBXPQZY",
        "outputId": "1f6bb664-e0e1-4418-aa4b-fb58befb8668"
      },
      "outputs": [
        {
          "output_type": "execute_result",
          "data": {
            "text/plain": [
              "'\\n정보 선생님은 오늘도 이상한 출석을 부른다.\\n\\n영일이는 오늘도 다른 생각을 해보았다.\\n출석 번호를 다 부르지는 않은 것 같은데... 가장 빠른 번호가 뭐였지?\\n\\n출석 번호를 n번 무작위로 불렀을 때, 가장 빠른 번호를 출력해 보자.\\n\\n단, \\n첫 번째 번호와 마지막 번호가 몇 번인지는 아무도 모른다.\\n음수(-) 번호, 0번 번호도 있을 수 있다.\\n'"
            ],
            "application/vnd.google.colaboratory.intrinsic+json": {
              "type": "string"
            }
          },
          "metadata": {},
          "execution_count": 25
        }
      ],
      "source": [
        "\"\"\"\n",
        "정보 선생님은 오늘도 이상한 출석을 부른다.\n",
        "\n",
        "영일이는 오늘도 다른 생각을 해보았다.\n",
        "출석 번호를 다 부르지는 않은 것 같은데... 가장 빠른 번호가 뭐였지?\n",
        "\n",
        "출석 번호를 n번 무작위로 불렀을 때, 가장 빠른 번호를 출력해 보자.\n",
        "\n",
        "단, \n",
        "첫 번째 번호와 마지막 번호가 몇 번인지는 아무도 모른다.\n",
        "음수(-) 번호, 0번 번호도 있을 수 있다.\n",
        "\"\"\""
      ]
    },
    {
      "cell_type": "code",
      "source": [
        "n = int(input())\n",
        "a = list(map(int, input().split()))\n",
        "\n",
        "print(min(a))"
      ],
      "metadata": {
        "colab": {
          "base_uri": "https://localhost:8080/"
        },
        "id": "562Nvy6BQPhi",
        "outputId": "7d721963-eb82-4c47-845d-8cecc7e3c0e8"
      },
      "execution_count": 27,
      "outputs": [
        {
          "output_type": "stream",
          "name": "stdout",
          "text": [
            "10\n",
            "10 4 2 3 6 6 7 9 -1 5\n",
            "-1\n"
          ]
        }
      ]
    },
    {
      "cell_type": "code",
      "source": [
        "n = int(input())\n",
        "a = list(map(int, input().split()))\n",
        "\n",
        "min = a[0]\n",
        "for i in range(n):\n",
        "  if min>a[i]:\n",
        "    min = a[i\n",
        "            ]\n",
        "print(min)\n"
      ],
      "metadata": {
        "colab": {
          "base_uri": "https://localhost:8080/"
        },
        "id": "G06hJgRUhMiQ",
        "outputId": "0a174ca2-afa0-4c86-ad0c-cc5451e632f8"
      },
      "execution_count": 29,
      "outputs": [
        {
          "output_type": "stream",
          "name": "stdout",
          "text": [
            "5\n",
            "1 2 3 4 5\n",
            "1\n"
          ]
        }
      ]
    }
  ]
}