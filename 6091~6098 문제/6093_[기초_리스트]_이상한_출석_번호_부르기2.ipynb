{
  "nbformat": 4,
  "nbformat_minor": 0,
  "metadata": {
    "colab": {
      "name": "6093 [기초-리스트] 이상한 출석 번호 부르기2",
      "provenance": [],
      "authorship_tag": "ABX9TyPiqMlrqv8WFfpy8INq2MJ6",
      "include_colab_link": true
    },
    "kernelspec": {
      "name": "python3",
      "display_name": "Python 3"
    },
    "language_info": {
      "name": "python"
    }
  },
  "cells": [
    {
      "cell_type": "markdown",
      "metadata": {
        "id": "view-in-github",
        "colab_type": "text"
      },
      "source": [
        "<a href=\"https://colab.research.google.com/github/sangeon22/CodingTest-CodeUp100-Python/blob/main/6093_%5B%EA%B8%B0%EC%B4%88_%EB%A6%AC%EC%8A%A4%ED%8A%B8%5D_%EC%9D%B4%EC%83%81%ED%95%9C_%EC%B6%9C%EC%84%9D_%EB%B2%88%ED%98%B8_%EB%B6%80%EB%A5%B4%EA%B8%B02.ipynb\" target=\"_parent\"><img src=\"https://colab.research.google.com/assets/colab-badge.svg\" alt=\"Open In Colab\"/></a>"
      ]
    },
    {
      "cell_type": "code",
      "execution_count": 1,
      "metadata": {
        "colab": {
          "base_uri": "https://localhost:8080/",
          "height": 109
        },
        "id": "f6-q7FBXPQZY",
        "outputId": "0a50baa2-7610-4943-fdd1-d4a26f643ea5"
      },
      "outputs": [
        {
          "output_type": "execute_result",
          "data": {
            "text/plain": [
              "'\\n온라인 채점시스템에는 초등학생, 중고등학생, 대학생, 대학원생,\\n일반인, 군인, 프로그래머, 탑코더 등 아주 많은 사람들이 들어와 문제를 풀고 있는데,\\n\\n실시간 채점 정보는 메뉴의 채점기록(Judge Status)을 통해 살펴볼 수 있다.\\n\\n자! 여기서...잠깐..\\n같은 날 동시에 가입한 3명의 사람들이 온라인 채점시스템에 들어와 문제를 푸는 날짜가\\n매우 규칙적이라고 할 때, 다시 모두 함께 문제를 풀게 되는 그날은 언제일까?\\n\\n예를 들어 3명이 같은 날 가입/등업하고, 각각 3일마다, 7일마다, 9일마다\\n한 번씩 들어온다면, 처음 가입하고 63일 만에 다시 3명이 함께 문제를 풀게 된다.\\n\\n갑자기 힌트?\\n왠지 어려워 보이지 않는가?\\n수학에서 배운 최소공배수를 생각한 사람들도 있을 것이다. 하지만, 정보에서 배우고 경험하는\\n정보과학의 세상은 때때로 컴퓨터의 힘을 빌려 간단한 방법으로 해결할 수 있게 한다.\\n\\n아래의 코드를 읽고 이해한 후 도전해 보자.\\nday는 날 수, a/b/c는 방문 주기이다.\\n...\\nd = 1\\nwhile d%a!=0 or d%b!=0 or d%c!=0 :\\n  d += 1\\nprint(d)\\n...\\n\\n물론, 아주 많은 다양한 방법이 있을 수 있다.\\n\\n정보과학의 문제해결에 있어서 정답은?\\n하나가 아니라 주어진 시간/기억공간으로 정확한 결과를 얻을 수 있는 모든 방법이다.\\n\\n따라서, 모든 문제들에는 정답이 하나뿐만이 아니다.\\n새로운, 더 빠른, 더 간단한 방법을 다양하게 생각해보고 여러가지 방법으로 도전해 볼 수 있다.\\n'"
            ],
            "application/vnd.google.colaboratory.intrinsic+json": {
              "type": "string"
            }
          },
          "metadata": {},
          "execution_count": 1
        }
      ],
      "source": [
        "\"\"\"\n",
        "정보 선생님은 수업을 시작하기 전에 이상한 출석을 부른다.\n",
        "\n",
        "학생들의 얼굴과 이름을 빨리 익히기 위해 번호를 무작위(랜덤)으로 부르는데,\n",
        "영일이는 선생님이 부른 번호들을 기억하고 있다가 거꾸로 불러보는 것을 해보고 싶어졌다.\n",
        "\n",
        "출석 번호를 n번 무작위로 불렀을 때, 부른 번호를 거꾸로 출력해 보자.\n",
        "\"\"\""
      ]
    },
    {
      "cell_type": "code",
      "source": [
        "n = int(input())\n",
        "a = list(map(int, input().split()))\n",
        "\n",
        "for i in range(n-1, -1, -1):\n",
        "  print(a[i], end=' ')"
      ],
      "metadata": {
        "colab": {
          "base_uri": "https://localhost:8080/"
        },
        "id": "562Nvy6BQPhi",
        "outputId": "2ec36a5b-537a-4efb-ccfd-6c8e5ec382bc"
      },
      "execution_count": 24,
      "outputs": [
        {
          "output_type": "stream",
          "name": "stdout",
          "text": [
            "10\n",
            "1 2 3 4 5 6 7 8 9 10\n",
            "10 9 8 7 6 5 4 3 2 1 "
          ]
        }
      ]
    }
  ]
}