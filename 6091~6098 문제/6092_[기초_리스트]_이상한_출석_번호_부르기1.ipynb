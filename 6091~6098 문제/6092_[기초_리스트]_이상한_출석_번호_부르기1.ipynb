{
  "nbformat": 4,
  "nbformat_minor": 0,
  "metadata": {
    "colab": {
      "name": "6092 [기초-리스트] 이상한 출석 번호 부르기1",
      "provenance": [],
      "authorship_tag": "ABX9TyOwb0LZo7T5KOlwPsi4Y+Ud",
      "include_colab_link": true
    },
    "kernelspec": {
      "name": "python3",
      "display_name": "Python 3"
    },
    "language_info": {
      "name": "python"
    }
  },
  "cells": [
    {
      "cell_type": "markdown",
      "metadata": {
        "id": "view-in-github",
        "colab_type": "text"
      },
      "source": [
        "<a href=\"https://colab.research.google.com/github/sangeon22/CodingTest-CodeUp100-Python/blob/main/6092_%5B%EA%B8%B0%EC%B4%88_%EB%A6%AC%EC%8A%A4%ED%8A%B8%5D_%EC%9D%B4%EC%83%81%ED%95%9C_%EC%B6%9C%EC%84%9D_%EB%B2%88%ED%98%B8_%EB%B6%80%EB%A5%B4%EA%B8%B01.ipynb\" target=\"_parent\"><img src=\"https://colab.research.google.com/assets/colab-badge.svg\" alt=\"Open In Colab\"/></a>"
      ]
    },
    {
      "cell_type": "code",
      "execution_count": 1,
      "metadata": {
        "colab": {
          "base_uri": "https://localhost:8080/",
          "height": 109
        },
        "id": "f6-q7FBXPQZY",
        "outputId": "0a50baa2-7610-4943-fdd1-d4a26f643ea5"
      },
      "outputs": [
        {
          "output_type": "execute_result",
          "data": {
            "text/plain": [
              "'\\n온라인 채점시스템에는 초등학생, 중고등학생, 대학생, 대학원생,\\n일반인, 군인, 프로그래머, 탑코더 등 아주 많은 사람들이 들어와 문제를 풀고 있는데,\\n\\n실시간 채점 정보는 메뉴의 채점기록(Judge Status)을 통해 살펴볼 수 있다.\\n\\n자! 여기서...잠깐..\\n같은 날 동시에 가입한 3명의 사람들이 온라인 채점시스템에 들어와 문제를 푸는 날짜가\\n매우 규칙적이라고 할 때, 다시 모두 함께 문제를 풀게 되는 그날은 언제일까?\\n\\n예를 들어 3명이 같은 날 가입/등업하고, 각각 3일마다, 7일마다, 9일마다\\n한 번씩 들어온다면, 처음 가입하고 63일 만에 다시 3명이 함께 문제를 풀게 된다.\\n\\n갑자기 힌트?\\n왠지 어려워 보이지 않는가?\\n수학에서 배운 최소공배수를 생각한 사람들도 있을 것이다. 하지만, 정보에서 배우고 경험하는\\n정보과학의 세상은 때때로 컴퓨터의 힘을 빌려 간단한 방법으로 해결할 수 있게 한다.\\n\\n아래의 코드를 읽고 이해한 후 도전해 보자.\\nday는 날 수, a/b/c는 방문 주기이다.\\n...\\nd = 1\\nwhile d%a!=0 or d%b!=0 or d%c!=0 :\\n  d += 1\\nprint(d)\\n...\\n\\n물론, 아주 많은 다양한 방법이 있을 수 있다.\\n\\n정보과학의 문제해결에 있어서 정답은?\\n하나가 아니라 주어진 시간/기억공간으로 정확한 결과를 얻을 수 있는 모든 방법이다.\\n\\n따라서, 모든 문제들에는 정답이 하나뿐만이 아니다.\\n새로운, 더 빠른, 더 간단한 방법을 다양하게 생각해보고 여러가지 방법으로 도전해 볼 수 있다.\\n'"
            ],
            "application/vnd.google.colaboratory.intrinsic+json": {
              "type": "string"
            }
          },
          "metadata": {},
          "execution_count": 1
        }
      ],
      "source": [
        "\"\"\"\n",
        "정보 선생님은 수업을 시작하기 전에 이상한 출석을 부른다.\n",
        "\n",
        "선생님은 출석부를 보고 번호를 부르는데,\n",
        "학생들의 얼굴과 이름을 빨리 익히기 위해 번호를 무작위(랜덤)으로 부른다.\n",
        "\n",
        "그리고 얼굴과 이름이 잘 기억되지 않는 학생들은 번호를 여러 번 불러\n",
        "이름과 얼굴을 빨리 익히려고 하는 것이다.\n",
        "\n",
        "출석 번호를 n번 무작위로 불렀을 때, 각 번호(1 ~ 23)가 불린 횟수를 각각 출력해보자.\n",
        "\n",
        "예시\n",
        "n = int(input())      #개수를 입력받아 n에 정수로 저장\n",
        "a = input().split()  #공백을 기준으로 잘라 a에 순서대로 저장\n",
        "\n",
        "for i in range(n) :  #0부터 n-1까지...\n",
        "  a[i] = int(a[i])       #a에 순서대로 저장되어있는 각 값을 정수로 변환해 다시 저장\n",
        "\n",
        "d = []                     #d라는 이름의 빈 리스트 [ ] 변수를 만듦. 대괄호 기호 [  ] 를 사용한다.\n",
        "for i in range(24) :  #[0, 0, 0, ... , 0, 0, 0] 과 같이 24개의 정수 값 0을 추가해 넣음\n",
        "  d.append(0)        #각 값은 d[0], d[1], d[2], ... , d[22], d[23] 으로 값을 읽고 저장할 수 있음.\n",
        "\n",
        "for i in range(n) :    #번호를 부를 때마다, 그 번호에 대한 카운트 1씩 증가\n",
        "  d[a[i]] += 1\n",
        "\n",
        "for i in range(1, 24) :  #카운트한 값을 공백을 두고 출력\n",
        "  print(d[i], end=' ')\n",
        "\n",
        "참고\n",
        "- d = []              #어떤 데이터 목록(list) 을 순서대로 저장하기 위해 아무것도 없는 리스트 변수 만들기\n",
        "- d.append(값)  #d 리스트의 마지막에 원하는 값을 추가(append)해 넣음 \n",
        "- d[a[i]] += 1     #2중 리스트 참조 : 만약 a[i]의 값이 1이었다면? d[1] += 1 이 실행되는 것이다. 1번 카운트 1개 증가..\n",
        "\n",
        "어떤 값을 기록했다가 다시 사용할 필요가 있을 때, 필요한 변수(variable)를 만들어 사용하는 것처럼,\n",
        "여러 개의 값을 하나로 묶어 목록으로 기록했다가 다시 사용할 필요가 있을 때, 리스트(list)를 만들어 사용할 수 있다.\n",
        "리스트는 변수들을 모아 놓은 변수라고 생각할 수도 있고, 참조번호를 이용해 간단하고 편리하게 사용할 수 있다.\n",
        "\"\"\""
      ]
    },
    {
      "cell_type": "code",
      "source": [
        "n = int(input())\n",
        "a = list(map(int, input().split()))\n",
        "answer = []\n",
        "\n",
        "for i in range(24):\n",
        "  answer.append(0)\n",
        "\n",
        "for i in range(n):\n",
        "  answer[a[i]] += 1\n",
        "\n",
        "for i in range(1, 24):\n",
        "  print(answer[i], end=' ')\n"
      ],
      "metadata": {
        "colab": {
          "base_uri": "https://localhost:8080/"
        },
        "id": "562Nvy6BQPhi",
        "outputId": "d6f05710-0cdb-4d1f-ddac-cb1b2049ce1d"
      },
      "execution_count": 12,
      "outputs": [
        {
          "output_type": "stream",
          "name": "stdout",
          "text": [
            "10\n",
            "1 3 2 2 5 6 7 4 5 9\n",
            "1 2 1 1 2 1 1 0 1 0 0 0 0 0 0 0 0 0 0 0 0 0 0 "
          ]
        }
      ]
    }
  ]
}