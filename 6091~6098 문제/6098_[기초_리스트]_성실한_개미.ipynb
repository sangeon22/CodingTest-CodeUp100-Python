{
  "nbformat": 4,
  "nbformat_minor": 0,
  "metadata": {
    "colab": {
      "name": "6098 [기초-리스트] 성실한 개미",
      "provenance": [],
      "authorship_tag": "ABX9TyNL2mAkrIbUSILsv8S2yudn",
      "include_colab_link": true
    },
    "kernelspec": {
      "name": "python3",
      "display_name": "Python 3"
    },
    "language_info": {
      "name": "python"
    }
  },
  "cells": [
    {
      "cell_type": "markdown",
      "metadata": {
        "id": "view-in-github",
        "colab_type": "text"
      },
      "source": [
        "<a href=\"https://colab.research.google.com/github/sangeon22/CodingTest-CodeUp100-Python/blob/main/6098_%5B%EA%B8%B0%EC%B4%88_%EB%A6%AC%EC%8A%A4%ED%8A%B8%5D_%EC%84%B1%EC%8B%A4%ED%95%9C_%EA%B0%9C%EB%AF%B8.ipynb\" target=\"_parent\"><img src=\"https://colab.research.google.com/assets/colab-badge.svg\" alt=\"Open In Colab\"/></a>"
      ]
    },
    {
      "cell_type": "code",
      "execution_count": 1,
      "metadata": {
        "colab": {
          "base_uri": "https://localhost:8080/",
          "height": 109
        },
        "id": "dli76Fsr_CSS",
        "outputId": "d4b756ab-1128-4cbb-f0d9-b2ae500bb398"
      },
      "outputs": [
        {
          "output_type": "execute_result",
          "data": {
            "text/plain": [
              "'\\n본 문제는 python 의 빠른 기초 학습을 위해 설계된 문제로서 python 코드 제출을 기준으로 설명되어 있습니다. \\n------\\n\\n영일이는 생명과학에 관심이 생겨 왕개미를 연구하고 있었다.\\n\\n왕개미를 유심히 살펴보던 중 특별히 성실해 보이는 개미가 있었는데,\\n그 개미는 개미굴에서 나와 먹이까지 가장 빠른 길로 이동하는 것이었다.\\n\\n개미는 오른쪽으로 움직이다가 벽을 만나면 아래쪽으로 움직여 가장 빠른 길로 움직였다.\\n(오른쪽에 길이 나타나면 다시 오른쪽으로 움직인다.)\\n\\n이에 호기심이 생긴 영일이는 그 개미를 미로 상자에 넣고 살펴보기 시작하였다.\\n\\n미로 상자에 넣은 개미는 먹이를 찾았거나, 더 이상 움직일 수 없을 때까지\\n오른쪽 또는 아래쪽으로만 움직였다.\\n\\n미로 상자의 구조가 0(갈 수 있는 곳), 1(벽 또는 장애물)로 주어지고,\\n먹이가 2로 주어질 때, 성실한 개미의 이동 경로를 예상해보자.\\n\\n단, 맨 아래의 가장 오른쪽에 도착한 경우, 더 이상 움직일 수 없는 경우, 먹이를 찾은 경우에는\\n더이상 이동하지 않고 그 곳에 머무른다고 가정한다.\\n\\n미로 상자의 테두리는 모두 벽으로 되어 있으며,\\n개미집은 반드시 (2, 2)에 존재하기 때문에 개미는 (2, 2)에서 출발한다.\\n'"
            ],
            "application/vnd.google.colaboratory.intrinsic+json": {
              "type": "string"
            }
          },
          "metadata": {},
          "execution_count": 1
        }
      ],
      "source": [
        "\"\"\"\n",
        "본 문제는 python 의 빠른 기초 학습을 위해 설계된 문제로서 python 코드 제출을 기준으로 설명되어 있습니다. \n",
        "------\n",
        "\n",
        "영일이는 생명과학에 관심이 생겨 왕개미를 연구하고 있었다.\n",
        "\n",
        "왕개미를 유심히 살펴보던 중 특별히 성실해 보이는 개미가 있었는데,\n",
        "그 개미는 개미굴에서 나와 먹이까지 가장 빠른 길로 이동하는 것이었다.\n",
        "\n",
        "개미는 오른쪽으로 움직이다가 벽을 만나면 아래쪽으로 움직여 가장 빠른 길로 움직였다.\n",
        "(오른쪽에 길이 나타나면 다시 오른쪽으로 움직인다.)\n",
        "\n",
        "이에 호기심이 생긴 영일이는 그 개미를 미로 상자에 넣고 살펴보기 시작하였다.\n",
        "\n",
        "미로 상자에 넣은 개미는 먹이를 찾았거나, 더 이상 움직일 수 없을 때까지\n",
        "오른쪽 또는 아래쪽으로만 움직였다.\n",
        "\n",
        "미로 상자의 구조가 0(갈 수 있는 곳), 1(벽 또는 장애물)로 주어지고,\n",
        "먹이가 2로 주어질 때, 성실한 개미의 이동 경로를 예상해보자.\n",
        "\n",
        "단, 맨 아래의 가장 오른쪽에 도착한 경우, 더 이상 움직일 수 없는 경우, 먹이를 찾은 경우에는\n",
        "더이상 이동하지 않고 그 곳에 머무른다고 가정한다.\n",
        "\n",
        "미로 상자의 테두리는 모두 벽으로 되어 있으며,\n",
        "개미집은 반드시 (2, 2)에 존재하기 때문에 개미는 (2, 2)에서 출발한다.\n",
        "\"\"\""
      ]
    },
    {
      "cell_type": "code",
      "source": [
        "d = []\n",
        "for i in range(10):\n",
        "  d.append(list(map(int, input().split())))\n",
        "\n",
        "x, y = 1, 1\n",
        "\n",
        "while True:\n",
        "  # 움직이는 좌표애서 (x,y)가 0일 때, 그 자리를 9로 바꿔준다. \n",
        "  if d[x][y] == 0 :\n",
        "    d[x][y] = 9\n",
        "  # 움직이는 좌표애서 (x,y)가 2일 때, 그 자리를 9로 바꿔주고 종료한다./ 먹이를 먹었으니까\n",
        "  elif d[x][y] == 2:\n",
        "    d[x][y] = 9\n",
        "    break\n",
        "\n",
        "  #오른쪽과 아래가 모두  1이라면 종료한다. / 막혔으니까\n",
        "  if d[x][y+1] == 1 and d[x+1][y] == 1:\n",
        "    break\n",
        "\n",
        "  # y쪽이 1(벽)이 아니라면, y로 +1 이동\n",
        "  if d[x][y+1] != 1:\n",
        "    y += 1\n",
        "  \n",
        "  # x쪽이 1(벽)이 아니라면, x''로 +1 이동\n",
        "  elif d[x+1][y] != 1:\n",
        "    x += 1\n",
        "\n",
        "\n",
        "# 결과 리스트 출력\n",
        "for i in range(len(d)):\n",
        "  for j in range(len(d)):\n",
        "    print(d[i][j], end=\" \")\n",
        "  print()\n",
        "\n"
      ],
      "metadata": {
        "colab": {
          "base_uri": "https://localhost:8080/"
        },
        "id": "uvdR6Hws_fyC",
        "outputId": "afdaeac3-e589-496b-8ed7-fd421e9a89f2"
      },
      "execution_count": 11,
      "outputs": [
        {
          "output_type": "stream",
          "name": "stdout",
          "text": [
            "1 1 1 1 1 1 1 1 1 1\n",
            "1 0 0 1 0 0 0 0 0 1\n",
            "1 0 0 1 1 1 0 0 0 1\n",
            "1 0 0 0 0 0 0 1 0 1\n",
            "1 0 0 0 0 0 0 1 0 1\n",
            "1 0 0 0 0 1 0 1 0 1\n",
            "1 0 0 0 0 1 2 1 0 1\n",
            "1 0 0 0 0 1 0 0 0 1\n",
            "1 0 0 0 0 0 0 0 0 1\n",
            "1 1 1 1 1 1 1 1 1 1\n",
            "1 1 1 1 1 1 1 1 1 1 \n",
            "1 9 9 1 0 0 0 0 0 1 \n",
            "1 0 9 1 1 1 0 0 0 1 \n",
            "1 0 9 9 9 9 9 1 0 1 \n",
            "1 0 0 0 0 0 9 1 0 1 \n",
            "1 0 0 0 0 1 9 1 0 1 \n",
            "1 0 0 0 0 1 9 1 0 1 \n",
            "1 0 0 0 0 1 0 0 0 1 \n",
            "1 0 0 0 0 0 0 0 0 1 \n",
            "1 1 1 1 1 1 1 1 1 1 \n"
          ]
        }
      ]
    }
  ]
}