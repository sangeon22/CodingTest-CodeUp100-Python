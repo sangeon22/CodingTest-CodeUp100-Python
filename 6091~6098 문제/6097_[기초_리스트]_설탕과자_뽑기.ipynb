{
  "nbformat": 4,
  "nbformat_minor": 0,
  "metadata": {
    "colab": {
      "name": "6097 [기초-리스트] 설탕과자 뽑기",
      "provenance": [],
      "authorship_tag": "ABX9TyNxadAD84OjABbZDNx5SKBb",
      "include_colab_link": true
    },
    "kernelspec": {
      "name": "python3",
      "display_name": "Python 3"
    },
    "language_info": {
      "name": "python"
    }
  },
  "cells": [
    {
      "cell_type": "markdown",
      "metadata": {
        "id": "view-in-github",
        "colab_type": "text"
      },
      "source": [
        "<a href=\"https://colab.research.google.com/github/sangeon22/CodingTest-CodeUp100-Python/blob/main/6097_%5B%EA%B8%B0%EC%B4%88_%EB%A6%AC%EC%8A%A4%ED%8A%B8%5D_%EC%84%A4%ED%83%95%EA%B3%BC%EC%9E%90_%EB%BD%91%EA%B8%B0.ipynb\" target=\"_parent\"><img src=\"https://colab.research.google.com/assets/colab-badge.svg\" alt=\"Open In Colab\"/></a>"
      ]
    },
    {
      "cell_type": "code",
      "execution_count": 1,
      "metadata": {
        "colab": {
          "base_uri": "https://localhost:8080/",
          "height": 72
        },
        "id": "We7q2SOJtnP2",
        "outputId": "080c7367-c8b0-41ef-d1a5-826e86b5d1f7"
      },
      "outputs": [
        {
          "output_type": "execute_result",
          "data": {
            "text/plain": [
              "'\\n부모님과 함께 놀러간 영일이는\\n설탕과자(설탕을 녹여 물고기 등의 모양을 만든 것) 뽑기를 보게 되었다.\\n\\n길이가 다른 몇 개의 막대를 바둑판과 같은 격자판에 놓는데,\\n\\n막대에 있는 설탕과자 이름 아래에 있는 번호를 뽑으면 설탕과자를 가져가는 게임이었다.\\n(잉어, 붕어, 용 등 여러 가지가 적혀있다.)\\n\\n격자판의 세로(h), 가로(w), 막대의 개수(n), 각 막대의 길이(l),\\n막대를 놓는 방향(d:가로는 0, 세로는 1)과\\n막대를 놓는 막대의 가장 왼쪽 또는 위쪽의 위치(x, y)가 주어질 때,\\n\\n격자판을 채운 막대의 모양을 출력하는 프로그램을 만들어보자.\\n'"
            ],
            "application/vnd.google.colaboratory.intrinsic+json": {
              "type": "string"
            }
          },
          "metadata": {},
          "execution_count": 1
        }
      ],
      "source": [
        "'''\n",
        "부모님과 함께 놀러간 영일이는\n",
        "설탕과자(설탕을 녹여 물고기 등의 모양을 만든 것) 뽑기를 보게 되었다.\n",
        "\n",
        "길이가 다른 몇 개의 막대를 바둑판과 같은 격자판에 놓는데,\n",
        "\n",
        "막대에 있는 설탕과자 이름 아래에 있는 번호를 뽑으면 설탕과자를 가져가는 게임이었다.\n",
        "(잉어, 붕어, 용 등 여러 가지가 적혀있다.)\n",
        "\n",
        "격자판의 세로(h), 가로(w), 막대의 개수(n), 각 막대의 길이(l),\n",
        "막대를 놓는 방향(d:가로는 0, 세로는 1)과\n",
        "막대를 놓는 막대의 가장 왼쪽 또는 위쪽의 위치(x, y)가 주어질 때,\n",
        "\n",
        "격자판을 채운 막대의 모양을 출력하는 프로그램을 만들어보자.\n",
        "'''"
      ]
    },
    {
      "cell_type": "code",
      "source": [
        "# h 세로, w 가로\n",
        "h, w = map(int, input().split())\n",
        "\n",
        "# area 격자판 배열 생성\n",
        "area = []\n",
        "for i in range(h+1):\n",
        "  area.append([])\n",
        "  for _ in range(w+1):\n",
        "    area[i].append(0)\n",
        "\n",
        "# n 막대의 개수\n",
        "n = int(input())\n",
        "\n",
        "for i in range(n):\n",
        "  # l 막대의 길이, d 방향, (x,y) 좌표\n",
        "  l, d, x, y = map(int, input().split())\n",
        "  if d == 0:\n",
        "    for j in range(l):\n",
        "      area[x][y+j] = 1\n",
        "  else:\n",
        "    for j in range(l):\n",
        "      area[x+j][y] = 1\n",
        "\n",
        "\n",
        "\n",
        "# 결과 격자판 출력\n",
        "for i in range(1, h+1):\n",
        "  for j in range(1, w+1):\n",
        "    print(area[i][j], end =' ')\n",
        "  print()"
      ],
      "metadata": {
        "colab": {
          "base_uri": "https://localhost:8080/"
        },
        "id": "Rp_HFhCDtvO_",
        "outputId": "276994ec-f32d-4d52-ba0b-05056cfad45b"
      },
      "execution_count": 11,
      "outputs": [
        {
          "output_type": "stream",
          "name": "stdout",
          "text": [
            "5 5\n",
            "3\n",
            "2 0 1 1\n",
            "3 1 2 3\n",
            "4 1 2 5\n",
            "1 1 0 0 0 \n",
            "0 0 1 0 1 \n",
            "0 0 1 0 1 \n",
            "0 0 1 0 1 \n",
            "0 0 0 0 1 \n"
          ]
        }
      ]
    }
  ]
}