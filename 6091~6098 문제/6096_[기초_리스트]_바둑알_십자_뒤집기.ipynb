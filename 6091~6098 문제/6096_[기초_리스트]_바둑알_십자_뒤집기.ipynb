{
  "nbformat": 4,
  "nbformat_minor": 0,
  "metadata": {
    "colab": {
      "name": "6096 [기초-리스트] 바둑알 십자 뒤집기",
      "provenance": [],
      "authorship_tag": "ABX9TyPbZY5qO0+UFBqPV5xy7rYC",
      "include_colab_link": true
    },
    "kernelspec": {
      "name": "python3",
      "display_name": "Python 3"
    },
    "language_info": {
      "name": "python"
    }
  },
  "cells": [
    {
      "cell_type": "markdown",
      "metadata": {
        "id": "view-in-github",
        "colab_type": "text"
      },
      "source": [
        "<a href=\"https://colab.research.google.com/github/sangeon22/CodingTest-CodeUp100-Python/blob/main/6096_%5B%EA%B8%B0%EC%B4%88_%EB%A6%AC%EC%8A%A4%ED%8A%B8%5D_%EB%B0%94%EB%91%91%EC%95%8C_%EC%8B%AD%EC%9E%90_%EB%92%A4%EC%A7%91%EA%B8%B0.ipynb\" target=\"_parent\"><img src=\"https://colab.research.google.com/assets/colab-badge.svg\" alt=\"Open In Colab\"/></a>"
      ]
    },
    {
      "cell_type": "code",
      "execution_count": 1,
      "metadata": {
        "colab": {
          "base_uri": "https://localhost:8080/",
          "height": 90
        },
        "id": "6bFQej6XkO25",
        "outputId": "9531bd98-3f72-4fd1-df4e-87ec8e7f37ac"
      },
      "outputs": [
        {
          "output_type": "execute_result",
          "data": {
            "text/plain": [
              "'\\n부모님을 기다리던 영일이는 검정/흰 색 바둑알을 바둑판에 꽉 채워 깔아 놓고 놀다가...\\n\\n\"십(+)자 뒤집기를 해볼까?\"하고 생각했다.\\n\\n십자 뒤집기는\\n그 위치에 있는 모든 가로줄 돌의 색을 반대(1->0, 0->1)로 바꾼 후, \\n다시 그 위치에 있는 모든 세로줄 돌의 색을 반대로 바꾸는 것이다.\\n어떤 위치를 골라 집자 뒤집기를 하면, 그 위치를 제외한 가로줄과 세로줄의 색이 모두 반대로 바뀐다.\\n\\n바둑판(19 * 19)에 흰 돌(1) 또는 검정 돌(0)이 모두 꽉 채워져 놓여있을 때,\\nn개의 좌표를 입력받아 십(+)자 뒤집기한 결과를 출력하는 프로그램을 작성해보자.\\n\\n예시\\n...\\nfor i in range(n) :\\n  x,y=input().split()\\n  for j in range(1, 20) :\\n    if d[j][int(y)]==0 :\\n      d[j][int(y)]=1\\n    else :\\n      d[j][int(y)]=0\\n\\n    if d[int(x)][j]==0 :\\n      d[int(x)][j]=1\\n    else :\\n      d[int(x)][j]=0\\n...\\n\\n참고\\n리스트가 들어있는 리스트를 만들면?\\n가로번호, 세로번호를 사용해 2차원 형태의 데이터처럼 쉽게 기록하고 사용할 수 있다.\\n리스트이름[번호][번호] 형식으로 저장되어있는 값을 읽고 쓸 수 있다.\\n'"
            ],
            "application/vnd.google.colaboratory.intrinsic+json": {
              "type": "string"
            }
          },
          "metadata": {},
          "execution_count": 1
        }
      ],
      "source": [
        "\"\"\"\n",
        "부모님을 기다리던 영일이는 검정/흰 색 바둑알을 바둑판에 꽉 채워 깔아 놓고 놀다가...\n",
        "\n",
        "\"십(+)자 뒤집기를 해볼까?\"하고 생각했다.\n",
        "\n",
        "십자 뒤집기는\n",
        "그 위치에 있는 모든 가로줄 돌의 색을 반대(1->0, 0->1)로 바꾼 후, \n",
        "다시 그 위치에 있는 모든 세로줄 돌의 색을 반대로 바꾸는 것이다.\n",
        "어떤 위치를 골라 집자 뒤집기를 하면, 그 위치를 제외한 가로줄과 세로줄의 색이 모두 반대로 바뀐다.\n",
        "\n",
        "바둑판(19 * 19)에 흰 돌(1) 또는 검정 돌(0)이 모두 꽉 채워져 놓여있을 때,\n",
        "n개의 좌표를 입력받아 십(+)자 뒤집기한 결과를 출력하는 프로그램을 작성해보자.\n",
        "\n",
        "예시\n",
        "...\n",
        "for i in range(n) :\n",
        "  x,y=input().split()\n",
        "  for j in range(1, 20) :\n",
        "    if d[j][int(y)]==0 :\n",
        "      d[j][int(y)]=1\n",
        "    else :\n",
        "      d[j][int(y)]=0\n",
        "\n",
        "    if d[int(x)][j]==0 :\n",
        "      d[int(x)][j]=1\n",
        "    else :\n",
        "      d[int(x)][j]=0\n",
        "...\n",
        "\n",
        "참고\n",
        "리스트가 들어있는 리스트를 만들면?\n",
        "가로번호, 세로번호를 사용해 2차원 형태의 데이터처럼 쉽게 기록하고 사용할 수 있다.\n",
        "리스트이름[번호][번호] 형식으로 저장되어있는 값을 읽고 쓸 수 있다.\n",
        "\"\"\""
      ]
    },
    {
      "cell_type": "code",
      "source": [
        "# []빈배열 생성\n",
        "a = []\n",
        "\n",
        "# 2차원 배열 생성\n",
        "# 19*19 사이즈\n",
        "# 0으로 채운다. \n",
        "for i in range(19):\n",
        "  a.append([])\n",
        "  for j in range(19):\n",
        "    a[i].append(0)\n",
        "\n",
        "# 19개 행을 입력받는다\n",
        "for i in range(19):\n",
        "  a[i] = list(map(int, input().split()))\n",
        "\n",
        "# 뒤집기 횟수입력\n",
        "n = int(input())\n",
        "\n",
        "# 뒤집기 실행\n",
        "for i in range(n):\n",
        "  # 뒤집는 좌표입력\n",
        "  x, y = map(int, input().split())\n",
        "  for j in range(19):\n",
        "    if a[x-1][j] == 0:\n",
        "      a[x-1][j] = 1\n",
        "    else:\n",
        "      a[x-1][j] = 0\n",
        "\n",
        "    if a[j][y-1] == 0:\n",
        "      a[j][y-1] = 1\n",
        "    else:\n",
        "      a[j][y-1] = 0\n",
        "\n",
        "\n",
        "# 뒤집은 배열 출력\n",
        "for i in range(19):\n",
        "  for j in range(19):\n",
        "    print(a[i][j], end = \" \")\n",
        "  print()"
      ],
      "metadata": {
        "colab": {
          "base_uri": "https://localhost:8080/"
        },
        "id": "KivY6VE4kv57",
        "outputId": "b3047158-e899-4c6d-8b19-ea7a0cf0bbc2"
      },
      "execution_count": 7,
      "outputs": [
        {
          "output_type": "stream",
          "name": "stdout",
          "text": [
            "0 0 0 0 0 0 0 0 0 1 0 1 0 0 0 0 0 0 0\n",
            "0 0 0 0 0 0 0 0 0 1 0 1 0 0 0 0 0 0 0\n",
            "0 0 0 0 0 0 0 0 0 1 0 1 0 0 0 0 0 0 0\n",
            "0 0 0 0 0 0 0 0 0 1 0 1 0 0 0 0 0 0 0\n",
            "0 0 0 0 0 0 0 0 0 1 0 1 0 0 0 0 0 0 0\n",
            "0 0 0 0 0 0 0 0 0 1 0 1 0 0 0 0 0 0 0\n",
            "0 0 0 0 0 0 0 0 0 1 0 1 0 0 0 0 0 0 0\n",
            "0 0 0 0 0 0 0 0 0 1 0 1 0 0 0 0 0 0 0\n",
            "0 0 0 0 0 0 0 0 0 1 0 1 0 0 0 0 0 0 0\n",
            "1 1 1 1 1 1 1 1 1 1 1 1 1 1 1 1 1 1 1\n",
            "0 0 0 0 0 0 0 0 0 1 0 1 0 0 0 0 0 0 0\n",
            "1 1 1 1 1 1 1 1 1 1 1 1 1 1 1 1 1 1 1\n",
            "0 0 0 0 0 0 0 0 0 1 0 1 0 0 0 0 0 0 0\n",
            "0 0 0 0 0 0 0 0 0 1 0 1 0 0 0 0 0 0 0\n",
            "0 0 0 0 0 0 0 0 0 1 0 1 0 0 0 0 0 0 0\n",
            "0 0 0 0 0 0 0 0 0 1 0 1 0 0 0 0 0 0 0\n",
            "0 0 0 0 0 0 0 0 0 1 0 1 0 0 0 0 0 0 0\n",
            "0 0 0 0 0 0 0 0 0 1 0 1 0 0 0 0 0 0 0\n",
            "0 0 0 0 0 0 0 0 0 1 0 1 0 0 0 0 0 0 0\n",
            "2\n",
            "10 10\n",
            "12 12\n",
            "0 0 0 0 0 0 0 0 0 0 0 0 0 0 0 0 0 0 0 \n",
            "0 0 0 0 0 0 0 0 0 0 0 0 0 0 0 0 0 0 0 \n",
            "0 0 0 0 0 0 0 0 0 0 0 0 0 0 0 0 0 0 0 \n",
            "0 0 0 0 0 0 0 0 0 0 0 0 0 0 0 0 0 0 0 \n",
            "0 0 0 0 0 0 0 0 0 0 0 0 0 0 0 0 0 0 0 \n",
            "0 0 0 0 0 0 0 0 0 0 0 0 0 0 0 0 0 0 0 \n",
            "0 0 0 0 0 0 0 0 0 0 0 0 0 0 0 0 0 0 0 \n",
            "0 0 0 0 0 0 0 0 0 0 0 0 0 0 0 0 0 0 0 \n",
            "0 0 0 0 0 0 0 0 0 0 0 0 0 0 0 0 0 0 0 \n",
            "0 0 0 0 0 0 0 0 0 1 0 1 0 0 0 0 0 0 0 \n",
            "0 0 0 0 0 0 0 0 0 0 0 0 0 0 0 0 0 0 0 \n",
            "0 0 0 0 0 0 0 0 0 1 0 1 0 0 0 0 0 0 0 \n",
            "0 0 0 0 0 0 0 0 0 0 0 0 0 0 0 0 0 0 0 \n",
            "0 0 0 0 0 0 0 0 0 0 0 0 0 0 0 0 0 0 0 \n",
            "0 0 0 0 0 0 0 0 0 0 0 0 0 0 0 0 0 0 0 \n",
            "0 0 0 0 0 0 0 0 0 0 0 0 0 0 0 0 0 0 0 \n",
            "0 0 0 0 0 0 0 0 0 0 0 0 0 0 0 0 0 0 0 \n",
            "0 0 0 0 0 0 0 0 0 0 0 0 0 0 0 0 0 0 0 \n",
            "0 0 0 0 0 0 0 0 0 0 0 0 0 0 0 0 0 0 0 \n"
          ]
        }
      ]
    }
  ]
}