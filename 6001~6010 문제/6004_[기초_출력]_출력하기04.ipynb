{
  "nbformat": 4,
  "nbformat_minor": 0,
  "metadata": {
    "colab": {
      "name": "6004 [기초-출력] 출력하기04",
      "provenance": [],
      "authorship_tag": "ABX9TyPSyC67yELuEKXg1VF+KhA5",
      "include_colab_link": true
    },
    "kernelspec": {
      "name": "python3",
      "display_name": "Python 3"
    },
    "language_info": {
      "name": "python"
    }
  },
  "cells": [
    {
      "cell_type": "markdown",
      "metadata": {
        "id": "view-in-github",
        "colab_type": "text"
      },
      "source": [
        "<a href=\"https://colab.research.google.com/github/sangeon22/CodingTest-CodeUp100-Python/blob/main/6004_%5B%EA%B8%B0%EC%B4%88_%EC%B6%9C%EB%A0%A5%5D_%EC%B6%9C%EB%A0%A5%ED%95%98%EA%B8%B004.ipynb\" target=\"_parent\"><img src=\"https://colab.research.google.com/assets/colab-badge.svg\" alt=\"Open In Colab\"/></a>"
      ]
    },
    {
      "cell_type": "code",
      "execution_count": 1,
      "metadata": {
        "id": "pAW2M8FoheiP"
      },
      "outputs": [],
      "source": [
        "# 이번에는 작은 따옴표(')(single quotation mark)가 들어있는\n",
        "# 출력문 연습을 해보자.\n",
        "\n",
        "# 다음 문장을 출력하시오.\n",
        "\n",
        "# 'Hello'"
      ]
    },
    {
      "cell_type": "code",
      "source": [
        "print(\"'Hello'\")"
      ],
      "metadata": {
        "colab": {
          "base_uri": "https://localhost:8080/"
        },
        "id": "RY-WKrBvhjGx",
        "outputId": "9d3e6365-488c-4a05-de1e-62425a1780b1"
      },
      "execution_count": 3,
      "outputs": [
        {
          "output_type": "stream",
          "name": "stdout",
          "text": [
            "'Hello'\n"
          ]
        }
      ]
    }
  ]
}