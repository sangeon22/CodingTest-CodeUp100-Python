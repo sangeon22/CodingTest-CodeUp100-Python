{
  "nbformat": 4,
  "nbformat_minor": 0,
  "metadata": {
    "colab": {
      "name": "6007 [기초-출력] 출력하기07",
      "provenance": [],
      "authorship_tag": "ABX9TyOK634PTs9ivlH8M2bZsYXi",
      "include_colab_link": true
    },
    "kernelspec": {
      "name": "python3",
      "display_name": "Python 3"
    },
    "language_info": {
      "name": "python"
    }
  },
  "cells": [
    {
      "cell_type": "markdown",
      "metadata": {
        "id": "view-in-github",
        "colab_type": "text"
      },
      "source": [
        "<a href=\"https://colab.research.google.com/github/sangeon22/CodingTest-CodeUp100-Python/blob/main/6007_%5B%EA%B8%B0%EC%B4%88_%EC%B6%9C%EB%A0%A5%5D_%EC%B6%9C%EB%A0%A5%ED%95%98%EA%B8%B007.ipynb\" target=\"_parent\"><img src=\"https://colab.research.google.com/assets/colab-badge.svg\" alt=\"Open In Colab\"/></a>"
      ]
    },
    {
      "cell_type": "code",
      "execution_count": 1,
      "metadata": {
        "id": "XnLfPdi-ipe7"
      },
      "outputs": [],
      "source": [
        "# 윈도우 운영체제의 파일 경로를 출력하는 연습을 해보자.\n",
        " \n",
        "# 파일 경로에는 특수문자들이 포함된다.\n",
        "\n",
        "# 다음 경로를 출력하시오.\n",
        "\n",
        "# \"C:\\Download\\'hello'.py\"\n",
        "# (단, 따옴표도 함께 출력한다.)"
      ]
    },
    {
      "cell_type": "code",
      "source": [
        "print(\"\\\"C:\\\\Download\\\\\\'hello\\'.py\\\"\")"
      ],
      "metadata": {
        "colab": {
          "base_uri": "https://localhost:8080/"
        },
        "id": "QmfRRsVmiuwR",
        "outputId": "a878eb27-5434-4515-973b-7cbbdd8faede"
      },
      "execution_count": 2,
      "outputs": [
        {
          "output_type": "stream",
          "name": "stdout",
          "text": [
            "\"C:\\Download\\'hello'.py\"\n"
          ]
        }
      ]
    },
    {
      "cell_type": "code",
      "source": [
        ""
      ],
      "metadata": {
        "id": "QImrqQpei40A"
      },
      "execution_count": null,
      "outputs": []
    }
  ]
}