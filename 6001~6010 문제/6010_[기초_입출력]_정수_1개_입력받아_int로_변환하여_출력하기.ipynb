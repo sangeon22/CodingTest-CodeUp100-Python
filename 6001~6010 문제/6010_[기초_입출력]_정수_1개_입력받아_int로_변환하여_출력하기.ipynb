{
  "nbformat": 4,
  "nbformat_minor": 0,
  "metadata": {
    "colab": {
      "name": "6010 [기초-입출력] 정수 1개 입력받아 int로 변환하여 출력하기",
      "provenance": [],
      "authorship_tag": "ABX9TyPbqg7DIYxP+bJi9f3fhT7z",
      "include_colab_link": true
    },
    "kernelspec": {
      "name": "python3",
      "display_name": "Python 3"
    },
    "language_info": {
      "name": "python"
    }
  },
  "cells": [
    {
      "cell_type": "markdown",
      "metadata": {
        "id": "view-in-github",
        "colab_type": "text"
      },
      "source": [
        "<a href=\"https://colab.research.google.com/github/sangeon22/CodingTest-CodeUp100-Python/blob/main/6010_%5B%EA%B8%B0%EC%B4%88_%EC%9E%85%EC%B6%9C%EB%A0%A5%5D_%EC%A0%95%EC%88%98_1%EA%B0%9C_%EC%9E%85%EB%A0%A5%EB%B0%9B%EC%95%84_int%EB%A1%9C_%EB%B3%80%ED%99%98%ED%95%98%EC%97%AC_%EC%B6%9C%EB%A0%A5%ED%95%98%EA%B8%B0.ipynb\" target=\"_parent\"><img src=\"https://colab.research.google.com/assets/colab-badge.svg\" alt=\"Open In Colab\"/></a>"
      ]
    },
    {
      "cell_type": "code",
      "execution_count": 1,
      "metadata": {
        "id": "ys65bq17kOSW"
      },
      "outputs": [],
      "source": [
        "# 정수(integer)는\n",
        "# 양의 정수(1, 2, 3, 4, 5, ...), 음의 정수(-1, -2, -3, -4, -5, ...), 0 과 같이\n",
        "# 소숫점 아래에 수가 없는 수라고 할 수 있다.\n",
        "\n",
        "# 변수에 정수값을 저장한 후 정수로 변환하여 출력해보자."
      ]
    },
    {
      "cell_type": "code",
      "source": [
        "a = input()\n",
        "a = int(a)\n",
        "print(a)"
      ],
      "metadata": {
        "colab": {
          "base_uri": "https://localhost:8080/"
        },
        "id": "oq5QKI5JkSOJ",
        "outputId": "f1e897f9-88f2-4d66-d38a-7b79cbd5cb33"
      },
      "execution_count": 2,
      "outputs": [
        {
          "output_type": "stream",
          "name": "stdout",
          "text": [
            "15\n",
            "15\n"
          ]
        }
      ]
    }
  ]
}