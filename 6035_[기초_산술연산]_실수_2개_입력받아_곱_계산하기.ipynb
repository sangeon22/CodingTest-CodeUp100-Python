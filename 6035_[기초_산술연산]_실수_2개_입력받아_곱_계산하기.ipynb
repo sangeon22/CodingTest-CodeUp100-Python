{
  "nbformat": 4,
  "nbformat_minor": 0,
  "metadata": {
    "colab": {
      "name": "6035 [기초-산술연산] 실수 2개 입력받아 곱 계산하기",
      "provenance": [],
      "authorship_tag": "ABX9TyOwIrS+CGjgzvEA2oD/tDGe",
      "include_colab_link": true
    },
    "kernelspec": {
      "name": "python3",
      "display_name": "Python 3"
    },
    "language_info": {
      "name": "python"
    }
  },
  "cells": [
    {
      "cell_type": "markdown",
      "metadata": {
        "id": "view-in-github",
        "colab_type": "text"
      },
      "source": [
        "<a href=\"https://colab.research.google.com/github/sangeon22/CodingTest-CodeUp100-Python/blob/main/6035_%5B%EA%B8%B0%EC%B4%88_%EC%82%B0%EC%88%A0%EC%97%B0%EC%82%B0%5D_%EC%8B%A4%EC%88%98_2%EA%B0%9C_%EC%9E%85%EB%A0%A5%EB%B0%9B%EC%95%84_%EA%B3%B1_%EA%B3%84%EC%82%B0%ED%95%98%EA%B8%B0.ipynb\" target=\"_parent\"><img src=\"https://colab.research.google.com/assets/colab-badge.svg\" alt=\"Open In Colab\"/></a>"
      ]
    },
    {
      "cell_type": "code",
      "execution_count": 1,
      "metadata": {
        "id": "j70El3i-L0jJ"
      },
      "outputs": [],
      "source": [
        "# 실수 2개(f1, f2)를 입력받아 곱을 출력하는 프로그램을 작성해보자."
      ]
    },
    {
      "cell_type": "code",
      "source": [
        "a, b = map(float, input().split())\n",
        "print(a*b)"
      ],
      "metadata": {
        "colab": {
          "base_uri": "https://localhost:8080/"
        },
        "id": "AfVJuoV8L7Jn",
        "outputId": "64195451-9634-4398-e872-8d7a27cf2445"
      },
      "execution_count": 2,
      "outputs": [
        {
          "output_type": "stream",
          "name": "stdout",
          "text": [
            "4.5 1.3\n",
            "5.8500000000000005\n"
          ]
        }
      ]
    }
  ]
}