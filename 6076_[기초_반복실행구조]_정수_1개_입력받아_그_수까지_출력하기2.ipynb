{
  "nbformat": 4,
  "nbformat_minor": 0,
  "metadata": {
    "colab": {
      "name": "6076 [기초-반복실행구조] 정수 1개 입력받아 그 수까지 출력하기2",
      "provenance": [],
      "authorship_tag": "ABX9TyOFOdkX0p5q76o1yt2DS2bA",
      "include_colab_link": true
    },
    "kernelspec": {
      "name": "python3",
      "display_name": "Python 3"
    },
    "language_info": {
      "name": "python"
    }
  },
  "cells": [
    {
      "cell_type": "markdown",
      "metadata": {
        "id": "view-in-github",
        "colab_type": "text"
      },
      "source": [
        "<a href=\"https://colab.research.google.com/github/sangeon22/CodingTest-CodeUp100-Python/blob/main/6076_%5B%EA%B8%B0%EC%B4%88_%EB%B0%98%EB%B3%B5%EC%8B%A4%ED%96%89%EA%B5%AC%EC%A1%B0%5D_%EC%A0%95%EC%88%98_1%EA%B0%9C_%EC%9E%85%EB%A0%A5%EB%B0%9B%EC%95%84_%EA%B7%B8_%EC%88%98%EA%B9%8C%EC%A7%80_%EC%B6%9C%EB%A0%A5%ED%95%98%EA%B8%B02.ipynb\" target=\"_parent\"><img src=\"https://colab.research.google.com/assets/colab-badge.svg\" alt=\"Open In Colab\"/></a>"
      ]
    },
    {
      "cell_type": "code",
      "execution_count": 4,
      "metadata": {
        "id": "XIiK9oamMP2i"
      },
      "outputs": [],
      "source": [
        "# 정수(0 ~ 100) 1개를 입력받아 0부터 그 수까지 순서대로 출력해보자.\n",
        "\n",
        "# 예시\n",
        "# n = int(input())\n",
        "# for i in range(n+1) :\n",
        "#   print(i)"
      ]
    },
    {
      "cell_type": "code",
      "source": [
        "target = int(input())\n",
        "\n",
        "for i in range(target+1):\n",
        "  print(i)"
      ],
      "metadata": {
        "colab": {
          "base_uri": "https://localhost:8080/"
        },
        "id": "5TKspFfIMjYf",
        "outputId": "d0cfc537-a929-4ac4-942d-1dc9223619f5"
      },
      "execution_count": 26,
      "outputs": [
        {
          "output_type": "stream",
          "name": "stdout",
          "text": [
            "5\n",
            "0\n",
            "1\n",
            "2\n",
            "3\n",
            "4\n",
            "5\n"
          ]
        }
      ]
    }
  ]
}