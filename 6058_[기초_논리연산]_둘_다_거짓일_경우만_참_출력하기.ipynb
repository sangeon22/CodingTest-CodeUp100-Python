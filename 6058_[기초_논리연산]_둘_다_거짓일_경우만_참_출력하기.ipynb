{
  "nbformat": 4,
  "nbformat_minor": 0,
  "metadata": {
    "colab": {
      "name": "6058 [기초-논리연산] 둘 다 거짓일 경우만 참 출력하기",
      "provenance": [],
      "authorship_tag": "ABX9TyONfArE7+MS7L4jhhHgw/q/",
      "include_colab_link": true
    },
    "kernelspec": {
      "name": "python3",
      "display_name": "Python 3"
    },
    "language_info": {
      "name": "python"
    }
  },
  "cells": [
    {
      "cell_type": "markdown",
      "metadata": {
        "id": "view-in-github",
        "colab_type": "text"
      },
      "source": [
        "<a href=\"https://colab.research.google.com/github/sangeon22/CodingTest-CodeUp100-Python/blob/main/6058_%5B%EA%B8%B0%EC%B4%88_%EB%85%BC%EB%A6%AC%EC%97%B0%EC%82%B0%5D_%EB%91%98_%EB%8B%A4_%EA%B1%B0%EC%A7%93%EC%9D%BC_%EA%B2%BD%EC%9A%B0%EB%A7%8C_%EC%B0%B8_%EC%B6%9C%EB%A0%A5%ED%95%98%EA%B8%B0.ipynb\" target=\"_parent\"><img src=\"https://colab.research.google.com/assets/colab-badge.svg\" alt=\"Open In Colab\"/></a>"
      ]
    },
    {
      "cell_type": "code",
      "execution_count": 8,
      "metadata": {
        "id": "vCbpM89HZyzQ"
      },
      "outputs": [],
      "source": [
        "# 2개의 정수값이 입력될 때,\n",
        "# 그 불 값(True/False) 이 모두 False 일 때에만 True 를 출력하는 프로그램을 작성해보자."
      ]
    },
    {
      "cell_type": "code",
      "source": [
        "a, b = map(int, input().split())\n",
        "a, b = bool(a), bool(b)\n",
        "if(a == False and b == False):\n",
        "  print(\"True\")\n",
        "else:\n",
        "  print(\"False\")"
      ],
      "metadata": {
        "colab": {
          "base_uri": "https://localhost:8080/"
        },
        "id": "yZp8eoaIbqYU",
        "outputId": "42382f45-6725-4057-922f-7300a5be365b"
      },
      "execution_count": 46,
      "outputs": [
        {
          "output_type": "stream",
          "name": "stdout",
          "text": [
            "0 0\n",
            "True\n"
          ]
        }
      ]
    }
  ]
}