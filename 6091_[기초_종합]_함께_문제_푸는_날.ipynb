{
  "nbformat": 4,
  "nbformat_minor": 0,
  "metadata": {
    "colab": {
      "name": "6091 [기초-종합] 함께 문제 푸는 날",
      "provenance": [],
      "authorship_tag": "ABX9TyMIwpSjiBhGEHlQo8/cj7DA",
      "include_colab_link": true
    },
    "kernelspec": {
      "name": "python3",
      "display_name": "Python 3"
    },
    "language_info": {
      "name": "python"
    }
  },
  "cells": [
    {
      "cell_type": "markdown",
      "metadata": {
        "id": "view-in-github",
        "colab_type": "text"
      },
      "source": [
        "<a href=\"https://colab.research.google.com/github/sangeon22/CodingTest-CodeUp100-Python/blob/main/6091_%5B%EA%B8%B0%EC%B4%88_%EC%A2%85%ED%95%A9%5D_%ED%95%A8%EA%BB%98_%EB%AC%B8%EC%A0%9C_%ED%91%B8%EB%8A%94_%EB%82%A0.ipynb\" target=\"_parent\"><img src=\"https://colab.research.google.com/assets/colab-badge.svg\" alt=\"Open In Colab\"/></a>"
      ]
    },
    {
      "cell_type": "code",
      "execution_count": 1,
      "metadata": {
        "colab": {
          "base_uri": "https://localhost:8080/",
          "height": 109
        },
        "id": "f6-q7FBXPQZY",
        "outputId": "0a50baa2-7610-4943-fdd1-d4a26f643ea5"
      },
      "outputs": [
        {
          "output_type": "execute_result",
          "data": {
            "text/plain": [
              "'\\n온라인 채점시스템에는 초등학생, 중고등학생, 대학생, 대학원생,\\n일반인, 군인, 프로그래머, 탑코더 등 아주 많은 사람들이 들어와 문제를 풀고 있는데,\\n\\n실시간 채점 정보는 메뉴의 채점기록(Judge Status)을 통해 살펴볼 수 있다.\\n\\n자! 여기서...잠깐..\\n같은 날 동시에 가입한 3명의 사람들이 온라인 채점시스템에 들어와 문제를 푸는 날짜가\\n매우 규칙적이라고 할 때, 다시 모두 함께 문제를 풀게 되는 그날은 언제일까?\\n\\n예를 들어 3명이 같은 날 가입/등업하고, 각각 3일마다, 7일마다, 9일마다\\n한 번씩 들어온다면, 처음 가입하고 63일 만에 다시 3명이 함께 문제를 풀게 된다.\\n\\n갑자기 힌트?\\n왠지 어려워 보이지 않는가?\\n수학에서 배운 최소공배수를 생각한 사람들도 있을 것이다. 하지만, 정보에서 배우고 경험하는\\n정보과학의 세상은 때때로 컴퓨터의 힘을 빌려 간단한 방법으로 해결할 수 있게 한다.\\n\\n아래의 코드를 읽고 이해한 후 도전해 보자.\\nday는 날 수, a/b/c는 방문 주기이다.\\n...\\nd = 1\\nwhile d%a!=0 or d%b!=0 or d%c!=0 :\\n  d += 1\\nprint(d)\\n...\\n\\n물론, 아주 많은 다양한 방법이 있을 수 있다.\\n\\n정보과학의 문제해결에 있어서 정답은?\\n하나가 아니라 주어진 시간/기억공간으로 정확한 결과를 얻을 수 있는 모든 방법이다.\\n\\n따라서, 모든 문제들에는 정답이 하나뿐만이 아니다.\\n새로운, 더 빠른, 더 간단한 방법을 다양하게 생각해보고 여러가지 방법으로 도전해 볼 수 있다.\\n'"
            ],
            "application/vnd.google.colaboratory.intrinsic+json": {
              "type": "string"
            }
          },
          "metadata": {},
          "execution_count": 1
        }
      ],
      "source": [
        "\"\"\"\n",
        "온라인 채점시스템에는 초등학생, 중고등학생, 대학생, 대학원생,\n",
        "일반인, 군인, 프로그래머, 탑코더 등 아주 많은 사람들이 들어와 문제를 풀고 있는데,\n",
        "\n",
        "실시간 채점 정보는 메뉴의 채점기록(Judge Status)을 통해 살펴볼 수 있다.\n",
        "\n",
        "자! 여기서...잠깐..\n",
        "같은 날 동시에 가입한 3명의 사람들이 온라인 채점시스템에 들어와 문제를 푸는 날짜가\n",
        "매우 규칙적이라고 할 때, 다시 모두 함께 문제를 풀게 되는 그날은 언제일까?\n",
        "\n",
        "예를 들어 3명이 같은 날 가입/등업하고, 각각 3일마다, 7일마다, 9일마다\n",
        "한 번씩 들어온다면, 처음 가입하고 63일 만에 다시 3명이 함께 문제를 풀게 된다.\n",
        "\n",
        "갑자기 힌트?\n",
        "왠지 어려워 보이지 않는가?\n",
        "수학에서 배운 최소공배수를 생각한 사람들도 있을 것이다. 하지만, 정보에서 배우고 경험하는\n",
        "정보과학의 세상은 때때로 컴퓨터의 힘을 빌려 간단한 방법으로 해결할 수 있게 한다.\n",
        "\n",
        "아래의 코드를 읽고 이해한 후 도전해 보자.\n",
        "day는 날 수, a/b/c는 방문 주기이다.\n",
        "...\n",
        "d = 1\n",
        "while d%a!=0 or d%b!=0 or d%c!=0 :\n",
        "  d += 1\n",
        "print(d)\n",
        "...\n",
        "\n",
        "물론, 아주 많은 다양한 방법이 있을 수 있다.\n",
        "\n",
        "정보과학의 문제해결에 있어서 정답은?\n",
        "하나가 아니라 주어진 시간/기억공간으로 정확한 결과를 얻을 수 있는 모든 방법이다.\n",
        "\n",
        "따라서, 모든 문제들에는 정답이 하나뿐만이 아니다.\n",
        "새로운, 더 빠른, 더 간단한 방법을 다양하게 생각해보고 여러가지 방법으로 도전해 볼 수 있다.\n",
        "\"\"\""
      ]
    },
    {
      "cell_type": "code",
      "source": [
        "a, b, c = map(int, input().split())\n",
        "i=0\n",
        "while True:\n",
        "  i = i + 1\n",
        "  if i%a==0 and i%b==0 and i%c==0:\n",
        "    print(i)\n",
        "    break"
      ],
      "metadata": {
        "colab": {
          "base_uri": "https://localhost:8080/"
        },
        "id": "562Nvy6BQPhi",
        "outputId": "268dbdb9-11f3-4735-fa60-59ee24927221"
      },
      "execution_count": 2,
      "outputs": [
        {
          "output_type": "stream",
          "name": "stdout",
          "text": [
            "3 7 9\n",
            "63\n"
          ]
        }
      ]
    }
  ]
}