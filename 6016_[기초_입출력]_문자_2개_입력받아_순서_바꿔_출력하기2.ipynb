{
  "nbformat": 4,
  "nbformat_minor": 0,
  "metadata": {
    "colab": {
      "name": "6016 [기초-입출력] 문자 2개 입력받아 순서 바꿔 출력하기2",
      "provenance": [],
      "authorship_tag": "ABX9TyPpll7/tmeUIzseahSDqJP0",
      "include_colab_link": true
    },
    "kernelspec": {
      "name": "python3",
      "display_name": "Python 3"
    },
    "language_info": {
      "name": "python"
    }
  },
  "cells": [
    {
      "cell_type": "markdown",
      "metadata": {
        "id": "view-in-github",
        "colab_type": "text"
      },
      "source": [
        "<a href=\"https://colab.research.google.com/github/sangeon22/CodingTest-CodeUp100-Python/blob/main/6016_%5B%EA%B8%B0%EC%B4%88_%EC%9E%85%EC%B6%9C%EB%A0%A5%5D_%EB%AC%B8%EC%9E%90_2%EA%B0%9C_%EC%9E%85%EB%A0%A5%EB%B0%9B%EC%95%84_%EC%88%9C%EC%84%9C_%EB%B0%94%EA%BF%94_%EC%B6%9C%EB%A0%A5%ED%95%98%EA%B8%B02.ipynb\" target=\"_parent\"><img src=\"https://colab.research.google.com/assets/colab-badge.svg\" alt=\"Open In Colab\"/></a>"
      ]
    },
    {
      "cell_type": "code",
      "execution_count": 1,
      "metadata": {
        "id": "TGiXQJVLwwM2"
      },
      "outputs": [],
      "source": [
        "# 공백을 두고 문자(character) 2개를 입력받아 순서를 바꿔 출력해보자."
      ]
    },
    {
      "cell_type": "code",
      "source": [
        "a,b = map(str, input().split())\n",
        "print(b)\n",
        "print(a)"
      ],
      "metadata": {
        "colab": {
          "base_uri": "https://localhost:8080/"
        },
        "id": "9FzpN03ow0xY",
        "outputId": "b73aaf37-80c3-4951-d192-ba45308ccf8b"
      },
      "execution_count": 9,
      "outputs": [
        {
          "output_type": "stream",
          "name": "stdout",
          "text": [
            "a b\n",
            "b\n",
            "a\n"
          ]
        }
      ]
    }
  ]
}