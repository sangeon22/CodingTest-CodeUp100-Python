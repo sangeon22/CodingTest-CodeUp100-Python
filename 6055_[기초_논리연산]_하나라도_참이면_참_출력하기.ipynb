{
  "nbformat": 4,
  "nbformat_minor": 0,
  "metadata": {
    "colab": {
      "name": "6055 [기초-논리연산] 하나라도 참이면 참 출력하기",
      "provenance": [],
      "authorship_tag": "ABX9TyNyRz50BgmqSkWF0JxFmNWI",
      "include_colab_link": true
    },
    "kernelspec": {
      "name": "python3",
      "display_name": "Python 3"
    },
    "language_info": {
      "name": "python"
    }
  },
  "cells": [
    {
      "cell_type": "markdown",
      "metadata": {
        "id": "view-in-github",
        "colab_type": "text"
      },
      "source": [
        "<a href=\"https://colab.research.google.com/github/sangeon22/CodingTest-CodeUp100-Python/blob/main/6055_%5B%EA%B8%B0%EC%B4%88_%EB%85%BC%EB%A6%AC%EC%97%B0%EC%82%B0%5D_%ED%95%98%EB%82%98%EB%9D%BC%EB%8F%84_%EC%B0%B8%EC%9D%B4%EB%A9%B4_%EC%B0%B8_%EC%B6%9C%EB%A0%A5%ED%95%98%EA%B8%B0.ipynb\" target=\"_parent\"><img src=\"https://colab.research.google.com/assets/colab-badge.svg\" alt=\"Open In Colab\"/></a>"
      ]
    },
    {
      "cell_type": "code",
      "execution_count": 8,
      "metadata": {
        "id": "vCbpM89HZyzQ"
      },
      "outputs": [],
      "source": [
        "# 2개의 정수값이 입력될 때,\n",
        "# 그 불 값이 하나라도 True 일 때에만 True 를 출력하는 프로그램을 작성해보자."
      ]
    },
    {
      "cell_type": "code",
      "source": [
        "a, b = map(int, input().split())\n",
        "print(bool(a) or bool(b))"
      ],
      "metadata": {
        "colab": {
          "base_uri": "https://localhost:8080/"
        },
        "id": "yZp8eoaIbqYU",
        "outputId": "e290f484-d08c-416b-8b2d-6dce05286297"
      },
      "execution_count": 21,
      "outputs": [
        {
          "output_type": "stream",
          "name": "stdout",
          "text": [
            "0 0\n",
            "False\n"
          ]
        }
      ]
    }
  ]
}