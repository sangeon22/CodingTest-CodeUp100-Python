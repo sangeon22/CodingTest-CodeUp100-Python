{
  "nbformat": 4,
  "nbformat_minor": 0,
  "metadata": {
    "colab": {
      "name": "6060 [기초-비트단위논리연산] 비트단위로 AND 하여 출력하기",
      "provenance": [],
      "authorship_tag": "ABX9TyM1fzQT9Ces62Pi0ZvU66J1",
      "include_colab_link": true
    },
    "kernelspec": {
      "name": "python3",
      "display_name": "Python 3"
    },
    "language_info": {
      "name": "python"
    }
  },
  "cells": [
    {
      "cell_type": "markdown",
      "metadata": {
        "id": "view-in-github",
        "colab_type": "text"
      },
      "source": [
        "<a href=\"https://colab.research.google.com/github/sangeon22/CodingTest-CodeUp100-Python/blob/main/6060_%5B%EA%B8%B0%EC%B4%88_%EB%B9%84%ED%8A%B8%EB%8B%A8%EC%9C%84%EB%85%BC%EB%A6%AC%EC%97%B0%EC%82%B0%5D_%EB%B9%84%ED%8A%B8%EB%8B%A8%EC%9C%84%EB%A1%9C_AND_%ED%95%98%EC%97%AC_%EC%B6%9C%EB%A0%A5%ED%95%98%EA%B8%B0.ipynb\" target=\"_parent\"><img src=\"https://colab.research.google.com/assets/colab-badge.svg\" alt=\"Open In Colab\"/></a>"
      ]
    },
    {
      "cell_type": "code",
      "execution_count": 8,
      "metadata": {
        "id": "vCbpM89HZyzQ"
      },
      "outputs": [],
      "source": [
        "# 입력된 정수 두 개를 비트단위로 and 연산한 후 그 결과를 정수로 출력해보자.\n",
        "# 비트단위(bitwise)연산자 &를 사용하면 된다.(and, ampersand, 앰퍼센드라고 읽는다.)"
      ]
    },
    {
      "cell_type": "code",
      "source": [
        "a, b = map(int, input().split())\n",
        "print(a&b)"
      ],
      "metadata": {
        "colab": {
          "base_uri": "https://localhost:8080/"
        },
        "id": "yZp8eoaIbqYU",
        "outputId": "de6eec2d-2411-4e5e-97e7-b4799f2460c0"
      },
      "execution_count": 49,
      "outputs": [
        {
          "output_type": "stream",
          "name": "stdout",
          "text": [
            "3 5\n",
            "1\n"
          ]
        }
      ]
    }
  ]
}