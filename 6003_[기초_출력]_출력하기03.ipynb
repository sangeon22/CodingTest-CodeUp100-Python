{
  "nbformat": 4,
  "nbformat_minor": 0,
  "metadata": {
    "colab": {
      "name": "6003 [기초-출력] 출력하기03",
      "provenance": [],
      "authorship_tag": "ABX9TyOalj4MiBly0Uh/e4qpM/uU",
      "include_colab_link": true
    },
    "kernelspec": {
      "name": "python3",
      "display_name": "Python 3"
    },
    "language_info": {
      "name": "python"
    }
  },
  "cells": [
    {
      "cell_type": "markdown",
      "metadata": {
        "id": "view-in-github",
        "colab_type": "text"
      },
      "source": [
        "<a href=\"https://colab.research.google.com/github/sangeon22/CodingTest-CodeUp100-Python/blob/main/6003_%5B%EA%B8%B0%EC%B4%88_%EC%B6%9C%EB%A0%A5%5D_%EC%B6%9C%EB%A0%A5%ED%95%98%EA%B8%B003.ipynb\" target=\"_parent\"><img src=\"https://colab.research.google.com/assets/colab-badge.svg\" alt=\"Open In Colab\"/></a>"
      ]
    },
    {
      "cell_type": "code",
      "execution_count": 1,
      "metadata": {
        "id": "WcHIdr9UhCC3"
      },
      "outputs": [],
      "source": [
        "# 이번에는 줄을 바꿔 출력하는 출력문을 연습해보자.\n",
        "# 다음과 같이 줄을 바꿔 출력해야 한다.\n",
        "\n",
        "# Hello\n",
        "# World\n",
        "#(두 줄에 걸쳐 줄을 바꿔 출력)"
      ]
    },
    {
      "cell_type": "code",
      "source": [
        "print(\"Hello\")\n",
        "print(\"World\")"
      ],
      "metadata": {
        "colab": {
          "base_uri": "https://localhost:8080/"
        },
        "id": "YClhDK7XhKC2",
        "outputId": "64ecee9f-06d0-42c5-ed4e-b2ff0d5d4054"
      },
      "execution_count": 2,
      "outputs": [
        {
          "output_type": "stream",
          "name": "stdout",
          "text": [
            "Hello\n",
            "World\n"
          ]
        }
      ]
    }
  ]
}