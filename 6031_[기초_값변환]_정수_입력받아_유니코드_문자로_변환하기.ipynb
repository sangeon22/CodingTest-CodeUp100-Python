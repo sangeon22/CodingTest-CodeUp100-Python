{
  "nbformat": 4,
  "nbformat_minor": 0,
  "metadata": {
    "colab": {
      "name": "6031 [기초-값변환] 정수 입력받아 유니코드 문자로 변환하기",
      "provenance": [],
      "authorship_tag": "ABX9TyMpv+uYi42IaJ7yc6NZey9a",
      "include_colab_link": true
    },
    "kernelspec": {
      "name": "python3",
      "display_name": "Python 3"
    },
    "language_info": {
      "name": "python"
    }
  },
  "cells": [
    {
      "cell_type": "markdown",
      "metadata": {
        "id": "view-in-github",
        "colab_type": "text"
      },
      "source": [
        "<a href=\"https://colab.research.google.com/github/sangeon22/CodingTest-CodeUp100-Python/blob/main/6031_%5B%EA%B8%B0%EC%B4%88_%EA%B0%92%EB%B3%80%ED%99%98%5D_%EC%A0%95%EC%88%98_%EC%9E%85%EB%A0%A5%EB%B0%9B%EC%95%84_%EC%9C%A0%EB%8B%88%EC%BD%94%EB%93%9C_%EB%AC%B8%EC%9E%90%EB%A1%9C_%EB%B3%80%ED%99%98%ED%95%98%EA%B8%B0.ipynb\" target=\"_parent\"><img src=\"https://colab.research.google.com/assets/colab-badge.svg\" alt=\"Open In Colab\"/></a>"
      ]
    },
    {
      "cell_type": "code",
      "execution_count": 1,
      "metadata": {
        "id": "bEbdEqiJHf_C"
      },
      "outputs": [],
      "source": [
        "# 10진 정수 1개를 입력받아\n",
        "# 유니코드 문자로 출력해보자."
      ]
    },
    {
      "cell_type": "code",
      "source": [
        "a = int(input())\n",
        "print(chr(a))\n"
      ],
      "metadata": {
        "colab": {
          "base_uri": "https://localhost:8080/"
        },
        "id": "0ZAWsiGkHjbs",
        "outputId": "d85a9812-eea8-4b82-8662-258a8edd35ca"
      },
      "execution_count": 3,
      "outputs": [
        {
          "output_type": "stream",
          "name": "stdout",
          "text": [
            "65\n",
            "A\n"
          ]
        }
      ]
    }
  ]
}